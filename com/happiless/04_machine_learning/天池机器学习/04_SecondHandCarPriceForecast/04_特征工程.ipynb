{
 "cells": [
  {
   "cell_type": "markdown",
   "metadata": {
    "collapsed": true
   },
   "source": [
    "### 特征工程\n",
    "##### 特征工程目标\n",
    "- 1. 对于特征进行进一步分析，并对于数据进行处理\n",
    "- 2. 完成对于特征工程的分析，并对于数据进行一些图表或文字总结并打卡\n",
    "\n",
    "##### 内容介绍\n",
    "常见的特征工程包括：\n",
    "- 1. 异常处理\n",
    "    通过箱线图分析删除异常值\n",
    "    BOX-COX转换(处理有偏分布)\n",
    "    长尾截断\n",
    "- 2. 特征归一化/标准化\n",
    "    "
   ]
  },
  {
   "cell_type": "code",
   "execution_count": null,
   "metadata": {},
   "outputs": [],
   "source": []
  }
 ],
 "metadata": {
  "kernelspec": {
   "display_name": "Python 3",
   "language": "python",
   "name": "python3"
  },
  "language_info": {
   "codemirror_mode": {
    "name": "ipython",
    "version": 3
   },
   "file_extension": ".py",
   "mimetype": "text/x-python",
   "name": "python",
   "nbconvert_exporter": "python",
   "pygments_lexer": "ipython3",
   "version": "3.7.8"
  }
 },
 "nbformat": 4,
 "nbformat_minor": 1
}