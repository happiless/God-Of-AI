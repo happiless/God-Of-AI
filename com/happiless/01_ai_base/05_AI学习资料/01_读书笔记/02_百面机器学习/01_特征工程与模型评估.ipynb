{
 "cells": [
  {
   "cell_type": "markdown",
   "id": "relevant-kuwait",
   "metadata": {},
   "source": [
    "### 1. 特征工程"
   ]
  },
  {
   "cell_type": "code",
   "execution_count": null,
   "id": "soviet-outdoors",
   "metadata": {},
   "outputs": [],
   "source": []
  },
  {
   "cell_type": "code",
   "execution_count": null,
   "id": "previous-directory",
   "metadata": {},
   "outputs": [],
   "source": []
  },
  {
   "cell_type": "code",
   "execution_count": 8,
   "id": "herbal-smoke",
   "metadata": {},
   "outputs": [],
   "source": [
    "def add(num=100):\n",
    "    s = ''\n",
    "    for i in range(num):\n",
    "        s += '123, '"
   ]
  },
  {
   "cell_type": "code",
   "execution_count": 16,
   "id": "portuguese-affiliation",
   "metadata": {},
   "outputs": [
    {
     "name": "stdout",
     "output_type": "stream",
     "text": [
      "CPU times: user 7.89 s, sys: 1.18 s, total: 9.07 s\n",
      "Wall time: 9.09 s\n"
     ]
    }
   ],
   "source": [
    "%time add(100000000)"
   ]
  },
  {
   "cell_type": "code",
   "execution_count": 10,
   "id": "accepted-dallas",
   "metadata": {},
   "outputs": [],
   "source": [
    "def add2(num=100):\n",
    "    s = []\n",
    "    for i in range(num):\n",
    "        s.append('123')\n",
    "    ', '.join(s)\n"
   ]
  },
  {
   "cell_type": "code",
   "execution_count": 15,
   "id": "animal-indiana",
   "metadata": {},
   "outputs": [
    {
     "name": "stdout",
     "output_type": "stream",
     "text": [
      "CPU times: user 7.16 s, sys: 492 ms, total: 7.66 s\n",
      "Wall time: 7.66 s\n"
     ]
    }
   ],
   "source": [
    "%time add2(100000000)"
   ]
  },
  {
   "cell_type": "code",
   "execution_count": null,
   "id": "signed-creek",
   "metadata": {},
   "outputs": [],
   "source": []
  },
  {
   "cell_type": "code",
   "execution_count": null,
   "id": "mediterranean-mailman",
   "metadata": {},
   "outputs": [],
   "source": []
  }
 ],
 "metadata": {
  "kernelspec": {
   "display_name": "Python 3",
   "language": "python",
   "name": "python3"
  },
  "language_info": {
   "codemirror_mode": {
    "name": "ipython",
    "version": 3
   },
   "file_extension": ".py",
   "mimetype": "text/x-python",
   "name": "python",
   "nbconvert_exporter": "python",
   "pygments_lexer": "ipython3",
   "version": "3.8.0"
  }
 },
 "nbformat": 4,
 "nbformat_minor": 5
}
