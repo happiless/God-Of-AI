{
 "cells": [
  {
   "cell_type": "markdown",
   "id": "vocational-smooth",
   "metadata": {},
   "source": [
    "### K近邻\n",
    "##### 1. k近邻模型\n",
    "- 1. 模型\n",
    "- 2. 距离度量\n",
    "- 3. k值得选择\n",
    "- 4. 分类决策规则\n"
   ]
  },
  {
   "cell_type": "markdown",
   "id": "affected-clarity",
   "metadata": {},
   "source": [
    "##### 2. k近邻法的实现: kd树\n",
    "- 1. 构造kd树\n",
    "- 2. 搜索kd树"
   ]
  },
  {
   "cell_type": "markdown",
   "id": "declared-marine",
   "metadata": {},
   "source": [
    "##### k-d tree算法原理及实现"
   ]
  },
  {
   "cell_type": "code",
   "execution_count": 1,
   "id": "alike-proposition",
   "metadata": {},
   "outputs": [],
   "source": [
    "from operator import itemgetter\n",
    "from lib2to3.pytree import Node\n",
    "\n",
    "def kd_tree(points, depth):\n",
    "    if len(points) == 0:\n",
    "        return None\n",
    "    cutting_dim = depth % len(points[0])\n",
    "    medium_index = len(points) // 2\n",
    "    points = sorted(points, key=itemgetter(cutting_dim))\n",
    "    node = Node(points[medium_index])\n",
    "    node.left"
   ]
  },
  {
   "cell_type": "code",
   "execution_count": null,
   "id": "serious-composer",
   "metadata": {},
   "outputs": [],
   "source": []
  }
 ],
 "metadata": {
  "kernelspec": {
   "display_name": "Python 3",
   "language": "python",
   "name": "python3"
  },
  "language_info": {
   "codemirror_mode": {
    "name": "ipython",
    "version": 3
   },
   "file_extension": ".py",
   "mimetype": "text/x-python",
   "name": "python",
   "nbconvert_exporter": "python",
   "pygments_lexer": "ipython3",
   "version": "3.8.0"
  }
 },
 "nbformat": 4,
 "nbformat_minor": 5
}
