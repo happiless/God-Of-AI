{
 "cells": [
  {
   "cell_type": "markdown",
   "id": "damaged-rebel",
   "metadata": {},
   "source": [
    "### 朴素贝叶斯\n",
    "- 朴素贝叶斯法是基于贝叶斯定理与特征条件独立假设的分类方法, 朴素贝叶斯实现简单，学习和预测效率很高\n",
    "- 1. 对于给定的数据集，首先基于特征独立条件独立假设学习输入/输出的联合概率分布；\n",
    "- 2. 然后基于模型，对给定的输入$ x $，利用贝叶斯定理求出后验概率最大的输出 $ y $；"
   ]
  },
  {
   "cell_type": "markdown",
   "id": "exceptional-geography",
   "metadata": {},
   "source": [
    "##### 1. 朴素贝叶斯法的学习与分类\n",
    "- 1.1. 基本方法\n",
    "- 1.2 后验概率最大化的含义\n",
    "\n",
    "##### 2. 朴素贝叶斯法的参数估计\n",
    "- 1.1 极大似然估计\n",
    "- 1.2 学习与分类算法\n",
    "- 1.3 贝叶斯估计\n",
    "$$ P_{\\lambda}(X^{(j)} = \\alpha_{jl} | Y = c_k) = \\frac{\\sum_i{i=1}{N}}{}$$"
   ]
  },
  {
   "cell_type": "code",
   "execution_count": null,
   "id": "greatest-cabinet",
   "metadata": {},
   "outputs": [],
   "source": []
  }
 ],
 "metadata": {
  "kernelspec": {
   "display_name": "Python 3",
   "language": "python",
   "name": "python3"
  },
  "language_info": {
   "codemirror_mode": {
    "name": "ipython",
    "version": 3
   },
   "file_extension": ".py",
   "mimetype": "text/x-python",
   "name": "python",
   "nbconvert_exporter": "python",
   "pygments_lexer": "ipython3",
   "version": "3.8.0"
  }
 },
 "nbformat": 4,
 "nbformat_minor": 5
}
