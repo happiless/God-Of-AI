{
 "cells": [
  {
   "cell_type": "markdown",
   "metadata": {},
   "source": [
    "### Numpy\n",
    "Numpy是科学计算基础库，提供大量科学计算相关功能，比如数据统计，随机数生成等。其提供最核心类型为多维数组类型(ndarray)。numpy支持向量处理ndarray对象，提高程序运算速度。\n",
    "\n",
    "ndarray:n-dimensional array object,任意维数的数组对象\n",
    "\n",
    "Numpy http://www.numpy.org/\n",
    "\n",
    "#### 使用方式\n",
    "安装numpy库  \n",
    "    &nbsp;pip install numpy  \n",
    "使用numpy库  \n",
    "    &nbsp;import numpy as np"
   ]
  },
  {
   "cell_type": "markdown",
   "metadata": {},
   "source": [
    "#### 数组创建\n",
    "Numpy提供很多函数创建数组，常用函数如下:\n",
    "* array\n",
    "* arange\n",
    "* ones/ones_like\n",
    "* zeros/zeros_like\n",
    "* empty/empty_like\n",
    "* full/full_like\n",
    "* eye/identity\n",
    "* linspace\n",
    "* logspace"
   ]
  },
  {
   "cell_type": "code",
   "execution_count": 2,
   "metadata": {
    "collapsed": true
   },
   "outputs": [],
   "source": [
    "import numpy as np"
   ]
  },
  {
   "cell_type": "code",
   "execution_count": null,
   "metadata": {
    "collapsed": true
   },
   "outputs": [],
   "source": [
    "# 使用array方法创建一维数组，传入参数为列表\n",
    "# n = np.array([1,2,3])\n",
    "# # python解释器不支持，ipython解释器才支持\n",
    "# display(n)\n",
    "# print(n)\n",
    "\n",
    "# 使用array创建多维数组，传入参数是嵌套列表\n",
    "n= np.array([[1,2],[3,4]])\n",
    "display(n)"
   ]
  },
  {
   "cell_type": "code",
   "execution_count": null,
   "metadata": {
    "collapsed": true
   },
   "outputs": [],
   "source": [
    "# arange方法类似python中range方法，传入参数也包含起始值，结束值和步长\n",
    "# n = np.arange(10)\n",
    "# n = np.arange(1,10)\n",
    "# n=np.arange(1,10,2)\n",
    "# n\n",
    "\n",
    "# 步长可以是浮点型，以及负数\n",
    "n = np.arange(3,1,-0.5)\n",
    "n"
   ]
  },
  {
   "cell_type": "code",
   "execution_count": null,
   "metadata": {
    "collapsed": true
   },
   "outputs": [],
   "source": [
    "# ones创建全为1的数组\n",
    "# shape  整型或者元祖\n",
    "# dtype  数据类型 默认numpy.float64\n",
    "n1 = np.ones(3)\n",
    "display(n1)\n",
    "\n",
    "n2 = np.ones((3,4))\n",
    "display(n2)\n",
    "\n",
    "np.ones((3,2))\n",
    "\n",
    "# ones_like:根据传入的数组形状创建全为1的数组\n",
    "n3 = np.ones_like(n2)\n",
    "display(n3)"
   ]
  },
  {
   "cell_type": "code",
   "execution_count": null,
   "metadata": {
    "collapsed": true
   },
   "outputs": [],
   "source": [
    "# zeros方法创建全为0的数组\n",
    "n1 = np.zeros(3)\n",
    "display(n1)\n",
    "\n",
    "n2 = np.zeros((3,4))\n",
    "display(n2)\n",
    "\n",
    "# zeros_like:根据传入的数组形状创建全为0的数组\n",
    "n3 = np.zeros_like(n2)\n",
    "display(n3)"
   ]
  },
  {
   "cell_type": "code",
   "execution_count": null,
   "metadata": {
    "collapsed": true
   },
   "outputs": [],
   "source": [
    "# empty创建全为空数组：注意，数据并不是设置为0，而是值未初始化，需要我们自己来初始化\n",
    "n1 = np.ones(3)\n",
    "n1 = None\n",
    "\n",
    "n1 = np.empty(3)\n",
    "display(n1)\n",
    "\n",
    "# empty_like 根据传入的数组形状创建全为空的数组\n",
    "n2 = np.empty_like(n1)\n",
    "display(n2)"
   ]
  },
  {
   "cell_type": "code",
   "execution_count": null,
   "metadata": {
    "collapsed": true
   },
   "outputs": [],
   "source": [
    "# full(shape,fill_value) 创建全为某个指定数据的数组\n",
    "#  shape 数组维度或者形状\n",
    "# fill_value 指定数据\n",
    "n1 = np.full((2,2),3)\n",
    "display(n1)\n",
    "\n",
    "# full_like:根据传入数组形状创建数组，同时指定全为某个数\n",
    "n2 = np.full_like(n1,4)\n",
    "display(n2)"
   ]
  },
  {
   "cell_type": "code",
   "execution_count": null,
   "metadata": {
    "collapsed": true
   },
   "outputs": [],
   "source": [
    "# eye和identity创建单位矩阵\n",
    "n1 = np.eye(3)\n",
    "display(n1)\n",
    "\n",
    "n2 = np.identity(3)\n",
    "display(n2)"
   ]
  },
  {
   "cell_type": "code",
   "execution_count": null,
   "metadata": {
    "collapsed": true
   },
   "outputs": [],
   "source": [
    "# linspace根据一定间隔创建等差数组\n",
    "# 1,2,3,4,5\n",
    "# endpoint=True  间隔 end-start/(num-1)\n",
    "n1 = np.linspace(1,5,num=5)\n",
    "display(n1)\n",
    "# 1,2,3...50\n",
    "n2 = np.linspace(1,50)\n",
    "display(n2)\n",
    "\n",
    "# endpoint=False  间隔 end-start/num\n",
    "# 5-1/5   4/5  0.8\n",
    "# 1 1.8 2.6 3.4 4.2\n",
    "n3 = np.linspace(1,5,num=5,endpoint=False)\n",
    "display(n3)"
   ]
  },
  {
   "cell_type": "code",
   "execution_count": null,
   "metadata": {
    "collapsed": true
   },
   "outputs": [],
   "source": [
    "# logspace根据指数函数创建等比数组\n",
    "# 1 2 4 8 \n",
    "n1 = np.logspace(0,3,num=4,base=2)\n",
    "display(n1)\n",
    "# 1 10 100 1000\n",
    "n2 = np.logspace(0,3,num=4)\n",
    "display(n2)"
   ]
  },
  {
   "cell_type": "markdown",
   "metadata": {},
   "source": [
    "#### 数组ndarray和列表(List)比较\n",
    "优势\n",
    "* 数组可与标量进行计算，数组之间可进行向量化计算\n",
    "* 数组在运算时，具有广播能力。\n",
    "* 数组底层使用c语言编写，运行速度快\n",
    "* 数组底层使用c数组的存储方式，节省内存空间\n"
   ]
  },
  {
   "cell_type": "code",
   "execution_count": null,
   "metadata": {
    "collapsed": true
   },
   "outputs": [],
   "source": [
    "# 班上同学的python成绩，统一加1分\n",
    "# 列表操作\n",
    "scores = [90,91,92]\n",
    "# 循环遍历列表\n",
    "for i in range(len(scores)):\n",
    "    scores[i]+=1\n",
    "display(scores)\n",
    "\n",
    "# 数组操作\n",
    "scores_ndarray = np.array([90,91,92])\n",
    "# 整体操作，不再需要循环遍历\n",
    "scores_ndarray+=1\n",
    "display(scores_ndarray)"
   ]
  },
  {
   "cell_type": "code",
   "execution_count": null,
   "metadata": {
    "collapsed": true
   },
   "outputs": [],
   "source": [
    "a = np.array([1,2,3,4])\n",
    "b = np.array([[1,1,1],[2,2,2]])\n",
    "\n",
    "display(a+b)"
   ]
  },
  {
   "cell_type": "code",
   "execution_count": null,
   "metadata": {
    "collapsed": true
   },
   "outputs": [],
   "source": []
  },
  {
   "cell_type": "markdown",
   "metadata": {},
   "source": [
    "#### 魔法命令\n",
    "魔法命令是ipython提供特殊命令，能实现一些特殊功能，比如统计时间(time/timeit)和占用内存(memit/mprun)等功能。  \n",
    "魔法命令两种形式:\n",
    "* % :行模式\n",
    "* %% :单元格模式"
   ]
  },
  {
   "cell_type": "markdown",
   "metadata": {},
   "source": [
    "#### time\n",
    "time 统计语句执行时间，被统计语句只执行一次\n",
    "#### timeit\n",
    "timeit可以循环多次执行被统计语句，得到平均执行时间，支持行模式和单元格模式。  \n",
    "timeit命令参数，–n 指定每轮测试次数，-r 指定测试轮数(默认为7)  \n",
    "单元格模式\n",
    "* 第一行语句(与timeit同一行语句)为初始化语句，作用为后续代码中变量提供初始化功能。\n",
    "* 初始化语句每轮测试只执行一次，且不参与计时。第二行至整个单元格末尾语句会执行相应次数，并参与计时。"
   ]
  },
  {
   "cell_type": "code",
   "execution_count": null,
   "metadata": {
    "collapsed": true
   },
   "outputs": [],
   "source": [
    "# 统计time.sleep(0.5)语句执行时间\n",
    "import time\n",
    "start = time.time()\n",
    "time.sleep(0.5)\n",
    "end = time.time()\n",
    "display(end-start)"
   ]
  },
  {
   "cell_type": "code",
   "execution_count": null,
   "metadata": {
    "collapsed": true
   },
   "outputs": [],
   "source": [
    "# time用来统计语句执行时间，被统计语句只执行一次\n",
    "%time time.sleep(0.5)"
   ]
  },
  {
   "cell_type": "code",
   "execution_count": null,
   "metadata": {
    "collapsed": true
   },
   "outputs": [],
   "source": [
    "%time a=1"
   ]
  },
  {
   "cell_type": "code",
   "execution_count": null,
   "metadata": {
    "collapsed": true
   },
   "outputs": [],
   "source": [
    "# 46.1 ns ± 2.75 ns per loop (mean ± std. dev. of 7 runs, 10000000 loops each)\n",
    "# 7 runs 运行7轮\n",
    "# 10000000 loops 每轮循环执行次数\n",
    "# 46.1 ns ± 2.75 ns per loop (mean ± std  均值是46.1 标准差是2.75 ns  【46.1 ns - 2.75，46.1 ns + 2.75】\n",
    "%timeit a=1"
   ]
  },
  {
   "cell_type": "code",
   "execution_count": null,
   "metadata": {
    "collapsed": true
   },
   "outputs": [],
   "source": [
    "# -n 每轮循环的次数\n",
    "# -r 执行轮数 默认是7轮\n",
    "%timeit -n 1000 -r 2 a=1"
   ]
  },
  {
   "cell_type": "code",
   "execution_count": null,
   "metadata": {
    "collapsed": true
   },
   "outputs": [],
   "source": [
    "%%time \n",
    "time.sleep(0.5)\n",
    "time.sleep(0.6)"
   ]
  },
  {
   "cell_type": "code",
   "execution_count": null,
   "metadata": {
    "collapsed": true
   },
   "outputs": [],
   "source": [
    "%%timeit -n 2 -r 2\n",
    "time.sleep(0.5)\n",
    "time.sleep(0.6)"
   ]
  },
  {
   "cell_type": "code",
   "execution_count": null,
   "metadata": {
    "collapsed": true
   },
   "outputs": [],
   "source": [
    "%%timeit -n 2 -r 3 print('初始化语句')\n",
    "print('hello world')\n",
    "# 单元格模式下，我们可以在timeit后面（同一行）使用初始化语句\n",
    "# 初始化语句作用为后续被统计的执行代码提供变量的初始化\n",
    "# 初始化语句执行次数由轮数来决定"
   ]
  },
  {
   "cell_type": "code",
   "execution_count": null,
   "metadata": {
    "collapsed": true
   },
   "outputs": [],
   "source": [
    "%%timeit li = list(range(100000))\n",
    "# 第一行作为初始化语句，不参与计时 操作\n",
    "# 对列表的+1操作，多行，故timeit使用单元格模式\n",
    "for i in range(len(li)):\n",
    "    li[i]+=1"
   ]
  },
  {
   "cell_type": "code",
   "execution_count": null,
   "metadata": {
    "collapsed": true
   },
   "outputs": [],
   "source": [
    "%%timeit a = np.arange(100000)\n",
    "# 1ms=1000us\n",
    "a+=1"
   ]
  },
  {
   "cell_type": "markdown",
   "metadata": {},
   "source": [
    "#### writefile\n",
    "将单元格内容写入到文件中。如果文件不存在则创建，如果文件存在，则覆盖文件。如果指定 –a 参数，则追加内容,不覆盖。"
   ]
  },
  {
   "cell_type": "code",
   "execution_count": 14,
   "metadata": {},
   "outputs": [
    {
     "name": "stdout",
     "output_type": "stream",
     "text": [
      "Appending to test.py\n"
     ]
    }
   ],
   "source": [
    "%%writefile -a  test.py\n",
    "print('update222222....')"
   ]
  },
  {
   "cell_type": "markdown",
   "metadata": {},
   "source": [
    "#### run  \n",
    "运行外部python文件，运行结束后，外部文件中定义的变量得到保留。  \n",
    "格式： %run 文件路径"
   ]
  },
  {
   "cell_type": "code",
   "execution_count": 21,
   "metadata": {},
   "outputs": [
    {
     "name": "stdout",
     "output_type": "stream",
     "text": [
      "1\n",
      "hello world\n"
     ]
    }
   ],
   "source": [
    "%run test.py"
   ]
  },
  {
   "cell_type": "code",
   "execution_count": 22,
   "metadata": {},
   "outputs": [
    {
     "data": {
      "text/plain": [
       "1"
      ]
     },
     "execution_count": 22,
     "metadata": {},
     "output_type": "execute_result"
    }
   ],
   "source": [
    "a"
   ]
  },
  {
   "cell_type": "markdown",
   "metadata": {},
   "source": [
    "#### memit  \n",
    "  分析语句内存使用情况。memit支持行模式与单元格模式。单元格模式下，初始化语句不会参与计算内存。第二行至整个单元格末尾会参与计算内存。  \n",
    "  说明：  \n",
    "* memit不是Ipython内置，需要安装memory_profiler模块(pip install memory_profiler)  \n",
    "* 安装后，需要通过%load_ext memory_profiler载入，才能使用\n"
   ]
  },
  {
   "cell_type": "code",
   "execution_count": null,
   "metadata": {
    "collapsed": true
   },
   "outputs": [],
   "source": [
    "%load_ext memory_profiler"
   ]
  },
  {
   "cell_type": "code",
   "execution_count": null,
   "metadata": {
    "collapsed": true
   },
   "outputs": [],
   "source": [
    "def m1():\n",
    "    print('hello world')"
   ]
  },
  {
   "cell_type": "code",
   "execution_count": 23,
   "metadata": {},
   "outputs": [
    {
     "name": "stdout",
     "output_type": "stream",
     "text": [
      "hello\n",
      "hello\n",
      "hello\n",
      "hello\n",
      "hello\n",
      "hello\n",
      "hello\n",
      "peak memory: 67.02 MiB, increment: 0.00 MiB\n"
     ]
    }
   ],
   "source": [
    "%memit m1()"
   ]
  },
  {
   "cell_type": "code",
   "execution_count": 24,
   "metadata": {},
   "outputs": [
    {
     "name": "stdout",
     "output_type": "stream",
     "text": [
      "peak memory: 67.02 MiB, increment: 0.00 MiB\n"
     ]
    }
   ],
   "source": [
    "%memit x=2"
   ]
  },
  {
   "cell_type": "markdown",
   "metadata": {},
   "source": [
    "#### mprun\n",
    "逐行分析语句内存使用情况，分析结果列如下：\n",
    "* Line 行号\n",
    "* Mem usage 内存使用大小\n",
    "* increment内存增量\n",
    "* Line content 代码内容\n",
    "\n",
    "说明：\n",
    "* mprun不是Ipython内置，需要安装memory_profiler模块\n",
    "* 安装后，需要通过%load_ext memory_profiler载入，才能使用\n",
    "* mprun测试的函数必须定义在独立模块中，不能定义在交互式Ipython环境中\n",
    "* 如果需要重新加载模块，可以调用importlib模块提供reload函数实现"
   ]
  },
  {
   "cell_type": "code",
   "execution_count": 24,
   "metadata": {},
   "outputs": [
    {
     "name": "stdout",
     "output_type": "stream",
     "text": [
      "Overwriting test2.py\n"
     ]
    }
   ],
   "source": [
    "%%writefile test2.py\n",
    "def m():\n",
    "    li1 = [i for i in range(20000)]\n",
    "    li2 = [i for i in range(400000)]"
   ]
  },
  {
   "cell_type": "code",
   "execution_count": 3,
   "metadata": {},
   "outputs": [
    {
     "name": "stdout",
     "output_type": "stream",
     "text": [
      "The memory_profiler extension is already loaded. To reload it, use:\n",
      "  %reload_ext memory_profiler\n"
     ]
    }
   ],
   "source": [
    "%load_ext memory_profiler"
   ]
  },
  {
   "cell_type": "code",
   "execution_count": 25,
   "metadata": {},
   "outputs": [
    {
     "data": {
      "text/plain": [
       "<module 'test2' from 'D:\\\\sxt_jupyter\\\\test2.py'>"
      ]
     },
     "execution_count": 25,
     "metadata": {},
     "output_type": "execute_result"
    }
   ],
   "source": [
    "# import test2\n",
    "\n",
    "# 修改代码后，想要再次导入代码所在的模块成功，需要使用importlib模块的relaod方法\n",
    "import importlib\n",
    "importlib.reload(test2)"
   ]
  },
  {
   "cell_type": "code",
   "execution_count": 26,
   "metadata": {},
   "outputs": [
    {
     "name": "stdout",
     "output_type": "stream",
     "text": [
      "\n"
     ]
    }
   ],
   "source": [
    "# %mprun -f 分析函数 执行语句\n",
    "%mprun -f test2.m test2.m()"
   ]
  },
  {
   "cell_type": "markdown",
   "metadata": {
    "collapsed": true
   },
   "source": [
    "#### 数组属性\n",
    "数组对象具有如下常用属性:  \n",
    "* ndim:n-dimension,维度\n",
    "* shape:形状，每个维度上相应长度\n",
    "* dtype:：数据类型\n",
    "* size:数组元素个数\n",
    "* itemsize:一个数组元素占用内存空间，字节为单位"
   ]
  },
  {
   "cell_type": "code",
   "execution_count": 7,
   "metadata": {},
   "outputs": [
    {
     "data": {
      "text/plain": [
       "1"
      ]
     },
     "metadata": {},
     "output_type": "display_data"
    },
    {
     "data": {
      "text/plain": [
       "2"
      ]
     },
     "metadata": {},
     "output_type": "display_data"
    },
    {
     "data": {
      "text/plain": [
       "(2, 3)"
      ]
     },
     "metadata": {},
     "output_type": "display_data"
    },
    {
     "data": {
      "text/plain": [
       "dtype('int32')"
      ]
     },
     "metadata": {},
     "output_type": "display_data"
    },
    {
     "data": {
      "text/plain": [
       "6"
      ]
     },
     "metadata": {},
     "output_type": "display_data"
    },
    {
     "data": {
      "text/plain": [
       "4"
      ]
     },
     "metadata": {},
     "output_type": "display_data"
    }
   ],
   "source": [
    "x = np.array([1,2,3])\n",
    "display(x.ndim)\n",
    "\n",
    "y = np.array([[1,2,3],[2,3,4]])\n",
    "display(y.ndim)\n",
    "\n",
    "# 返回数组对象形状，每个维度上长度,元祖\n",
    "display(y.shape)\n",
    "# 返回数据类型\n",
    "display(y.dtype)\n",
    "# 返回元素个数\n",
    "display(y.size)\n",
    "# 返回一个元素占用内存空间，字节为单位\n",
    "display(y.itemsize)"
   ]
  },
  {
   "cell_type": "markdown",
   "metadata": {},
   "source": [
    "#### 数据类型及转换\n",
    "* 创建数组时候，可使用dtype指定数组中元素类型\n",
    "* 如果没有指定，根据元素类型进行推断\n",
    "* 如果类型不同，会选择兼容类型\n",
    "* 使用astype函数转换数据类型"
   ]
  },
  {
   "cell_type": "code",
   "execution_count": 13,
   "metadata": {},
   "outputs": [
    {
     "data": {
      "text/plain": [
       "dtype('float32')"
      ]
     },
     "metadata": {},
     "output_type": "display_data"
    },
    {
     "data": {
      "text/plain": [
       "dtype('float64')"
      ]
     },
     "metadata": {},
     "output_type": "display_data"
    },
    {
     "data": {
      "text/plain": [
       "dtype('float64')"
      ]
     },
     "metadata": {},
     "output_type": "display_data"
    },
    {
     "data": {
      "text/plain": [
       "dtype('float64')"
      ]
     },
     "metadata": {},
     "output_type": "display_data"
    },
    {
     "data": {
      "text/plain": [
       "array([ 1,  2,  3, -4], dtype=int64)"
      ]
     },
     "metadata": {},
     "output_type": "display_data"
    }
   ],
   "source": [
    "# 使用dtype指定数组中元素类型\n",
    "x = np.array([1,2,3],dtype=np.float32)\n",
    "display(x.dtype)\n",
    "\n",
    "# 如果没有指定，根据元素类型进行推断\n",
    "y = np.array([1.1,2.1,3.1])\n",
    "display(y.dtype)\n",
    "\n",
    "# 如果类型不同，会选择兼容类型（向上）\n",
    "z = np.array([1.1,2,3,4])\n",
    "display(z.dtype)\n",
    "\n",
    "# 使用astype函数转换数据类型\n",
    "w = np.array([1.1,2.2,3.3,-4.4])\n",
    "display(w.dtype)\n",
    "m = w.astype(np.int64)\n",
    "display(m)"
   ]
  },
  {
   "cell_type": "markdown",
   "metadata": {
    "collapsed": true
   },
   "source": [
    "#### 改变数组形状\n",
    "我们可以通过数组对象的reshape方法(或者np的reshape函数)改变数组形状。\n",
    "说明：\n",
    "* nump中很多方法，既可以使用np来访问，也可以通过数组对象来访问"
   ]
  },
  {
   "cell_type": "code",
   "execution_count": null,
   "metadata": {
    "collapsed": true
   },
   "outputs": [],
   "source": [
    "# 一维数组改为多维数组\n",
    "x = np.arange(6)\n",
    "display(x)\n",
    "\n",
    "# 数组对象，reshape的参数可以是元祖，也可以将元祖中内容分开传入\n",
    "# y=x.reshape(3,2)\n",
    "# np的reshape方法，只能使用元祖传入,不能将元祖中内容分开传入\n",
    "y=np.reshape(x,3,2)\n",
    "display(y)\n",
    "# 多维数组改为1维数组\n",
    "# x = np.array([[1,2,3],[3,4,5]])\n",
    "# display(x)\n",
    "# # y = x.reshape((-1))\n",
    "# y = np.reshape(x,(-1))\n",
    "# display(y)\n"
   ]
  },
  {
   "cell_type": "markdown",
   "metadata": {
    "collapsed": true
   },
   "source": [
    "#### 索引与切片\n",
    "在python中，序列类型支持索引与切片。ndarray数组也支持类似操作。不过两者之间既有相同点，也有不同点。  \n",
    "* 相似点：数组对象也支持索引与切片，语法python中索引与切片类似  \n",
    "  \n",
    "* 不同点：数组切片返回的原数组数据视图。如果需要复制底层数组元素，可使用数组对象copy方法  \n",
    "注意：视图共享底层数组元素。"
   ]
  },
  {
   "cell_type": "code",
   "execution_count": 25,
   "metadata": {},
   "outputs": [
    {
     "data": {
      "text/plain": [
       "array([[0, 1, 2],\n",
       "       [3, 4, 5],\n",
       "       [6, 7, 8]])"
      ]
     },
     "metadata": {},
     "output_type": "display_data"
    },
    {
     "data": {
      "text/plain": [
       "array([3, 4, 5])"
      ]
     },
     "metadata": {},
     "output_type": "display_data"
    },
    {
     "data": {
      "text/plain": [
       "4"
      ]
     },
     "metadata": {},
     "output_type": "display_data"
    }
   ],
   "source": [
    "# 索引访问\n",
    "x = np.arange(9).reshape(3,3)\n",
    "display(x)\n",
    "# 从低维获取数据\n",
    "# x是2维数组，包含低维和高维，低维对应向下坐标轴，表示为0方向；高维对应向右 坐标轴，表示1方向。\n",
    "# x[1]从低维度，也就是从0方向上获取数据，即访问的第一行的数据\n",
    "display(x[1])\n",
    "display(x[1][1])"
   ]
  },
  {
   "cell_type": "code",
   "execution_count": 30,
   "metadata": {},
   "outputs": [
    {
     "data": {
      "text/plain": [
       "array([[0, 1, 2],\n",
       "       [3, 4, 5],\n",
       "       [6, 7, 8]])"
      ]
     },
     "metadata": {},
     "output_type": "display_data"
    },
    {
     "data": {
      "text/plain": [
       "array([[0, 1, 2],\n",
       "       [6, 7, 8]])"
      ]
     },
     "metadata": {},
     "output_type": "display_data"
    }
   ],
   "source": [
    "# 切片访问\n",
    "# 0 1 2\n",
    "# 3 4 5\n",
    "# 6 7 8\n",
    "x = np.arange(9).reshape(3,3)\n",
    "display(x)\n",
    "\n",
    "\n",
    "# 得到\n",
    "# 3 4 5\n",
    "# 6 7 8\n",
    "# y = x[1:3]\n",
    "# display(y)\n",
    "\n",
    "# 得到\n",
    "# 3 4\n",
    "# 6 7\n",
    "# y = x[1:3,0:2]\n",
    "# display(y)\n",
    "\n",
    "# 得到\n",
    "# 1 2\n",
    "# 4 5\n",
    "# 7 8\n",
    "# y = x[:,1:3]\n",
    "# display(y)\n",
    "\n",
    "# 得到\n",
    "# 1 2\n",
    "# 4 5\n",
    "# y = x[0:2,1:3]\n",
    "# display(y)\n",
    "\n",
    "# 得到 修改步长\n",
    "# 0 1 2\n",
    "# 6 7 8\n",
    "y = x[0:3:2,:]\n",
    "display(y)"
   ]
  },
  {
   "cell_type": "code",
   "execution_count": 39,
   "metadata": {},
   "outputs": [
    {
     "data": {
      "text/plain": [
       "array([1, 2, 3])"
      ]
     },
     "metadata": {},
     "output_type": "display_data"
    },
    {
     "data": {
      "text/plain": [
       "array([30,  2,  3])"
      ]
     },
     "metadata": {},
     "output_type": "display_data"
    }
   ],
   "source": [
    "# 切片得到新的数组,和原有的数组共享底层内存中数据，修改其中一方都会去影响对方的数据\n",
    "# 通过数组对象的copy方法得到新的数组，新的数组和原有数组之间不共享数据\n",
    "x = np.array([1,2,3])\n",
    "# y = x[:]\n",
    "\n",
    "# # y[0]=100\n",
    "# x[0]=200\n",
    "# display(x)\n",
    "# display(y)\n",
    "\n",
    "w = x.copy()\n",
    "w[0]=30\n",
    "display(x)\n",
    "display(w)"
   ]
  },
  {
   "cell_type": "code",
   "execution_count": 42,
   "metadata": {},
   "outputs": [
    {
     "data": {
      "text/plain": [
       "[1, 2, 3]"
      ]
     },
     "metadata": {},
     "output_type": "display_data"
    },
    {
     "data": {
      "text/plain": [
       "[10, 2, 3]"
      ]
     },
     "metadata": {},
     "output_type": "display_data"
    }
   ],
   "source": [
    "# 对列表切片操作,使用的浅拷贝，修改新的列表不会影响原有的列表\n",
    "li = [1,2,3]\n",
    "li2 = li[:]\n",
    "\n",
    "li2[0] = 10\n",
    "display(li)\n",
    "display(li2)"
   ]
  },
  {
   "cell_type": "markdown",
   "metadata": {
    "collapsed": true
   },
   "source": [
    "#### 整数数组进行索引\n",
    "当选取元素不连续时候，可以提供一个索引数组选择(或修改)对应索引位置元素。  \n",
    "说明\n",
    "* 通过整数数组索引，返回的是原数组拷贝\n",
    "* 可以提供多个一维数组索引，此时会将每个数组中内容对应作为索引，返回对应的元素\n"
   ]
  },
  {
   "cell_type": "code",
   "execution_count": 57,
   "metadata": {},
   "outputs": [
    {
     "data": {
      "text/plain": [
       "array([[ 0,  1,  2,  3],\n",
       "       [ 4,  5,  6,  7],\n",
       "       [ 8,  9, 10, 11],\n",
       "       [12, 13, 14, 15],\n",
       "       [16, 17, 18, 19]])"
      ]
     },
     "metadata": {},
     "output_type": "display_data"
    },
    {
     "data": {
      "text/plain": [
       "array([ 0,  2,  8, 10])"
      ]
     },
     "metadata": {},
     "output_type": "display_data"
    }
   ],
   "source": [
    "x = np.arange(20).reshape(5,4)\n",
    "display(x)\n",
    "# 获取第0 2 3,不连续数据\n",
    "# y = x[[0,2,3]]\n",
    "# display(y)\n",
    "\n",
    "# y[0][0]=100\n",
    "# display(y)\n",
    "\n",
    "# display(x)\n",
    "\n",
    "# 返回0 （0,0） 2  （0,2） 8 （2,0）10 （2,2）\n",
    "# [0,0,2,2]  [0,2,0,2]\n",
    "y= x[[0,0,2,2],[0,2,0,2]]\n",
    "display(y)"
   ]
  },
  {
   "cell_type": "code",
   "execution_count": null,
   "metadata": {
    "collapsed": true
   },
   "outputs": [],
   "source": []
  },
  {
   "cell_type": "markdown",
   "metadata": {},
   "source": [
    "#### 布尔数组进行索引\n",
    "我们可通过布尔数组对数组进行索引，获取对应的元素。获取数据原则，为True，获取对应位置，为False，不获取。  \n",
    "说明：\n",
    "* 索引布尔数组通过对现有数组计算得到\n",
    "* 逻辑运算符和python不同:and->&， or->|，not->~,条件组合时候，条件需用小括号"
   ]
  },
  {
   "cell_type": "code",
   "execution_count": 26,
   "metadata": {},
   "outputs": [
    {
     "data": {
      "text/plain": [
       "array([[ 0,  1,  2],\n",
       "       [ 3,  4,  5],\n",
       "       [ 6,  7,  8],\n",
       "       [ 9, 10, 11]])"
      ]
     },
     "metadata": {},
     "output_type": "display_data"
    },
    {
     "data": {
      "text/plain": [
       "array([[0, 1, 2],\n",
       "       [3, 4, 5]])"
      ]
     },
     "metadata": {},
     "output_type": "display_data"
    },
    {
     "data": {
      "text/plain": [
       "array([2, 3, 4])"
      ]
     },
     "execution_count": 26,
     "metadata": {},
     "output_type": "execute_result"
    }
   ],
   "source": [
    "x = np.arange(12).reshape(4,3)\n",
    "display(x)\n",
    "# 使用布尔数组获取第0行 1行数据\n",
    "y=x[[True,True,False,False]]\n",
    "display(y)\n",
    "\n",
    "# 大于5\n",
    "# x[x>5]\n",
    "\n",
    "# 大于1小于5数据返回\n",
    "x[(x>1) & (x<5)]"
   ]
  },
  {
   "cell_type": "markdown",
   "metadata": {
    "collapsed": true
   },
   "source": [
    "#### 数组扁平化\n",
    "我们可以通过调用ravel或flatten方法，对数组对象进行扁平化处理\n",
    "* np.ravel/ravel\n",
    "* flatten  \n",
    "两者区别在于，ravel返回数组原数组共享数据，而flatten返回原数组拷贝"
   ]
  },
  {
   "cell_type": "code",
   "execution_count": 33,
   "metadata": {},
   "outputs": [
    {
     "data": {
      "text/plain": [
       "array([[[ 0,  1],\n",
       "        [ 2,  3]],\n",
       "\n",
       "       [[ 4,  5],\n",
       "        [ 6,  7]],\n",
       "\n",
       "       [[ 8,  9],\n",
       "        [10, 11]]])"
      ]
     },
     "metadata": {},
     "output_type": "display_data"
    },
    {
     "data": {
      "text/plain": [
       "array([[[200,   1],\n",
       "        [  2,   3]],\n",
       "\n",
       "       [[  4,   5],\n",
       "        [  6,   7]],\n",
       "\n",
       "       [[  8,   9],\n",
       "        [ 10,  11]]])"
      ]
     },
     "metadata": {},
     "output_type": "display_data"
    },
    {
     "data": {
      "text/plain": [
       "array([200,   1,   2,   3,   4,   5,   6,   7,   8,   9,  10,  11])"
      ]
     },
     "metadata": {},
     "output_type": "display_data"
    }
   ],
   "source": [
    "x = np.arange(12).reshape(3,2,2)\n",
    "display(x)\n",
    "\n",
    "# y = np.ravel(x)\n",
    "# 返回的数组和原数组共享数据，修改返回数组影响原有数组\n",
    "y=x.ravel()\n",
    "y[0]=200\n",
    "\n",
    "# 返回的原数组拷贝，修改返回数组不影响原有数组\n",
    "# y = x.flatten()\n",
    "# y[0] = 100\n",
    "\n",
    "display(x)\n",
    "display(y)"
   ]
  },
  {
   "cell_type": "markdown",
   "metadata": {
    "collapsed": true
   },
   "source": [
    "#### 数组存储顺序\n",
    "在创建数组时，我们可以通过order参数指定数组元素存储顺序。存储顺序分为2种：\n",
    "* C: 按照行存储\n",
    "* F: 按照列存储  \n",
    "说明：order参数作用于两个步骤：一是数据抽取（扁平化处理）顺序;二是数据构建(数组填充)顺序"
   ]
  },
  {
   "cell_type": "code",
   "execution_count": 36,
   "metadata": {},
   "outputs": [
    {
     "data": {
      "text/plain": [
       "array([[1, 2],\n",
       "       [3, 4]])"
      ]
     },
     "metadata": {},
     "output_type": "display_data"
    },
    {
     "data": {
      "text/plain": [
       "array([[1, 3],\n",
       "       [2, 4]])"
      ]
     },
     "metadata": {},
     "output_type": "display_data"
    }
   ],
   "source": [
    "x = np.array([1,2,3,4]).reshape((2,2),order='C')\n",
    "y = np.array([1,2,3,4]).reshape((2,2),order='F')\n",
    "\n",
    "display(x)\n",
    "display(y)"
   ]
  },
  {
   "cell_type": "code",
   "execution_count": 37,
   "metadata": {},
   "outputs": [
    {
     "data": {
      "text/plain": [
       "array([[1, 2],\n",
       "       [3, 4]])"
      ]
     },
     "metadata": {},
     "output_type": "display_data"
    },
    {
     "data": {
      "text/plain": [
       "array([[1, 2],\n",
       "       [3, 4]])"
      ]
     },
     "metadata": {},
     "output_type": "display_data"
    }
   ],
   "source": [
    "x = np.array([[1,2],[3,4]]).reshape((2,2),order='C')\n",
    "y = np.array([[1,2],[3,4]]).reshape((2,2),order='F')\n",
    "\n",
    "display(x)\n",
    "display(y)"
   ]
  },
  {
   "cell_type": "markdown",
   "metadata": {
    "collapsed": true
   },
   "source": [
    "#### 通用函数ufunc(universal function)\n",
    "Numpy提供很多通用函数，它们可看做对应Python计算向量化版本\n",
    "* abs/fabs\n",
    "* cell/floor\n",
    "* exp\n",
    "* log/log2/log10\n",
    "* modf\n",
    "* sin/sinh/cos/cosh\n",
    "* sqrt"
   ]
  },
  {
   "cell_type": "code",
   "execution_count": 16,
   "metadata": {},
   "outputs": [
    {
     "data": {
      "text/plain": [
       "array([ -1.2,  10. ,   1.5])"
      ]
     },
     "metadata": {},
     "output_type": "display_data"
    },
    {
     "data": {
      "text/plain": [
       "(array([-0.2,  0. ,  0.5]), array([ -1.,  10.,   1.]))"
      ]
     },
     "execution_count": 16,
     "metadata": {},
     "output_type": "execute_result"
    }
   ],
   "source": [
    "x = np.array([-1.2,10,1.5])\n",
    "display(x)\n",
    "\n",
    "# np.abs(x)\n",
    "np.modf(x)"
   ]
  },
  {
   "cell_type": "markdown",
   "metadata": {
    "collapsed": true
   },
   "source": [
    "#### 统计函数\n",
    "Numpy具有如下常用统计函数\n",
    "* mean/sum\n",
    "* max/min\n",
    "* argmax/argmin\n",
    "* std/var\n",
    "* cumsum/cumprod"
   ]
  },
  {
   "cell_type": "code",
   "execution_count": 22,
   "metadata": {},
   "outputs": [
    {
     "data": {
      "text/plain": [
       "array([[1, 2],\n",
       "       [3, 4]])"
      ]
     },
     "metadata": {},
     "output_type": "display_data"
    },
    {
     "data": {
      "text/plain": [
       "array([ 1,  3,  6, 10], dtype=int32)"
      ]
     },
     "metadata": {},
     "output_type": "display_data"
    },
    {
     "data": {
      "text/plain": [
       "array([ 1,  2,  6, 24], dtype=int32)"
      ]
     },
     "metadata": {},
     "output_type": "display_data"
    }
   ],
   "source": [
    "# 统计函数如果只传入数组对象的话，它会对数组首先做一个扁平化处理，再对扁平化后的一维数组的所有的数据进行统计\n",
    "x = np.arange(1,5).reshape(2,2)\n",
    "display(x)\n",
    "\n",
    "# display(np.mean(x),np.sum(x))\n",
    "# display(np.max(x),np.min(x))\n",
    "# argmax 得到最大值对应索引值，argmin最小值对应索引值\n",
    "# display(np.argmax(x),np.argmin(x))\n",
    "# std标准差  var方差\n",
    "# display(np.std(x),np.var(x))\n",
    "# cumsum 累加和 cumprod 累乘\n",
    "display(np.cumsum(x),np.cumprod(x))"
   ]
  },
  {
   "cell_type": "markdown",
   "metadata": {
    "collapsed": true
   },
   "source": [
    "#### 轴(axis)\n",
    "可以指定axis参数改变统计的轴。在二维数组中，0表示竖直方向操作，1表示沿着水平方向操作。  \n",
    "超过二维的多维数组，轴相对复杂，可认为沿着轴所指定坐标变化方向，其他轴坐标不变。进行操作。比如轴是0，则根据第0个坐标变化方向"
   ]
  },
  {
   "cell_type": "markdown",
   "metadata": {},
   "source": [
    "1、为什么统计函数需要传入axis参数\n",
    "2、如何理解axis，特别数组维度超过2维时候\n",
    "\n",
    "    语文   数学\n",
    "zs  90     92\n",
    "ls  85     100"
   ]
  },
  {
   "cell_type": "code",
   "execution_count": 26,
   "metadata": {},
   "outputs": [
    {
     "data": {
      "text/plain": [
       "array([ 90, 100])"
      ]
     },
     "metadata": {},
     "output_type": "display_data"
    }
   ],
   "source": [
    "scores = np.array([[90,92],[85,100]])\n",
    "# axis=0，从竖直方向统计数据，获得语文的最高分，以及数学的最高分\n",
    "display(np.max(scores,axis=0))\n",
    "\n",
    "# 如果我们指定轴为0，第一个维度的坐标变化的，第二个维度的坐标不变"
   ]
  },
  {
   "cell_type": "code",
   "execution_count": 29,
   "metadata": {},
   "outputs": [
    {
     "data": {
      "text/plain": [
       "array([[[ 0,  1],\n",
       "        [ 2,  3]],\n",
       "\n",
       "       [[ 4,  5],\n",
       "        [ 6,  7]],\n",
       "\n",
       "       [[ 8,  9],\n",
       "        [10, 11]]])"
      ]
     },
     "metadata": {},
     "output_type": "display_data"
    },
    {
     "data": {
      "text/plain": [
       "array([[12, 15],\n",
       "       [18, 21]])"
      ]
     },
     "metadata": {},
     "output_type": "display_data"
    }
   ],
   "source": [
    "x = np.arange(12).reshape((3,2,2))\n",
    "display(x)\n",
    "display(x.sum(axis=0))"
   ]
  },
  {
   "cell_type": "markdown",
   "metadata": {
    "collapsed": true
   },
   "source": [
    "#### 连接和拆分函数\n",
    "* np.concatenate对多个数组按指定轴方向进行连接\n",
    "* np.vstack/np.hstack\n",
    "* np.split/np.hsplit/np.vsplit"
   ]
  },
  {
   "cell_type": "markdown",
   "metadata": {},
   "source": [
    "101班成绩\n",
    "数学   语文\n",
    "[[95,100],\n",
    " [96,98]]\n",
    "\n",
    "102班成绩\n",
    " 数学 语文\n",
    " [[97,98],\n",
    " [96,99],\n",
    " [95,94]]"
   ]
  },
  {
   "cell_type": "code",
   "execution_count": 83,
   "metadata": {},
   "outputs": [
    {
     "data": {
      "text/plain": [
       "array([[ 95, 100],\n",
       "       [ 96,  98],\n",
       "       [ 97,  98],\n",
       "       [ 96,  99],\n",
       "       [ 95,  94]])"
      ]
     },
     "metadata": {},
     "output_type": "display_data"
    },
    {
     "data": {
      "text/plain": [
       "[array([[ 95, 100],\n",
       "        [ 96,  98]]), array([[97, 98],\n",
       "        [96, 99]]), array([[95, 94]])]"
      ]
     },
     "metadata": {},
     "output_type": "display_data"
    }
   ],
   "source": [
    "# 对101班和102班成绩进行垂直连接，列数一致\n",
    "x = np.array([[95,100],\n",
    " [96,98]])\n",
    "y = np.array( [[97,98],\n",
    " [96,99],\n",
    " [95,94]])\n",
    "# display(x,y)\n",
    "\n",
    "# w = np.concatenate((x,y),axis=0)\n",
    "w = np.vstack((x,y))\n",
    "display(w)\n",
    "\n",
    "# 对w进行横向切分，将数据切分2部分\n",
    "# z = np.split(w,2,axis=1)\n",
    "# display(z)\n",
    "\n",
    "# 对w进行纵向切方，得到3部分数据 第0，1行，第2，3行  第4行\n",
    "z = np.split(w,[2,4],axis=0)\n",
    "display(z)"
   ]
  },
  {
   "cell_type": "markdown",
   "metadata": {
    "collapsed": true
   },
   "source": [
    "101班成绩\n",
    "数学   语文\n",
    "[[95,100],\n",
    " [96,98]]\n",
    "\n",
    "101班\n",
    "身高   体重\n",
    " [[175,65],\n",
    " [177,70]]\n",
    "175    65\n",
    "177    70"
   ]
  },
  {
   "cell_type": "code",
   "execution_count": 80,
   "metadata": {},
   "outputs": [
    {
     "data": {
      "text/plain": [
       "array([[ 95, 100],\n",
       "       [ 96,  98]])"
      ]
     },
     "metadata": {},
     "output_type": "display_data"
    },
    {
     "data": {
      "text/plain": [
       "array([[175,  65],\n",
       "       [177,  70]])"
      ]
     },
     "metadata": {},
     "output_type": "display_data"
    },
    {
     "data": {
      "text/plain": [
       "array([[ 95, 100, 175,  65],\n",
       "       [ 96,  98, 177,  70]])"
      ]
     },
     "metadata": {},
     "output_type": "display_data"
    },
    {
     "data": {
      "text/plain": [
       "[array([[ 95, 100, 175,  65]]), array([[ 96,  98, 177,  70]])]"
      ]
     },
     "metadata": {},
     "output_type": "display_data"
    }
   ],
   "source": [
    "# 对101班zs和ls成绩和身高及体重数据水平连接，保证行数一致\n",
    "x = np.array([[95,100],\n",
    " [96,98]])\n",
    "y = np.array( [[175,65],\n",
    " [177,70]])\n",
    "display(x,y)\n",
    "\n",
    "# w = np.concatenate((x,y),axis=1)\n",
    "w = np.hstack((x,y))\n",
    "display(w)\n",
    "\n",
    "z = np.split(w,2,axis=0)\n",
    "display(z)"
   ]
  },
  {
   "cell_type": "markdown",
   "metadata": {
    "collapsed": true
   },
   "source": [
    "#### 其他函数\n",
    "* any/all\n",
    "* transpose\n",
    "* dot\n",
    "* np.sort\n",
    "* np.argsort"
   ]
  },
  {
   "cell_type": "code",
   "execution_count": 103,
   "metadata": {},
   "outputs": [
    {
     "data": {
      "text/plain": [
       "False"
      ]
     },
     "metadata": {},
     "output_type": "display_data"
    },
    {
     "data": {
      "text/plain": [
       "False"
      ]
     },
     "metadata": {},
     "output_type": "display_data"
    }
   ],
   "source": [
    "# any和all运算时，数组元素为0 False 空返回False，其他返回True\n",
    "# any有一个数组元素返回True，any返回True\n",
    "x = np.array([0,0,False])\n",
    "display(x.any(),x.all())\n"
   ]
  },
  {
   "cell_type": "code",
   "execution_count": 109,
   "metadata": {},
   "outputs": [
    {
     "data": {
      "text/plain": [
       "array([[1, 2],\n",
       "       [3, 4]])"
      ]
     },
     "metadata": {},
     "output_type": "display_data"
    },
    {
     "data": {
      "text/plain": [
       "array([[1, 3],\n",
       "       [2, 4]])"
      ]
     },
     "metadata": {},
     "output_type": "display_data"
    }
   ],
   "source": [
    "# transpose对数组数据进行装置\n",
    "x = np.arange(1,5).reshape(2,2)\n",
    "display(x)\n",
    "\n",
    "# display(x.transpose())\n",
    "display(x.T)\n",
    "\n",
    "# 数组转置本质上轴的颠倒，对于二维数组a[i][j]-->a[j][ip]  a[0][1]-->a[1][0]\n",
    "# 传入参数，指定轴的颠倒顺序\n",
    "y = np.arange(1,13).reshape(3,2,2)\n",
    "# display(y)\n",
    "# # 如果tanspose方法不传入参数，默认前后颠倒  a[i][j][k]-->a[k][j][i]\n",
    "# # transpose(0,2,1)    a[i][j][k]-->a[i][k][j]\n",
    "# # \n",
    "# display(y.transpose(0,2,1))"
   ]
  },
  {
   "cell_type": "code",
   "execution_count": 113,
   "metadata": {},
   "outputs": [
    {
     "data": {
      "text/plain": [
       "array([[1, 2],\n",
       "       [3, 4]])"
      ]
     },
     "metadata": {},
     "output_type": "display_data"
    },
    {
     "data": {
      "text/plain": [
       "array([[2, 3],\n",
       "       [1, 2]])"
      ]
     },
     "metadata": {},
     "output_type": "display_data"
    },
    {
     "data": {
      "text/plain": [
       "array([[ 3,  6],\n",
       "       [ 9, 12]])"
      ]
     },
     "metadata": {},
     "output_type": "display_data"
    }
   ],
   "source": [
    "x = np.array([[1,2],[3,4]])\n",
    "y = np.array([[2,3],[1,2]])\n",
    "display(x,y)\n",
    "# 不是矩阵乘法运算\n",
    "# display(x*y)\n",
    "# 使用dot实现矩阵乘法（点积）运算\n",
    "# display(x.dot(y))\n",
    "display(x.dot(3))"
   ]
  },
  {
   "cell_type": "code",
   "execution_count": 120,
   "metadata": {},
   "outputs": [
    {
     "data": {
      "text/plain": [
       "array([[3, 2],\n",
       "       [1, 2]])"
      ]
     },
     "metadata": {},
     "output_type": "display_data"
    },
    {
     "data": {
      "text/plain": [
       "array([[1, 0],\n",
       "       [0, 1]], dtype=int64)"
      ]
     },
     "metadata": {},
     "output_type": "display_data"
    }
   ],
   "source": [
    "# sort 排序\n",
    "x = np.array([3,-1,2])\n",
    "# display(np.sort(x))\n",
    "y=np.array([[3,2],[1,2]])\n",
    "display(y)\n",
    "# sort对数组内容进行排序，默认按照最后一个轴的方向排序，如果是二维，按照水平方向排序，从小到大\n",
    "# display(np.sort(y,axis=1))\n",
    "# argsort 对数组内容对应的下标进行排序，\n",
    "display(np.argsort(y))"
   ]
  },
  {
   "cell_type": "markdown",
   "metadata": {},
   "source": [
    "#### 归一化矩阵\n",
    "将矩阵值转化为0到1区间  \n",
    "* 归一化公式：x-min/max-min  \n",
    "max为每列最大值，min为每列最小值"
   ]
  },
  {
   "cell_type": "markdown",
   "metadata": {},
   "source": [
    "90 1\n",
    "80 2\n",
    "70 2\n",
    "min 70 1\n",
    "max 90 2\n",
    "\n",
    "90-70/90-70=20/20=1\n",
    "80-70/90-70=10/20=0.5"
   ]
  },
  {
   "cell_type": "code",
   "execution_count": 5,
   "metadata": {},
   "outputs": [
    {
     "data": {
      "text/plain": [
       "array([[ 1. ,  0. ],\n",
       "       [ 0.5,  1. ],\n",
       "       [ 0. ,  1. ]])"
      ]
     },
     "execution_count": 5,
     "metadata": {},
     "output_type": "execute_result"
    }
   ],
   "source": [
    "x = np.array([[90,1],[80,2],[70,2]])\n",
    "# 得到0方向最大值\n",
    "max = x.max(0)\n",
    "# 得到0方向最小值\n",
    "min = x.min(0)\n",
    "# 得到max-min的范围值\n",
    "range = max-min\n",
    "\n",
    "# 矩阵减去min在0方向的复制，除以范围在0方向上复制\n",
    "shape = x.shape\n",
    "y = x - np.tile(min,(shape[0],1))\n",
    "y = y/np.tile(range,(shape[0],1))\n",
    "y"
   ]
  },
  {
   "cell_type": "code",
   "execution_count": 4,
   "metadata": {},
   "outputs": [
    {
     "data": {
      "text/plain": [
       "array([[1, 2, 1, 2]])"
      ]
     },
     "execution_count": 4,
     "metadata": {},
     "output_type": "execute_result"
    }
   ],
   "source": [
    "a = np.tile([1,2],(1,2))\n",
    "a"
   ]
  },
  {
   "cell_type": "code",
   "execution_count": null,
   "metadata": {
    "collapsed": true
   },
   "outputs": [],
   "source": []
  },
  {
   "cell_type": "code",
   "execution_count": null,
   "metadata": {
    "collapsed": true
   },
   "outputs": [],
   "source": []
  }
 ],
 "metadata": {
  "anaconda-cloud": {},
  "kernelspec": {
   "display_name": "Python 3",
   "language": "python",
   "name": "python3"
  },
  "language_info": {
   "codemirror_mode": {
    "name": "ipython",
    "version": 3
   },
   "file_extension": ".py",
   "mimetype": "text/x-python",
   "name": "python",
   "nbconvert_exporter": "python",
   "pygments_lexer": "ipython3",
   "version": "3.6.1"
  }
 },
 "nbformat": 4,
 "nbformat_minor": 1
}
