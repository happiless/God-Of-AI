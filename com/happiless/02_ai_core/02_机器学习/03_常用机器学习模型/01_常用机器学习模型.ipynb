{
 "cells": [
  {
   "cell_type": "markdown",
   "metadata": {
    "collapsed": true,
    "pycharm": {
     "name": "#%% md\n"
    }
   },
   "source": [
    "### Underfitting and Overfitting\n",
    "### One-hot and Embedding\n",
    "### Normalize and Scale\n",
    "### Machine Learning pipeline\n"
   ]
  },
  {
   "cell_type": "markdown",
   "metadata": {
    "pycharm": {
     "name": "#%% md\n"
    }
   },
   "source": [
    "### 常用机器学习模型\n",
    "##### 1. KNN\n",
    "##### 2. Decision Tree\n",
    "##### 3. Support vector machine\n",
    "##### 4. Bayes classifier\n",
    "##### 5. Boosting"
   ]
  },
  {
   "cell_type": "markdown",
   "metadata": {
    "pycharm": {
     "is_executing": false,
     "name": "#%% md\n"
    }
   },
   "source": [
    "### KNN的优点和缺点\n",
    "##### 优点\n",
    "- 容易实现\n",
    "- 模型容易调整, 可以方便的获取K的数量, 或者给不同距离的K进行加权\n",
    "- 适合解决各种复杂问题 (分类, 回归, 高维, 低维, 复杂关系, 简单关系)\n",
    "\n",
    "##### 缺点\n",
    "- KNN运行时间久\n",
    "- 容易被异常值影响\n",
    "- 所需空间大\n",
    "- 高维空间的距离区分度不大\n",
    "\n"
   ]
  },
  {
   "cell_type": "markdown",
   "metadata": {
    "pycharm": {
     "name": "#%% md\n"
    }
   },
   "source": [
    "### Bayes"
   ]
  },
  {
   "cell_type": "markdown",
   "metadata": {
    "pycharm": {
     "name": "#%% md\n"
    }
   },
   "source": [
    "### SVM\n",
    "https://zhuanlan.zhihu.com/p/76609851?from_voters_page=true\n",
    "##### 1. 通过一条直线将样本点进行分割\n",
    "1). If we define the labels with 1 and -1\n",
    "\n",
    "2). This can be written $ y_i (w * x_i - b) > 1 $\n",
    "\n",
    "3). This margin of closest points to this line is : $ \\frac{2}{||w||}$\n",
    "\n",
    "4). Minimize ||w|| subject to  $ y_i (w * x_i - b) > 1 $ ,for i == 1, ... , n\n",
    "\n",
    "5). We can use gradient descent to get the right  𝑤\n",
    "\n",
    "##### 2. 核函数：低维空间无法分割，通过核函数变换上升到高维空间\n",
    "##### 3. loss\n",
    "$$ loss = max(0, 1 - y_i(\\vec{w^t}\\vec{x_i} - b)) $$ \n",
    "loss 对 $ \\vec{w^t} $ 求导： $$ \\frac{\\partial{loss}}{\\partial{w}}$$\n",
    "##### 4. Add the regularization\n",
    "$$ loss = max(0, 1 - y_i(\\vec{w^t}\\vec{x_i} - b)) + \\lambda ||w||^2 $$"
   ]
  },
  {
   "cell_type": "code",
   "execution_count": 20,
   "metadata": {
    "pycharm": {
     "name": "#%%\n"
    }
   },
   "outputs": [],
   "source": [
    "import numpy as np\n",
    "import matplotlib.pyplot as plt\n",
    "\n",
    "label_a = np.random.normal(6, 2, size=(50, 2))\n",
    "label_b = np.random.normal(-6, 2, size=(50, 2))"
   ]
  },
  {
   "cell_type": "code",
   "execution_count": 106,
   "metadata": {
    "pycharm": {
     "name": "#%%\n"
    }
   },
   "outputs": [],
   "source": [
    "def f(x, k, b):\n",
    "    return k * x - b\n",
    "\n",
    "def svm(label_a, label_b, rand_num=100, dis_threshol=3):\n",
    "    k_and_b = []\n",
    "    label_a_x = label_a[:, 0]\n",
    "    label_b_x = label_b[:, 0]\n",
    "    for _ in range(rand_num):\n",
    "        k, b = (np.random.random(size=(1, 2)) * 10 - 5)[0]\n",
    "        if np.max(f(label_a_x, k, b)) <= -dis_threshol and np.min(f(label_b_x, k, b)) >= dis_threshol:\n",
    "            k_and_b.append((k, b))\n",
    "\n",
    "    plt.scatter(*zip(*label_a))\n",
    "    plt.scatter(*zip(*label_b))\n",
    "    for k, b in k_and_b:\n",
    "        x = np.c_[[label_a_x, label_b_x]]\n",
    "        plt.plot(x, f(x, k, b))\n",
    "    return k_and_b"
   ]
  },
  {
   "cell_type": "code",
   "execution_count": 115,
   "metadata": {
    "pycharm": {
     "name": "#%%\n"
    },
    "scrolled": true
   },
   "outputs": [
    {
     "data": {
      "text/plain": [
       "[(-4.954159779162288, -1.5448389783860472)]"
      ]
     },
     "execution_count": 115,
     "metadata": {},
     "output_type": "execute_result"
    },
    {
     "data": {
      "image/png": "[encoded data removed]",
      "text/plain": [
       "<Figure size 432x288 with 1 Axes>"
      ]
     },
     "metadata": {
      "needs_background": "light"
     },
     "output_type": "display_data"
    }
   ],
   "source": [
    "svm(label_a, label_b, rand_num=1000, dis_threshol=7)"
   ]
  },
  {
   "cell_type": "markdown",
   "metadata": {},
   "source": [
    "### Decision Tree\n",
    "##### 优点\n",
    "- 1. clear to explain\n",
    "- 2. could select salient features\n",
    "\n",
    "##### 缺点\n",
    "- 1. so sensitive\n",
    "- 2. fit ability is limited"
   ]
  },
  {
   "cell_type": "code",
   "execution_count": 116,
   "metadata": {},
   "outputs": [],
   "source": [
    "from sklearn.ensemble import RandomForestClassifier\n",
    "from sklearn.ensemble import VotingClassifier\n",
    "from sklearn.linear_model import LogisticRegression\n",
    "from sklearn.svm import SVC\n",
    "\n",
    "from sklearn.datasets import load_iris\n",
    "from sklearn.tree import DecisionTreeClassifier, export_graphviz"
   ]
  },
  {
   "cell_type": "code",
   "execution_count": 117,
   "metadata": {},
   "outputs": [],
   "source": [
    "iris_data = load_iris()\n",
    "x_data = iris_data.data\n",
    "y_data = iris_data.target"
   ]
  },
  {
   "cell_type": "code",
   "execution_count": 118,
   "metadata": {},
   "outputs": [
    {
     "data": {
      "text/plain": [
       "DecisionTreeClassifier()"
      ]
     },
     "execution_count": 118,
     "metadata": {},
     "output_type": "execute_result"
    }
   ],
   "source": [
    "tree_clf = DecisionTreeClassifier()\n",
    "tree_clf.fit(x_data, y_data)"
   ]
  },
  {
   "cell_type": "code",
   "execution_count": null,
   "metadata": {},
   "outputs": [],
   "source": [
    "export_graphviz(tree_clf, \n",
    "                out_file='iris_tree.dot', \n",
    "                feature_names=iris_data.feature_names, \n",
    "                class_names=iris_data.target_names, \n",
    "                rounded=True, \n",
    "                filled=True)\n",
    "!dot -Tpdf iris_tree.dot -o outfile.pdf"
   ]
  },
  {
   "cell_type": "markdown",
   "metadata": {
    "pycharm": {
     "name": "#%% md\n"
    }
   },
   "source": [
    "### Random Forest"
   ]
  },
  {
   "cell_type": "code",
   "execution_count": 127,
   "metadata": {},
   "outputs": [],
   "source": [
    "import pandas as pd\n",
    "import random\n",
    "\n",
    "from sklearn.datasets import load_boston\n",
    "from sklearn.tree import DecisionTreeRegressor\n",
    "from sklearn.model_selection import train_test_split\n",
    "from sklearn.metrics import r2_score"
   ]
  },
  {
   "cell_type": "code",
   "execution_count": 124,
   "metadata": {},
   "outputs": [],
   "source": [
    "data = load_boston()\n",
    "x_data = pd.DataFrame(data.data, columns=[data.feature_names])\n",
    "y_data = data.target"
   ]
  },
  {
   "cell_type": "code",
   "execution_count": 134,
   "metadata": {},
   "outputs": [],
   "source": [
    "# 随机抽样删除特征\n",
    "def random_select(df, drop_num=4):\n",
    "    columns = random.sample(list(df.columns), k=len(df.columns) - drop_num)\n",
    "    return df[columns]\n",
    "\n",
    "sample_x = random_select(x_data)\n",
    "\n",
    "X_train, X_test, y_train, y_test = train_test_split(sample_x, y_data, test_size=0.3)\n",
    "clf = DecisionTreeRegressor()\n",
    "clf.fit(X_train, y_train)\n",
    "print('DecisionTree train score: ', clf.score(X_train, y_train))\n",
    "print('DecisionTree test score: ', clf.score(X_test, y_test))"
   ]
  },
  {
   "cell_type": "code",
   "execution_count": 148,
   "metadata": {},
   "outputs": [],
   "source": [
    "def random_tree(X_train, X_test, y_train, y_test, drop_num=4):\n",
    "    X_train_sample = random_select(X_train, drop_num=drop_num)\n",
    "    X_test_sample = X_test[X_train_sample.columns]\n",
    "    clf = DecisionTreeRegressor()\n",
    "    clf.fit(X_train_sample, y_train)\n",
    "    \n",
    "    print('random tree train score: ', clf.score(X_train_sample, y_train))\n",
    "    print('random tree test score: ', clf.score(X_test_sample, y_test))\n",
    "    \n",
    "    y_pred = clf.predict(X_test_sample)\n",
    "    return y_pred\n",
    "\n",
    "def random_forest(X_train, X_test, y_train, y_test, tree_num=4):\n",
    "    y_pred = [random_tree(X_train, X_test, y_train, y_test) for _ in range(tree_num)]\n",
    "    return np.mean(y_pred, axis=0)"
   ]
  },
  {
   "cell_type": "code",
   "execution_count": 176,
   "metadata": {},
   "outputs": [
    {
     "name": "stdout",
     "output_type": "stream",
     "text": [
      "random tree train score:  1.0\n",
      "random tree test score:  0.3318240977672162\n",
      "random tree train score:  1.0\n",
      "random tree test score:  0.7609658630952756\n",
      "random tree train score:  1.0\n",
      "random tree test score:  0.6814862830039353\n",
      "random tree train score:  1.0\n",
      "random tree test score:  0.7472407128773455\n",
      "random tree train score:  1.0\n",
      "random tree test score:  0.7867356355763038\n",
      "random tree train score:  1.0\n",
      "random tree test score:  0.6933732509479176\n",
      "random tree train score:  1.0\n",
      "random tree test score:  0.5348006792817928\n",
      "random tree train score:  1.0\n",
      "random tree test score:  0.15327890419478996\n",
      "random tree train score:  1.0\n",
      "random tree test score:  0.7738859699815496\n",
      "random tree train score:  1.0\n",
      "random tree test score:  0.8098646982121396\n"
     ]
    },
    {
     "data": {
      "text/plain": [
       "0.8834750595788339"
      ]
     },
     "execution_count": 176,
     "metadata": {},
     "output_type": "execute_result"
    }
   ],
   "source": [
    "X_train, X_test, y_train, y_test = train_test_split(x_data, y_data, test_size=0.3)\n",
    "y_pred = random_forest(X_train, X_test, y_train, y_test, tree_num=10)\n",
    "r2_score(y_test, y_pred)"
   ]
  },
  {
   "cell_type": "markdown",
   "metadata": {
    "pycharm": {
     "name": "#%% md\n"
    }
   },
   "source": [
    "### Ensemble Learning 集成学习\n",
    "##### 可以集成多个回归或者分类模型来提高模型的能力"
   ]
  },
  {
   "cell_type": "code",
   "execution_count": 203,
   "metadata": {},
   "outputs": [],
   "source": [
    "from sklearn.linear_model import LinearRegression\n",
    "from sklearn.linear_model import LogisticRegression\n",
    "# https://zhuanlan.zhihu.com/p/76609851?from_voters_page=true\n",
    "from sklearn.svm import SVC\n",
    "from sklearn.svm import SVR\n",
    "from sklearn.ensemble import RandomForestRegressor\n",
    "from sklearn.ensemble import RandomForestClassifier\n",
    "from sklearn.ensemble import VotingRegressor # 集成学习做回归\n",
    "from sklearn.ensemble import VotingClassifier # 集成学习做分类"
   ]
  },
  {
   "cell_type": "code",
   "execution_count": 204,
   "metadata": {},
   "outputs": [],
   "source": [
    "def ensemble_regressor(X_train, X_test, y_train, y_test):\n",
    "    \n",
    "    lr_clf = LinearRegression()\n",
    "    svr_clf = SVR()\n",
    "    rfr_clf = RandomForestRegressor()\n",
    "\n",
    "    voting_clf = VotingRegressor(\n",
    "        estimators=[('lr', lr_clf), ('rf', rfr_clf), ('svr', svr_clf)]\n",
    "    )\n",
    "    voting_clf.fit(X_train, y_train)\n",
    "    print('voting classify train score', voting_clf.score(X_train, y_train))\n",
    "    print('voting classify test score', voting_clf.score(X_test, y_test))\n",
    "    return voting_clf.predict(X_test)\n",
    "\n",
    "def ensemble_classify(X_train, X_test, y_train, y_test):\n",
    "    lr_clf = LogisticRegression()\n",
    "    rfc_clf = RandomForestClassifier()\n",
    "    svc_clf = SVC()\n",
    "    \n",
    "    voting_clf = VotingClassifier(\n",
    "        estimators=[('lr', lr_clf), ('rf', rfc_clf), ('svc', svc_clf)], \n",
    "        voting='hard'\n",
    "    )\n",
    "    voting_clf.fit(X_train, y_train)\n",
    "    print('voting classify train score', voting_clf.score(X_train, y_train))\n",
    "    print('voting classify test score', voting_clf.score(X_test, y_test))\n",
    "    return voting_clf.predict(X_test)"
   ]
  },
  {
   "cell_type": "code",
   "execution_count": 205,
   "metadata": {},
   "outputs": [
    {
     "name": "stdout",
     "output_type": "stream",
     "text": [
      "voting classify train score 0.9725268528814655\n",
      "voting classify test score 0.9458407995122049\n",
      "voting classify train score 0.9904761904761905\n",
      "voting classify test score 0.9555555555555556\n"
     ]
    },
    {
     "data": {
      "text/plain": [
       "(array([2, 2, 1, 2, 2, 0, 1, 2, 1, 1, 1, 0, 2, 2, 0, 1, 2, 2, 0, 1, 0, 0,\n",
       "        1, 1, 0, 1, 2, 0, 0, 0, 0, 2, 2, 0, 0, 1, 0, 2, 0, 2, 1, 1, 2, 1,\n",
       "        2]),\n",
       " array([2, 2, 1, 2, 1, 0, 1, 1, 1, 1, 1, 0, 2, 2, 0, 1, 2, 2, 0, 1, 0, 0,\n",
       "        1, 1, 0, 1, 2, 0, 0, 0, 0, 2, 2, 0, 0, 1, 0, 2, 0, 2, 1, 1, 2, 1,\n",
       "        2]))"
      ]
     },
     "execution_count": 205,
     "metadata": {},
     "output_type": "execute_result"
    }
   ],
   "source": [
    "ensemble_regressor(X_train, X_test, y_train, y_test)\n",
    "from sklearn.datasets import load_iris\n",
    "data = load_iris()\n",
    "x_data = data.data\n",
    "y_data = data.target\n",
    "\n",
    "X_train, X_test, y_train, y_test = train_test_split(x_data, y_data, test_size=0.3)\n",
    "ensemble_classify(X_train, X_test, y_train, y_test), y_test"
   ]
  },
  {
   "cell_type": "markdown",
   "metadata": {
    "pycharm": {
     "name": "#%% md\n"
    }
   },
   "source": [
    "### Bagging and Boosting Learning\n",
    "https://blog.csdn.net/u014114990/article/details/50948079\n",
    "##### Bagging：\n",
    "原始数据集通过T次随机采样，得到T个与原始数据集相同大小的子数据集，分别训练得到T个弱分类器Classifier，然后结合为一个强分类器。\n",
    "将所有特征放到一个袋子里，然后抽取一些特征进行训练，然后对结果取均值\n",
    "##### Boosting：\n",
    "boosting也是通过重采样得到多个弱分类器，最后得到一个强分类器。区别是boosting是基于权值的弱分类器集成。\n",
    "##### Bagging与Boosting的区别\n",
    "1. 二者的主要区别是取样方式不同, Bagging采用均匀取样，而Boosting根据错误率来取样，因此Boosting的分类精度要优于Bagging\n",
    "2. Bagging可通过并行训练节省大量时间开销。\n",
    "3. bagging和boosting都可以有效地提高分类的准确性。\n",
    "4. boosting的准确性比bagging高,但是有可能引起过拟合\n",
    "##### AdaBoost\n",
    "adaboost就是我们最开始学习的时候，每个样本的权重是一样的，每学习一次就根据样本的错误率来更新一下样本权重，最后将这些预测的好的树给与不同的权重加在一起就组成了我们最后的模型\n",
    "##### GBDT\n",
    "GBDT核心思想就是每次树学习的目标是上一课树的残差，就是上一课树学习出来的结果与我们实际结果的差值；最后把所有树累加到一起就是我们最后的树模型"
   ]
  },
  {
   "cell_type": "markdown",
   "metadata": {
    "pycharm": {
     "name": "#%% md\n"
    }
   },
   "source": [
    "### AdaBoost & Gradient Descent Boost"
   ]
  },
  {
   "cell_type": "markdown",
   "metadata": {},
   "source": [
    "##### Adaptive Boosting：下一次学习会根据上一次学习的误差率更新样本权重，错误率高的权重更高，类似于学习的时候更关注错题\n",
    "1. 初始化 t 个弱分类器 $ D_t $\n",
    "2. 假设 $ h_t $ 属于{-1， +1}\n",
    "3. 获取 $ h_t$ 权重误差 \n",
    "$$ \\varepsilon_t = Pr_i{D_t}[h_t(x_i) != y_i ]$$\n",
    "4. 选择一个$\\alpha_t $, $ \\alpha_t = \\frac{1}{2}ln(\\frac{1 - \\varepsilon_t}{\\varepsilon_t}) $, $ \\varepsilon_t $ 越大，$\\alpha_t $ 越小\n",
    "5. 遍历 m 条数据, $ Z_t $ 是一个标准化因子\n",
    "$$ D_{t+1}(i) = \\frac{D_t(i)exp(-\\alpha_ty_ih_t(x_i))}{Z_t} $$\n",
    "6. 输出最终假设\n",
    "$$ H(x) = sign(\\sum_{t=1}^T \\alpha_t h_t(x)) $$"
   ]
  },
  {
   "attachments": {},
   "cell_type": "markdown",
   "metadata": {
    "pycharm": {
     "name": "#%% md\n"
    }
   },
   "source": [
    "![image.png](./img/AdaBoost.png)"
   ]
  },
  {
   "cell_type": "markdown",
   "metadata": {},
   "source": [
    "##### Gradient Boosting : 下一次学习是上一次学习的残差\n",
    "1. "
   ]
  },
  {
   "attachments": {},
   "cell_type": "markdown",
   "metadata": {},
   "source": [
    "![image.png](./img/GBDT.png)"
   ]
  },
  {
   "cell_type": "code",
   "execution_count": 226,
   "metadata": {
    "scrolled": true
   },
   "outputs": [
    {
     "data": {
      "image/png": "[encoded data removed]",
      "text/plain": [
       "<Figure size 432x288 with 1 Axes>"
      ]
     },
     "metadata": {
      "needs_background": "light"
     },
     "output_type": "display_data"
    }
   ],
   "source": [
    "def func(x):\n",
    "    return np.log10((1 - x) / x)\n",
    "\n",
    "\n",
    "for _ in range(100):\n",
    "    x = np.random.random(size=(1, 2))[0][0]\n",
    "    plt.scatter(x, func(x))"
   ]
  },
  {
   "cell_type": "code",
   "execution_count": null,
   "metadata": {},
   "outputs": [],
   "source": []
  }
 ],
 "metadata": {
  "kernelspec": {
   "display_name": "Python 3",
   "language": "python",
   "name": "python3"
  },
  "language_info": {
   "codemirror_mode": {
    "name": "ipython",
    "version": 3
   },
   "file_extension": ".py",
   "mimetype": "text/x-python",
   "name": "python",
   "nbconvert_exporter": "python",
   "pygments_lexer": "ipython3",
   "version": "3.7.8"
  }
 },
 "nbformat": 4,
 "nbformat_minor": 1
}