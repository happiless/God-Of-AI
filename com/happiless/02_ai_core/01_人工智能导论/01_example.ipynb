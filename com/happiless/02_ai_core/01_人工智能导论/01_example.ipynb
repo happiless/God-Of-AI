{
 "cells": [
  {
   "cell_type": "code",
   "execution_count": 1,
   "outputs": [
    {
     "name": "stdout",
     "text": [
      "Defaulting to user installation because normal site-packages is not writeable\r\n",
      "Looking in indexes: http://mirrors.aliyun.com/pypi/simple/\r\n",
      "Collecting icecream\r\n",
      "  Downloading http://mirrors.aliyun.com/pypi/packages/31/cc/5454531fe9ae123720b496fdea806e282843d6e75e5718a5e8b1d8e5c47f/icecream-2.1.0-py2.py3-none-any.whl (8.0 kB)\r\n",
      "Collecting asttokens>=2.0.1\r\n",
      "  Downloading http://mirrors.aliyun.com/pypi/packages/62/e9/247023d33dc110117b831cbfe47bb553e10d0edf92297ace745256402d42/asttokens-2.0.4-py2.py3-none-any.whl (20 kB)\r\n",
      "Collecting executing>=0.3.1\r\n",
      "  Downloading http://mirrors.aliyun.com/pypi/packages/e9/3d/2c2cf37d6194fa93c35e7ba6ab5aaa841a9b1b788fc322b01e53e0602049/executing-0.5.4-py3-none-any.whl (12 kB)\r\n",
      "Requirement already satisfied: pygments>=2.2.0 in /Users/zhanghaibin/Library/Python/3.7/lib/python/site-packages (from icecream) (2.6.1)\r\n",
      "Collecting colorama>=0.3.9\r\n",
      "  Downloading http://mirrors.aliyun.com/pypi/packages/44/98/5b86278fbbf250d239ae0ecb724f8572af1c91f4a11edf4d36a206189440/colorama-0.4.4-py2.py3-none-any.whl (16 kB)\r\n",
      "Requirement already satisfied: six in /Users/zhanghaibin/Library/Python/3.7/lib/python/site-packages (from asttokens>=2.0.1->icecream) (1.14.0)\r\n",
      "Installing collected packages: asttokens, executing, colorama, icecream\r\n",
      "Successfully installed asttokens-2.0.4 colorama-0.4.4 executing-0.5.4 icecream-2.1.0\r\n",
      "\u001b[33mWARNING: You are using pip version 20.2.4; however, version 21.0.1 is available.\r\nYou should consider upgrading via the '/Library/Developer/CommandLineTools/usr/bin/python3 -m pip install --upgrade pip' command.\u001b[0m\r\n"
     ],
     "output_type": "stream"
    }
   ],
   "source": [
    "!pip install icecream"
   ],
   "metadata": {
    "collapsed": false,
    "pycharm": {
     "name": "#%%\n",
     "is_executing": false
    }
   }
  },
  {
   "cell_type": "code",
   "execution_count": 72,
   "outputs": [
    {
     "data": {
      "text/plain": "[['复合句子 ', ' 句子 , 连词 句子'],\n ['连词 ', ' 而且 | 但是 | 不过'],\n ['句子 ', ' 主语 谓语 宾语'],\n ['主语 ', ' 你 | 我 | 他'],\n ['谓语 ', ' 吃 | 玩'],\n ['宾语 ', ' 桃子 | 皮球']]"
     },
     "metadata": {},
     "output_type": "execute_result",
     "execution_count": 72
    }
   ],
   "source": [
    "import random\n",
    "\n",
    "rules = \"\"\"\n",
    "复合句子 = 句子 , 连词 句子\n",
    "连词 = 而且 | 但是 | 不过\n",
    "句子 = 主语 谓语 宾语\n",
    "主语 = 你 | 我 | 他\n",
    "谓语 = 吃 | 玩\n",
    "宾语 = 桃子 | 皮球\n",
    "\"\"\"\n",
    "rules_pattern = [r.split(\"=\") for r in rules.split(\"\\n\") if r.strip()]\n",
    "rules_pattern"
   ],
   "metadata": {
    "collapsed": false,
    "pycharm": {
     "name": "#%%\n",
     "is_executing": false
    }
   }
  },
  {
   "cell_type": "code",
   "execution_count": 73,
   "outputs": [],
   "source": [
    "def rules_parser(description:str):\n",
    "    rules_pattern = [r.split(\"=\") for r in description.split(\"\\n\") if r.strip()]\n",
    "    grammer = {r[0].strip():r[1].split(\"|\")  for r in rules_pattern}\n",
    "    return grammer"
   ],
   "metadata": {
    "collapsed": false,
    "pycharm": {
     "name": "#%%\n",
     "is_executing": false
    }
   }
  },
  {
   "cell_type": "code",
   "execution_count": 76,
   "outputs": [
    {
     "data": {
      "text/plain": "{'复合句子': [' 句子 , 连词 句子'],\n '连词': [' 而且 ', ' 但是 ', ' 不过'],\n '句子': [' 主语 谓语 宾语'],\n '主语': [' 你 ', ' 我 ', ' 他'],\n '谓语': [' 吃 ', ' 玩'],\n '宾语': [' 桃子 ', ' 皮球']}"
     },
     "metadata": {},
     "output_type": "execute_result",
     "execution_count": 76
    }
   ],
   "source": [
    "grammer = rules_parser(rules)\n",
    "grammer"
   ],
   "metadata": {
    "collapsed": false,
    "pycharm": {
     "name": "#%%\n",
     "is_executing": false
    }
   }
  },
  {
   "cell_type": "code",
   "execution_count": 77,
   "outputs": [],
   "source": [
    "def generate_by_grammer(grammer, target=\"句子\"):\n",
    "    if target not in grammer: return target\n",
    "    return ''.join([generate_by_grammer(grammer, t) for t in random.choice(grammer[target]).split()])"
   ],
   "metadata": {
    "collapsed": false,
    "pycharm": {
     "name": "#%%\n",
     "is_executing": false
    }
   }
  },
  {
   "cell_type": "code",
   "execution_count": 78,
   "outputs": [
    {
     "data": {
      "text/plain": "'他吃桃子'"
     },
     "metadata": {},
     "output_type": "execute_result",
     "execution_count": 78
    }
   ],
   "source": [
    "generate_by_grammer(grammer)"
   ],
   "metadata": {
    "collapsed": false,
    "pycharm": {
     "name": "#%%\n",
     "is_executing": false
    }
   }
  },
  {
   "cell_type": "code",
   "execution_count": 79,
   "outputs": [
    {
     "data": {
      "text/plain": "[' 主语 谓语 宾语']"
     },
     "metadata": {},
     "output_type": "execute_result",
     "execution_count": 79
    }
   ],
   "source": [
    "grammer[\"句子\"]\n",
    "# random.choice(grammer[\"句子\"]).split(\" \")\n"
   ],
   "metadata": {
    "collapsed": false,
    "pycharm": {
     "name": "#%%\n",
     "is_executing": false
    }
   }
  },
  {
   "cell_type": "code",
   "execution_count": 85,
   "outputs": [
    {
     "data": {
      "text/plain": "'我玩皮球,不过你吃桃子'"
     },
     "metadata": {},
     "output_type": "execute_result",
     "execution_count": 85
    }
   ],
   "source": [
    "generate_by_grammer(grammer, \"复合句子\")"
   ],
   "metadata": {
    "collapsed": false,
    "pycharm": {
     "name": "#%%\n",
     "is_executing": false
    }
   }
  },
  {
   "cell_type": "code",
   "execution_count": null,
   "outputs": [],
   "source": [
    "\n"
   ],
   "metadata": {
    "collapsed": false,
    "pycharm": {
     "name": "#%%\n"
    }
   }
  }
 ],
 "metadata": {
  "language_info": {
   "codemirror_mode": {
    "name": "ipython",
    "version": 2
   },
   "file_extension": ".py",
   "mimetype": "text/x-python",
   "name": "python",
   "nbconvert_exporter": "python",
   "pygments_lexer": "ipython2",
   "version": "2.7.6"
  },
  "kernelspec": {
   "name": "python3",
   "language": "python",
   "display_name": "Python 3"
  },
  "pycharm": {
   "stem_cell": {
    "cell_type": "raw",
    "source": [],
    "metadata": {
     "collapsed": false
    }
   }
  }
 },
 "nbformat": 4,
 "nbformat_minor": 0
}