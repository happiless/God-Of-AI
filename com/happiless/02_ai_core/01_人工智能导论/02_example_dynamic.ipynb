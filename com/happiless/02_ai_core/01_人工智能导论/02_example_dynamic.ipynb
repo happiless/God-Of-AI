{
 "cells": [
  {
   "cell_type": "code",
   "execution_count": 2,
   "metadata": {
    "collapsed": true
   },
   "outputs": [],
   "source": [
    "from collections import defaultdict\n",
    "from functools import wraps\n",
    "\n",
    "original_price = [1, 5, 8, 9, 10, 17, 17, 20, 24, 30, 33]\n",
    "price = defaultdict(int)\n",
    "for i, p in enumerate(original_price):\n",
    "    price[i+1] = p"
   ]
  },
  {
   "cell_type": "code",
   "execution_count": 3,
   "outputs": [
    {
     "data": {
      "text/plain": "defaultdict(int,\n            {1: 1,\n             2: 5,\n             3: 8,\n             4: 9,\n             5: 10,\n             6: 17,\n             7: 17,\n             8: 20,\n             9: 24,\n             10: 30,\n             11: 33})"
     },
     "execution_count": 3,
     "metadata": {},
     "output_type": "execute_result"
    }
   ],
   "source": [
    "price"
   ],
   "metadata": {
    "collapsed": false,
    "pycharm": {
     "name": "#%%\n"
    }
   }
  },
  {
   "cell_type": "code",
   "execution_count": 4,
   "outputs": [],
   "source": [
    "def memo(func):\n",
    "    _cache = {}\n",
    "    @wraps(func)\n",
    "    def _wrap(n):\n",
    "        if n in _cache: result = _cache[n]\n",
    "        else:\n",
    "            result = func(n)\n",
    "            _cache[n] = result\n",
    "        return result\n",
    "    return _wrap\n",
    "\n",
    "    "
   ],
   "metadata": {
    "collapsed": false,
    "pycharm": {
     "name": "#%%\n"
    }
   }
  },
  {
   "cell_type": "code",
   "execution_count": 5,
   "outputs": [],
   "source": [
    "solution = {}\n",
    "@memo\n",
    "def r(n):\n",
    "    max_price, split_point = max([(price[n], 0)] + [(r(i) + r(n-i), i) for i in range(1, n)], key=lambda x:x[0])\n",
    "    solution[n] = (split_point, n - split_point)\n",
    "    return max_price\n"
   ],
   "metadata": {
    "collapsed": false,
    "pycharm": {
     "name": "#%%\n"
    }
   }
  },
  {
   "cell_type": "code",
   "execution_count": 6,
   "outputs": [
    {
     "data": {
      "text/plain": "150"
     },
     "execution_count": 6,
     "metadata": {},
     "output_type": "execute_result"
    }
   ],
   "source": [
    "r(50)\n"
   ],
   "metadata": {
    "collapsed": false,
    "pycharm": {
     "name": "#%%\n"
    }
   }
  },
  {
   "cell_type": "code",
   "execution_count": 7,
   "outputs": [
    {
     "data": {
      "text/plain": "{1: (0, 1),\n 2: (0, 2),\n 3: (0, 3),\n 4: (2, 2),\n 5: (2, 3),\n 6: (0, 6),\n 7: (1, 6),\n 8: (2, 6),\n 9: (3, 6),\n 10: (0, 10),\n 11: (0, 11),\n 12: (2, 10),\n 13: (2, 11),\n 14: (3, 11),\n 15: (2, 13),\n 16: (6, 10),\n 17: (6, 11),\n 18: (2, 16),\n 19: (2, 17),\n 20: (10, 10),\n 21: (10, 11),\n 22: (11, 11),\n 23: (2, 21),\n 24: (2, 22),\n 25: (3, 22),\n 26: (6, 20),\n 27: (6, 21),\n 28: (6, 22),\n 29: (2, 27),\n 30: (10, 20),\n 31: (10, 21),\n 32: (10, 22),\n 33: (11, 22),\n 34: (2, 32),\n 35: (2, 33),\n 36: (3, 33),\n 37: (6, 31),\n 38: (6, 32),\n 39: (6, 33),\n 40: (10, 30),\n 41: (10, 31),\n 42: (10, 32),\n 43: (10, 33),\n 44: (11, 33),\n 45: (2, 43),\n 46: (2, 44),\n 47: (3, 44),\n 48: (6, 42),\n 49: (6, 43),\n 50: (10, 40)}"
     },
     "execution_count": 7,
     "metadata": {},
     "output_type": "execute_result"
    }
   ],
   "source": [
    "solution"
   ],
   "metadata": {
    "collapsed": false,
    "pycharm": {
     "name": "#%%\n"
    }
   }
  },
  {
   "cell_type": "code",
   "execution_count": 8,
   "outputs": [],
   "source": [
    "def not_cut(split): return split == 0"
   ],
   "metadata": {
    "collapsed": false,
    "pycharm": {
     "name": "#%%\n"
    }
   }
  },
  {
   "cell_type": "code",
   "execution_count": 9,
   "outputs": [],
   "source": [
    "def parse_solution(target_length, revenue_solution):\n",
    "    left, right = revenue_solution[target_length]\n",
    "    \n",
    "    if not_cut(left): return [right]\n",
    "    \n",
    "    return parse_solution(left, revenue_solution) + parse_solution(right, revenue_solution)"
   ],
   "metadata": {
    "collapsed": false,
    "pycharm": {
     "name": "#%%\n"
    }
   }
  },
  {
   "cell_type": "code",
   "execution_count": 10,
   "outputs": [
    {
     "data": {
      "text/plain": "[10, 10]"
     },
     "execution_count": 10,
     "metadata": {},
     "output_type": "execute_result"
    }
   ],
   "source": [
    "parse_solution(20, solution)"
   ],
   "metadata": {
    "collapsed": false,
    "pycharm": {
     "name": "#%%\n"
    }
   }
  },
  {
   "cell_type": "code",
   "execution_count": 11,
   "outputs": [
    {
     "data": {
      "text/plain": "[2, 6, 11]"
     },
     "execution_count": 11,
     "metadata": {},
     "output_type": "execute_result"
    }
   ],
   "source": [
    "parse_solution(19, solution)"
   ],
   "metadata": {
    "collapsed": false,
    "pycharm": {
     "name": "#%%\n"
    }
   }
  },
  {
   "cell_type": "code",
   "execution_count": 12,
   "outputs": [
    {
     "data": {
      "text/plain": "[6, 10, 11]"
     },
     "execution_count": 12,
     "metadata": {},
     "output_type": "execute_result"
    }
   ],
   "source": [
    "parse_solution(27, solution)"
   ],
   "metadata": {
    "collapsed": false,
    "pycharm": {
     "name": "#%%\n"
    }
   }
  },
  {
   "cell_type": "markdown",
   "source": [
    "### 动态规划问题总结\n",
    "##### 解决具备一定的限制条件的最优问题\n",
    "    1. 这个问题可以被分割为若干子问题\n",
    "    2. 子问题之间存在overlapping重合\n",
    "    3. 对重合的子问题进行cache (缓存)\n",
    "    4. 依据cache数据加速解决问题\n",
    "    5. 还要构建parse_solution函数解析最终的结果"
   ],
   "metadata": {
    "collapsed": false,
    "pycharm": {
     "name": "#%% md\n"
    }
   }
  },
  {
   "cell_type": "markdown",
   "source": [
    "    1. Edit Distance 编辑距离\n",
    "    2. 基因测序里边的相似基因判断\n",
    "    3. 图形学里边的覆盖问题\n",
    "    4. 路径规划问题\n"
   ],
   "metadata": {
    "collapsed": false,
    "pycharm": {
     "name": "#%% md\n"
    }
   }
  },
  {
   "cell_type": "code",
   "execution_count": null,
   "outputs": [],
   "source": [],
   "metadata": {
    "collapsed": false,
    "pycharm": {
     "name": "#%%\n"
    }
   }
  }
 ],
 "metadata": {
  "language_info": {
   "codemirror_mode": {
    "name": "ipython",
    "version": 2
   },
   "file_extension": ".py",
   "mimetype": "text/x-python",
   "name": "python",
   "nbconvert_exporter": "python",
   "pygments_lexer": "ipython2",
   "version": "2.7.6"
  },
  "kernelspec": {
   "name": "python3",
   "language": "python",
   "display_name": "Python 3"
  }
 },
 "nbformat": 4,
 "nbformat_minor": 0
}