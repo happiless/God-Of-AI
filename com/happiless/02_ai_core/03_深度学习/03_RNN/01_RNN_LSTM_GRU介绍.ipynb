{
 "cells": [
  {
   "cell_type": "markdown",
   "metadata": {
    "collapsed": true,
    "pycharm": {
     "name": "#%% md\n"
    }
   },
   "source": [
    "### 时间序列、文本、依赖问题 Time Series, Text, Dependency Problems\n",
    "\n",
    "### 循环神经网络的原理 Recurrent Neural Network\n",
    "##### Stacked RNN 单向RNN\n",
    "-   1. $ y_{t} $ 时刻的输入依赖于 $ y_{t-1} $ 时刻的输出\n",
    "##### Bidirectional RNN 双向RNN\n",
    "-   1. $ y_{t} $ 时刻的输入依赖于 $ y_{t-1} $ 和 $y_{t+1} $ 时刻的输出"
   ]
  },
  {
   "cell_type": "markdown",
   "metadata": {
    "pycharm": {
     "name": "#%%\n"
    }
   },
   "source": [
    "### 改进版的循环神经网络 LSTM\n",
    "##### Gate: Information Control\n",
    "-   1. converge faster  收敛更快\n",
    "-   2. detect long-term dependencies    检测长期记忆依赖\n",
    "-   3. Gate are a way to optionally let information through\n",
    "![image.png](./LSTM.png)"
   ]
  },
  {
   "cell_type": "markdown",
   "metadata": {},
   "source": [
    "##### Step1: Decide how much past data it should remember\n",
    "- 1. 决定多少数据应该被记忆\n",
    "- 2. $f_t$ = forget gate (遗忘门) 删除前一步时间序列不重要的信息<br>\n",
    "$f_t = \\sigma(W_f * [h_{t-1}, x_t] + b_f)$\n",
    "\n",
    "![image.png](./LSTM_step1.png)"
   ]
  },
  {
   "cell_type": "markdown",
   "metadata": {},
   "source": [
    "##### Step2: Decide how much this unit adds to the current state\n",
    "- 1.决定有多少时间序列数据应该被加入循环\n",
    "- 2.$i_t$ = input gate (输入门) <br>\n",
    "$i_t = \\sigma(W_i * [h_{t-1}, x_t] + b_i)$ <br>\n",
    "$C_t = tanh(W_c * [h_{t-1}, x_t] + b_c)$ <br>\n",
    "![image.png](./LSTM_step2.png)"
   ]
  },
  {
   "cell_type": "markdown",
   "metadata": {},
   "source": [
    "##### Step3: Decide what part of the current cell state makes it to the output\n",
    "\n",
    "![image.png](./LSTM_step3.png)"
   ]
  },
  {
   "attachments": {},
   "cell_type": "markdown",
   "metadata": {},
   "source": [
    "###  GRU\n",
    "- 1. Simpler and fewer parameters! \n",
    "- 2. 参数更少，模型更简单，相同的数据，训练速度更快，过拟合的几率更小\n",
    "![image.png](./GRU.png)"
   ]
  },
  {
   "cell_type": "markdown",
   "metadata": {},
   "source": [
    "### RNN模型的相关实际用途 Some Useful Applications of RNNs\n",
    "-   1. Prediction Problem\n",
    "-   2. Language Modeling and Generating Text\n",
    "-   3. Machine Translating\n",
    "-   4. Speech Recognition\n",
    "-   5. Generating Image Descriptions\n",
    "-   6. Video Tagging\n",
    "-   7. Text Summarization\n",
    "-   8. Call Center Analysis\n",
    "-   9. Music Composition\n",
    "\n",
    "### RNN模型的一些小问题 Some Issues of RNNS\n",
    "##### the challenge of long-term dependencies\n",
    "-   1. vanishing, exploding problem 梯度消失，爆炸问题\n",
    "-   2. climb mountains  爬山问题\n",
    "\n",
    "##### Exploding gradient\n",
    "-   1. Identity Initialization      参数初始化\n",
    "-   2. Truncated Backpropagation    截断反向传播\n",
    "-   3. Gradient Clipping            梯度裁剪\n",
    "\n",
    "##### Vanishing gradient\n",
    "-   1. Weight Initialization        权重初始化\n",
    "-   2. Choosing the right Activation Function   选择正确的激活函数\n",
    "-   3. Long Short-Term Memory Networks (LSTMs)  长短记忆网路"
   ]
  },
  {
   "cell_type": "code",
   "execution_count": null,
   "metadata": {},
   "outputs": [],
   "source": []
  }
 ],
 "metadata": {
  "kernelspec": {
   "display_name": "Python 3",
   "language": "python",
   "name": "python3"
  },
  "language_info": {
   "codemirror_mode": {
    "name": "ipython",
    "version": 3
   },
   "file_extension": ".py",
   "mimetype": "text/x-python",
   "name": "python",
   "nbconvert_exporter": "python",
   "pygments_lexer": "ipython3",
   "version": "3.7.8"
  }
 },
 "nbformat": 4,
 "nbformat_minor": 1
}