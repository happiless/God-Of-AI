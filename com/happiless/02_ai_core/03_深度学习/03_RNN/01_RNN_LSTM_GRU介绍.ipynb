{
 "cells": [
  {
   "cell_type": "markdown",
   "metadata": {
    "collapsed": true,
    "pycharm": {
     "name": "#%% md\n"
    }
   },
   "source": [
    "### 时间序列、文本、依赖问题 Time Series, Text, Dependency Problems\n",
    "\n",
    "### 循环神经网络的原理 Recurrent Neural Network\n",
    "##### Stacked RNN 单向RNN\n",
    "-   1. $ y_{t} $ 时刻的输入依赖于 $ y_{t-1} $ 时刻的输出\n",
    "##### Bidirectional RNN 双向RNN\n",
    "-   1. $ y_{t} $ 时刻的输入依赖于 $ y_{t-1} $ 和 $y_{t+1} $ 时刻的输出\n",
    "\n",
    "### 改进版的循环神经网络 LSTM, GRU\n",
    "\n",
    "\n",
    "### RNN模型的相关实际用途 Some Useful Applications of RNNs\n",
    "-   1. Prediction Problem\n",
    "-   2. Language Modeling and Generating Text\n",
    "-   3. Machine Translating\n",
    "-   4. Speech Recognition\n",
    "-   5. Generating Image Descriptions\n",
    "-   6. Video Tagging\n",
    "-   7. Text Summarization\n",
    "-   8. Call Center Analysis\n",
    "-   9. Music Composition\n",
    "\n",
    "### RNN模型的一些小问题 Some Issues of RNNS\n",
    "##### the challenge of long-term dependencies\n",
    "-   1. vanishing, exploding problem 梯度消失，爆炸问题\n",
    "-   2. climb mountains  爬山问题\n",
    "\n",
    "##### Exploding gradient\n",
    "-   1. Identity Initialization      参数初始化\n",
    "-   2. Truncated Backpropagation    截断反向传播\n",
    "-   3. Gradient Clipping            梯度裁剪\n",
    "\n",
    "##### Vanishing gradient\n",
    "-   1. Weight Initialization        权重初始化\n",
    "-   2. Choosing the right Activation Function   选择正确的激活函数\n",
    "-   3. Long Short-Term Memory Networks (LSTMs)  长短记忆网路"
   ]
  },
  {
   "cell_type": "code",
   "execution_count": null,
   "outputs": [],
   "source": [],
   "metadata": {
    "collapsed": false,
    "pycharm": {
     "name": "#%%\n"
    }
   }
  }
 ],
 "metadata": {
  "kernelspec": {
   "display_name": "Python 3",
   "language": "python",
   "name": "python3"
  },
  "language_info": {
   "codemirror_mode": {
    "name": "ipython",
    "version": 2
   },
   "file_extension": ".py",
   "mimetype": "text/x-python",
   "name": "python",
   "nbconvert_exporter": "python",
   "pygments_lexer": "ipython2",
   "version": "2.7.6"
  }
 },
 "nbformat": 4,
 "nbformat_minor": 0
}