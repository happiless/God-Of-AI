{
 "cells": [
  {
   "cell_type": "code",
   "execution_count": 10,
   "metadata": {},
   "outputs": [],
   "source": [
    "import torch\n",
    "from torch import nn\n",
    "from torch import optim\n",
    "import torchvision\n",
    "\n",
    "from tqdm import tqdm_notebook"
   ]
  },
  {
   "cell_type": "code",
   "execution_count": 2,
   "metadata": {},
   "outputs": [],
   "source": [
    "kind_and_index = [\n",
    "    '飞机',\n",
    "    '汽车',\n",
    "    '小鸟',\n",
    "    '猫咪',\n",
    "    '小鹿',\n",
    "    '小狗',\n",
    "    '青蛙',\n",
    "    '小马',\n",
    "    '船舶',\n",
    "    '卡车'\n",
    "]"
   ]
  },
  {
   "cell_type": "code",
   "execution_count": null,
   "metadata": {},
   "outputs": [],
   "source": [
    "cifar_10_train = torchvision.datasets.CIFAR10('../01_data/', download=True, transform=torchvision.transforms.ToTensor())\n",
    "cifar_10_test = torchvision.datasets.CIFAR10('../01_data/', download=True, train=False, transform=torchvision.transforms.ToTensor())"
   ]
  },
  {
   "cell_type": "code",
   "execution_count": null,
   "metadata": {},
   "outputs": [],
   "source": [
    "train_loader = torch.utils.data.DataLoader(train_set,\n",
    "                                           batch_size=16,\n",
    "                                           shuffle=True)\n",
    "test_loader = torch.utils.data.DataLoader(test_set,\n",
    "                                          batch_size=16,\n",
    "                                          shuffle=False)"
   ]
  },
  {
   "cell_type": "code",
   "execution_count": 7,
   "metadata": {},
   "outputs": [],
   "source": [
    "class ConvNet(nn.Module):\n",
    "    def __init__(self):\n",
    "        super(ConvNet, self).__init__()\n",
    "        self.conv1 = nn.Conv2d(in_channels=3, out_channels=16, kernel_size=(5, 5))\n",
    "        self.conv2 = nn.Conv2d(in_channels=16, out_channels=8, kernel_size=(3, 3))\n",
    "        self.fc1 = nn.Linear(in_features=8*8*8, out_features=32)\n",
    "        self.fc2 = nn.Linear(in_features=32, out_features=10)\n",
    "\n",
    "    def forward(self, x):\n",
    "        in_size = x.size(0)\n",
    "        out = self.conv1(x)\n",
    "        out = F.relu(out)\n",
    "        out = F.max_pool2d(out, 2, 2)\n",
    "        out = self.conv2(out)\n",
    "        out = F.relu(out)\n",
    "        out = out.view(in_size, -1)\n",
    "        out = self.fc1(out)\n",
    "        out = F.relu(out)\n",
    "        out = self.fc2(out)\n",
    "        out = torch.log_softmax(out, dim=1)\n",
    "        return out"
   ]
  },
  {
   "cell_type": "code",
   "execution_count": 8,
   "metadata": {},
   "outputs": [],
   "source": [
    "model = ConvNet()\n",
    "criterion = nn.CrossEntropyLoss()\n",
    "optimizer = optim.Adam(model.parameters(), lr=1e-3)"
   ]
  },
  {
   "cell_type": "code",
   "execution_count": 11,
   "metadata": {},
   "outputs": [],
   "source": [
    "def train(model: ConvNet, train_loader, epochs):\n",
    "    model.train()\n",
    "    for epoch in range(epochs):\n",
    "        print('Epoch {}/{}'.format(epoch + 1, num_epochs))\n",
    "        running_loss = 0.0\n",
    "        running_corrects = 0\n",
    "        for data, targets in tqdm_notebook(train_loader):\n",
    "            # 1. 清空优化器梯度\n",
    "            optimizer.zero_grad()\n",
    "            # 2. 读入data，label，并进行形状变换\n",
    "#             inputs = inputs.view(-1, 32 * 32 * 3)     \n",
    "            # 3. 运行模型前向传播过程\n",
    "            outputs = model(data)\n",
    "            # 4. 基于模型输出生成最终结果\n",
    "            _, preds = torch.max(outputs, 1)\n",
    "            # 5. 计算损失\n",
    "            loss = criterion(outputs, targets)\n",
    "            # 6. 基于损失计算梯度\n",
    "            loss.backward()\n",
    "            # 7. 基于梯度更新参数\n",
    "            optimizer.step()\n",
    "            \n",
    "            # 一个批次数据的损失函数的计算\n",
    "            running_loss += loss.items() * inputs.size(0)\n",
    "            # 一个批次数据准确率的计算\n",
    "            running_corrects += torch.sum(preds == labels.data)"
   ]
  },
  {
   "cell_type": "code",
   "execution_count": 12,
   "metadata": {},
   "outputs": [],
   "source": [
    "def test():\n",
    "    pass\n"
   ]
  },
  {
   "cell_type": "code",
   "execution_count": null,
   "metadata": {},
   "outputs": [],
   "source": [
    "train(model, train_loader)"
   ]
  }
 ],
 "metadata": {
  "kernelspec": {
   "display_name": "Python 3",
   "language": "python",
   "name": "python3"
  },
  "language_info": {
   "codemirror_mode": {
    "name": "ipython",
    "version": 3
   },
   "file_extension": ".py",
   "mimetype": "text/x-python",
   "name": "python",
   "nbconvert_exporter": "python",
   "pygments_lexer": "ipython3",
   "version": "3.8.0"
  }
 },
 "nbformat": 4,
 "nbformat_minor": 1
}
