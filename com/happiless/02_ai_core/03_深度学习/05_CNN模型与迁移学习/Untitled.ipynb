{
 "cells": [
  {
   "cell_type": "code",
   "execution_count": null,
   "id": "worst-frontier",
   "metadata": {},
   "outputs": [],
   "source": [
    "println(123)"
   ]
  },
  {
   "cell_type": "code",
   "execution_count": null,
   "id": "exclusive-polymer",
   "metadata": {},
   "outputs": [],
   "source": []
  }
 ],
 "metadata": {
  "kernelspec": {
   "display_name": "Scala 2.11",
   "language": "scala211",
   "name": "scala211"
  },
  "language_info": {
   "name": ""
  }
 },
 "nbformat": 4,
 "nbformat_minor": 5
}
