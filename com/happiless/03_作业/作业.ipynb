{
 "cells": [
  {
   "cell_type": "markdown",
   "id": "rubber-transportation",
   "metadata": {},
   "source": [
    "# KNN"
   ]
  },
  {
   "cell_type": "markdown",
   "id": "thick-highway",
   "metadata": {},
   "source": [
    "### 有这样一个数据集（一系列电影）"
   ]
  },
  {
   "cell_type": "markdown",
   "id": "arranged-translator",
   "metadata": {},
   "source": [
    "![在这里插入图片描述](https://img-blog.csdnimg.cn/20210310140051193.png)"
   ]
  },
  {
   "cell_type": "markdown",
   "id": "olympic-southwest",
   "metadata": {},
   "source": [
    "![在这里插入图片描述](https://img-blog.csdnimg.cn/20210310140150915.png?x-oss-process=image/watermark,type_ZmFuZ3poZW5naGVpdGk,shadow_10,text_aHR0cHM6Ly9ibG9nLmNzZG4ubmV0L3dlaXhpbl80MTI4NzA2MA==,size_16,color_FFFFFF,t_70)"
   ]
  },
  {
   "cell_type": "markdown",
   "id": "metallic-conservation",
   "metadata": {},
   "source": [
    "![在这里插入图片描述](https://img-blog.csdnimg.cn/20210310140341343.png)"
   ]
  },
  {
   "cell_type": "code",
   "execution_count": 1,
   "id": "gothic-thought",
   "metadata": {},
   "outputs": [],
   "source": [
    "from matplotlib.font_manager import FontProperties\n",
    "import matplotlib.lines as mlines\n",
    "import matplotlib.pyplot as plt\n",
    "import numpy as np\n",
    "import operator"
   ]
  },
  {
   "cell_type": "code",
   "execution_count": 2,
   "id": "stainless-audit",
   "metadata": {},
   "outputs": [],
   "source": [
    "filename = './datingTestSet.txt'\n"
   ]
  },
  {
   "cell_type": "code",
   "execution_count": 10,
   "id": "waiting-cologne",
   "metadata": {},
   "outputs": [
    {
     "data": {
      "text/html": [
       "<div>\n",
       "<style scoped>\n",
       "    .dataframe tbody tr th:only-of-type {\n",
       "        vertical-align: middle;\n",
       "    }\n",
       "\n",
       "    .dataframe tbody tr th {\n",
       "        vertical-align: top;\n",
       "    }\n",
       "\n",
       "    .dataframe thead th {\n",
       "        text-align: right;\n",
       "    }\n",
       "</style>\n",
       "<table border=\"1\" class=\"dataframe\">\n",
       "  <thead>\n",
       "    <tr style=\"text-align: right;\">\n",
       "      <th></th>\n",
       "      <th>index</th>\n",
       "      <th>A</th>\n",
       "      <th>B</th>\n",
       "      <th>C</th>\n",
       "    </tr>\n",
       "  </thead>\n",
       "  <tbody>\n",
       "    <tr>\n",
       "      <th>0</th>\n",
       "      <td>40920</td>\n",
       "      <td>8.326976</td>\n",
       "      <td>0.953952</td>\n",
       "      <td>largeDoses</td>\n",
       "    </tr>\n",
       "    <tr>\n",
       "      <th>1</th>\n",
       "      <td>14488</td>\n",
       "      <td>7.153469</td>\n",
       "      <td>1.673904</td>\n",
       "      <td>smallDoses</td>\n",
       "    </tr>\n",
       "    <tr>\n",
       "      <th>2</th>\n",
       "      <td>26052</td>\n",
       "      <td>1.441871</td>\n",
       "      <td>0.805124</td>\n",
       "      <td>didntLike</td>\n",
       "    </tr>\n",
       "    <tr>\n",
       "      <th>3</th>\n",
       "      <td>75136</td>\n",
       "      <td>13.147394</td>\n",
       "      <td>0.428964</td>\n",
       "      <td>didntLike</td>\n",
       "    </tr>\n",
       "    <tr>\n",
       "      <th>4</th>\n",
       "      <td>38344</td>\n",
       "      <td>1.669788</td>\n",
       "      <td>0.134296</td>\n",
       "      <td>didntLike</td>\n",
       "    </tr>\n",
       "    <tr>\n",
       "      <th>...</th>\n",
       "      <td>...</td>\n",
       "      <td>...</td>\n",
       "      <td>...</td>\n",
       "      <td>...</td>\n",
       "    </tr>\n",
       "    <tr>\n",
       "      <th>995</th>\n",
       "      <td>11145</td>\n",
       "      <td>3.410627</td>\n",
       "      <td>0.631838</td>\n",
       "      <td>smallDoses</td>\n",
       "    </tr>\n",
       "    <tr>\n",
       "      <th>996</th>\n",
       "      <td>68846</td>\n",
       "      <td>9.974715</td>\n",
       "      <td>0.669787</td>\n",
       "      <td>didntLike</td>\n",
       "    </tr>\n",
       "    <tr>\n",
       "      <th>997</th>\n",
       "      <td>26575</td>\n",
       "      <td>10.650102</td>\n",
       "      <td>0.866627</td>\n",
       "      <td>largeDoses</td>\n",
       "    </tr>\n",
       "    <tr>\n",
       "      <th>998</th>\n",
       "      <td>48111</td>\n",
       "      <td>9.134528</td>\n",
       "      <td>0.728045</td>\n",
       "      <td>largeDoses</td>\n",
       "    </tr>\n",
       "    <tr>\n",
       "      <th>999</th>\n",
       "      <td>43757</td>\n",
       "      <td>7.882601</td>\n",
       "      <td>1.332446</td>\n",
       "      <td>largeDoses</td>\n",
       "    </tr>\n",
       "  </tbody>\n",
       "</table>\n",
       "<p>1000 rows × 4 columns</p>\n",
       "</div>"
      ],
      "text/plain": [
       "     index          A         B           C\n",
       "0    40920   8.326976  0.953952  largeDoses\n",
       "1    14488   7.153469  1.673904  smallDoses\n",
       "2    26052   1.441871  0.805124   didntLike\n",
       "3    75136  13.147394  0.428964   didntLike\n",
       "4    38344   1.669788  0.134296   didntLike\n",
       "..     ...        ...       ...         ...\n",
       "995  11145   3.410627  0.631838  smallDoses\n",
       "996  68846   9.974715  0.669787   didntLike\n",
       "997  26575  10.650102  0.866627  largeDoses\n",
       "998  48111   9.134528  0.728045  largeDoses\n",
       "999  43757   7.882601  1.332446  largeDoses\n",
       "\n",
       "[1000 rows x 4 columns]"
      ]
     },
     "execution_count": 10,
     "metadata": {},
     "output_type": "execute_result"
    }
   ],
   "source": [
    "import pandas as pd\n",
    "pd.read_table(filename, header=None, names=['A','B', 'C']).reset_index(drop=False)"
   ]
  },
  {
   "cell_type": "markdown",
   "id": "anonymous-label",
   "metadata": {},
   "source": [
    "三种特征：\n",
    "   1. 每年飞行里程数\n",
    "   2. 玩游戏所好时间\n",
    "   3. 每周消费的冰淇淋公升数\n",
    "\n",
    "\n",
    "分类结果：\n",
    "   1. 不喜欢的人 didntLike\n",
    "   2. 魅力一般的人 smallDoses\n",
    "   3. 极具魅力的人 largeDoses"
   ]
  },
  {
   "cell_type": "markdown",
   "id": "neither-madness",
   "metadata": {},
   "source": [
    "## 最大最小归一化\n",
    "### newValue = (oldValue - min) / (max - min)"
   ]
  },
  {
   "cell_type": "code",
   "execution_count": null,
   "id": "silent-tolerance",
   "metadata": {},
   "outputs": [],
   "source": []
  },
  {
   "cell_type": "code",
   "execution_count": null,
   "id": "difficult-hawaii",
   "metadata": {},
   "outputs": [],
   "source": []
  },
  {
   "cell_type": "markdown",
   "id": "absent-branch",
   "metadata": {},
   "source": [
    "# K-Means"
   ]
  },
  {
   "cell_type": "code",
   "execution_count": 3,
   "id": "growing-cricket",
   "metadata": {
    "pycharm": {
     "name": "#%%\n"
    }
   },
   "outputs": [],
   "source": [
    "import numpy as np \n",
    "import pandas as pd \n",
    "import matplotlib.pyplot as plt\n",
    "import seaborn as sns\n",
    "from sklearn.feature_extraction import text\n",
    "from sklearn.feature_extraction.text import TfidfVectorizer\n",
    "from sklearn.cluster import KMeans\n",
    "from nltk.tokenize import RegexpTokenizer\n",
    "from nltk.stem.snowball import SnowballStemmer\n",
    "%matplotlib inline"
   ]
  },
  {
   "cell_type": "code",
   "execution_count": 4,
   "id": "attended-pharmacology",
   "metadata": {
    "pycharm": {
     "name": "#%%\n"
    },
    "scrolled": true
   },
   "outputs": [
    {
     "data": {
      "text/html": [
       "<div>\n",
       "<style scoped>\n",
       "    .dataframe tbody tr th:only-of-type {\n",
       "        vertical-align: middle;\n",
       "    }\n",
       "\n",
       "    .dataframe tbody tr th {\n",
       "        vertical-align: top;\n",
       "    }\n",
       "\n",
       "    .dataframe thead th {\n",
       "        text-align: right;\n",
       "    }\n",
       "</style>\n",
       "<table border=\"1\" class=\"dataframe\">\n",
       "  <thead>\n",
       "    <tr style=\"text-align: right;\">\n",
       "      <th></th>\n",
       "      <th>headline_text</th>\n",
       "    </tr>\n",
       "  </thead>\n",
       "  <tbody>\n",
       "    <tr>\n",
       "      <th>0</th>\n",
       "      <td>aba decides against community broadcasting lic...</td>\n",
       "    </tr>\n",
       "    <tr>\n",
       "      <th>1</th>\n",
       "      <td>act fire witnesses must be aware of defamation</td>\n",
       "    </tr>\n",
       "    <tr>\n",
       "      <th>2</th>\n",
       "      <td>a g calls for infrastructure protection summit</td>\n",
       "    </tr>\n",
       "    <tr>\n",
       "      <th>3</th>\n",
       "      <td>air nz staff in aust strike for pay rise</td>\n",
       "    </tr>\n",
       "    <tr>\n",
       "      <th>4</th>\n",
       "      <td>air nz strike to affect australian travellers</td>\n",
       "    </tr>\n",
       "  </tbody>\n",
       "</table>\n",
       "</div>"
      ],
      "text/plain": [
       "                                       headline_text\n",
       "0  aba decides against community broadcasting lic...\n",
       "1     act fire witnesses must be aware of defamation\n",
       "2     a g calls for infrastructure protection summit\n",
       "3           air nz staff in aust strike for pay rise\n",
       "4      air nz strike to affect australian travellers"
      ]
     },
     "execution_count": 4,
     "metadata": {},
     "output_type": "execute_result"
    }
   ],
   "source": [
    "data = pd.read_csv(\"./abcnews-date-text.csv\", error_bad_lines=False, usecols =[\"headline_text\"])\n",
    "data.head()  "
   ]
  },
  {
   "cell_type": "code",
   "execution_count": 5,
   "id": "reflected-province",
   "metadata": {
    "pycharm": {
     "name": "#%%\n"
    },
    "scrolled": false
   },
   "outputs": [
    {
     "name": "stdout",
     "output_type": "stream",
     "text": [
      "<class 'pandas.core.frame.DataFrame'>\n",
      "RangeIndex: 1226258 entries, 0 to 1226257\n",
      "Data columns (total 1 columns):\n",
      " #   Column         Non-Null Count    Dtype \n",
      "---  ------         --------------    ----- \n",
      " 0   headline_text  1226258 non-null  object\n",
      "dtypes: object(1)\n",
      "memory usage: 9.4+ MB\n"
     ]
    }
   ],
   "source": [
    "data.info()"
   ]
  },
  {
   "cell_type": "markdown",
   "id": "parental-tongue",
   "metadata": {},
   "source": [
    "## 1.1 删除重复数据¶"
   ]
  },
  {
   "cell_type": "code",
   "execution_count": 6,
   "id": "featured-front",
   "metadata": {
    "pycharm": {
     "name": "#%%\n"
    }
   },
   "outputs": [
    {
     "data": {
      "text/html": [
       "<div>\n",
       "<style scoped>\n",
       "    .dataframe tbody tr th:only-of-type {\n",
       "        vertical-align: middle;\n",
       "    }\n",
       "\n",
       "    .dataframe tbody tr th {\n",
       "        vertical-align: top;\n",
       "    }\n",
       "\n",
       "    .dataframe thead th {\n",
       "        text-align: right;\n",
       "    }\n",
       "</style>\n",
       "<table border=\"1\" class=\"dataframe\">\n",
       "  <thead>\n",
       "    <tr style=\"text-align: right;\">\n",
       "      <th></th>\n",
       "      <th>headline_text</th>\n",
       "    </tr>\n",
       "  </thead>\n",
       "  <tbody>\n",
       "    <tr>\n",
       "      <th>57967</th>\n",
       "      <td>10 killed in pakistan bus crash</td>\n",
       "    </tr>\n",
       "    <tr>\n",
       "      <th>116298</th>\n",
       "      <td>10 killed in pakistan bus crash</td>\n",
       "    </tr>\n",
       "    <tr>\n",
       "      <th>676423</th>\n",
       "      <td>110 with barry nicholls</td>\n",
       "    </tr>\n",
       "    <tr>\n",
       "      <th>672958</th>\n",
       "      <td>110 with barry nicholls</td>\n",
       "    </tr>\n",
       "    <tr>\n",
       "      <th>911080</th>\n",
       "      <td>110 with barry nicholls</td>\n",
       "    </tr>\n",
       "    <tr>\n",
       "      <th>748629</th>\n",
       "      <td>110 with barry nicholls</td>\n",
       "    </tr>\n",
       "    <tr>\n",
       "      <th>826828</th>\n",
       "      <td>110 with barry nicholls episode 15</td>\n",
       "    </tr>\n",
       "    <tr>\n",
       "      <th>897042</th>\n",
       "      <td>110 with barry nicholls episode 15</td>\n",
       "    </tr>\n",
       "  </tbody>\n",
       "</table>\n",
       "</div>"
      ],
      "text/plain": [
       "                             headline_text\n",
       "57967      10 killed in pakistan bus crash\n",
       "116298     10 killed in pakistan bus crash\n",
       "676423             110 with barry nicholls\n",
       "672958             110 with barry nicholls\n",
       "911080             110 with barry nicholls\n",
       "748629             110 with barry nicholls\n",
       "826828  110 with barry nicholls episode 15\n",
       "897042  110 with barry nicholls episode 15"
      ]
     },
     "execution_count": 6,
     "metadata": {},
     "output_type": "execute_result"
    }
   ],
   "source": [
    "# 查看重复的数据行，pandas.DataFrame.duplicated 使用方法详见：https://pandas.pydata.org/pandas-docs/stable/reference/api/pandas.DataFrame.duplicated.html\n",
    "data[data['headline_text'].duplicated(keep=False)].sort_values('headline_text').head(8)"
   ]
  },
  {
   "cell_type": "code",
   "execution_count": 7,
   "id": "dietary-massachusetts",
   "metadata": {
    "pycharm": {
     "name": "#%%\n"
    }
   },
   "outputs": [
    {
     "data": {
      "text/html": [
       "<div>\n",
       "<style scoped>\n",
       "    .dataframe tbody tr th:only-of-type {\n",
       "        vertical-align: middle;\n",
       "    }\n",
       "\n",
       "    .dataframe tbody tr th {\n",
       "        vertical-align: top;\n",
       "    }\n",
       "\n",
       "    .dataframe thead th {\n",
       "        text-align: right;\n",
       "    }\n",
       "</style>\n",
       "<table border=\"1\" class=\"dataframe\">\n",
       "  <thead>\n",
       "    <tr style=\"text-align: right;\">\n",
       "      <th></th>\n",
       "      <th>headline_text</th>\n",
       "    </tr>\n",
       "  </thead>\n",
       "  <tbody>\n",
       "    <tr>\n",
       "      <th>0</th>\n",
       "      <td>aba decides against community broadcasting lic...</td>\n",
       "    </tr>\n",
       "    <tr>\n",
       "      <th>1</th>\n",
       "      <td>act fire witnesses must be aware of defamation</td>\n",
       "    </tr>\n",
       "    <tr>\n",
       "      <th>2</th>\n",
       "      <td>a g calls for infrastructure protection summit</td>\n",
       "    </tr>\n",
       "    <tr>\n",
       "      <th>3</th>\n",
       "      <td>air nz staff in aust strike for pay rise</td>\n",
       "    </tr>\n",
       "    <tr>\n",
       "      <th>4</th>\n",
       "      <td>air nz strike to affect australian travellers</td>\n",
       "    </tr>\n",
       "  </tbody>\n",
       "</table>\n",
       "</div>"
      ],
      "text/plain": [
       "                                       headline_text\n",
       "0  aba decides against community broadcasting lic...\n",
       "1     act fire witnesses must be aware of defamation\n",
       "2     a g calls for infrastructure protection summit\n",
       "3           air nz staff in aust strike for pay rise\n",
       "4      air nz strike to affect australian travellers"
      ]
     },
     "execution_count": 7,
     "metadata": {},
     "output_type": "execute_result"
    }
   ],
   "source": [
    "# 删除重复行，pandas.DataFrame.drop_duplicates 使用方法详见：https://pandas.pydata.org/pandas-docs/stable/reference/api/pandas.DataFrame.drop_duplicates.html\n",
    "########## 第一题 ～ 1行 ##########\n",
    "######### your code #########\n",
    "data = data.drop_duplicates('headline_text')\n",
    "data.head()"
   ]
  },
  {
   "cell_type": "markdown",
   "id": "adjustable-flavor",
   "metadata": {},
   "source": [
    "# 2 数据预处理"
   ]
  },
  {
   "cell_type": "markdown",
   "id": "excess-international",
   "metadata": {},
   "source": [
    "## 2.1 为向量化表示进行前处理\n",
    "进行自然语言处理时，必须将单词转换为机器学习算法可以利用的向量。如果目标是对文本数据进行机器学习建模，例如电影评论或推文或其他任何内容，则需要将文本数据转换为数字。此过程称为“嵌入”或“向量化”。  \n",
    "进行向量化时，请务必记住，它不仅仅是将单个单词变成单个数字。单词可以转换为数字，整个文档就可以转换为向量。向量的维度往往不止一个，而且对于文本数据，向量通常是高维的。这是因为特征数据的每个维度将对应一个单词，而我们所处理的文档通常包含数千个单词。\n",
    "\n",
    "## 2.2 TF-IDF\n",
    "在信息检索中，tf–idf 或 TFIDF（term frequency–inverse document frequency）是一种数值统计，旨在反映单词对语料库中文档的重要性。在信息检索，文本挖掘和用户建模的搜索中，它通常用作加权因子。 tf-idf 值与单词在文档中出现的次数成正比，同时被单词在语料库中的出现频率所抵消，这有助于调整某些单词通常会更频繁出现的事实。 如今，tf-idf是最流行的术语加权方案之一。在数字图书馆领域，有83％的基于文本的推荐系统使用tf-idf。\n",
    "\n",
    "搜索引擎经常使用tf–idf加权方案的变体作为在给定用户查询时对文档相关性进行评分和排名的主要工具。tf–idf可成功用于各种领域的停用词过滤，包括文本摘要和分类。\n",
    "\n",
    "排名函数中最简单的是通过将每个查询词的tf–idf相加得出，许多更复杂的排名函数是此简单模型的变体。"
   ]
  },
  {
   "cell_type": "markdown",
   "id": "dedicated-canal",
   "metadata": {},
   "source": [
    "> TF-IDF（Term Frequency-inverse Document Frequency）是一种针对关键词的统计分析方法，用于评估一个词对一个文件集或者一个语料库的重要程度。一个词的重要程度跟它在文章中出现的次数成正比，跟它在语料库出现的次数成反比。\n",
    "\n",
    ">  一个词在语料库中的 TF-IDF = TF * IDF\n",
    "\n",
    ">> TF = 词频 / 当前文档中所有词的数量  \n",
    "IDF = log{ 所有文档的总数 / （包含该词有多少个文档数量+1）}\n",
    "\n",
    "\n",
    "举个例子： 数据集中一共有两个文档  \n",
    "【我 可 太喜欢 姚明 了】，【谁 的 老婆 是 叶莉 啊】，【叶莉 有 一个 女儿 和 一个 儿子】  \n",
    "\n",
    "\n",
    "【我 可 太喜欢 姚明 了】 中的 “姚明” TF-IDF = ？  \n"
   ]
  },
  {
   "cell_type": "code",
   "execution_count": 8,
   "id": "korean-launch",
   "metadata": {
    "pycharm": {
     "name": "#%%\n"
    }
   },
   "outputs": [
    {
     "name": "stdout",
     "output_type": "stream",
     "text": [
      "['and', 'document', 'first', 'is', 'one', 'second', 'the', 'third', 'this']\n"
     ]
    }
   ],
   "source": [
    "# 举个例子！\n",
    "from sklearn.feature_extraction.text import TfidfVectorizer\n",
    "corpus = [\n",
    "    'This is the first document.',\n",
    "    'This document is the second document.',\n",
    "    'And this is the third one.',\n",
    "    'Is this the first document?',\n",
    "]\n",
    "\n",
    "\n",
    "vectorizer = TfidfVectorizer()\n",
    "tdm = vectorizer.fit_transform(corpus)\n",
    "print(vectorizer.get_feature_names()) "
   ]
  },
  {
   "cell_type": "code",
   "execution_count": 9,
   "id": "overhead-halifax",
   "metadata": {
    "pycharm": {
     "name": "#%%\n"
    }
   },
   "outputs": [],
   "source": [
    "punc = ['.', ',', '\"', \"'\", '?', '!', ':', ';', '(', ')', '[', ']', '{', '}',\"%\"]\n",
    "\n",
    "#\n",
    "stop_words = text.ENGLISH_STOP_WORDS.union(punc)\n",
    "\n",
    "# \n",
    "desc = data['headline_text'].values\n",
    "############ 第二题 ～ 1行 ############\n",
    "############ your code start ############\n",
    "# TfidfVectorizer 使用方法详见：http://scikit-learn.org/stable/modules/generated/sklearn.feature_extraction.text.TfidfVectorizer.html\n",
    "# \n",
    "vectorizer = TfidfVectorizer(stop_words = stop_words)\n",
    "############ your code end ############\n",
    "# \n",
    "X = vectorizer.fit_transform(desc)"
   ]
  },
  {
   "cell_type": "code",
   "execution_count": 10,
   "id": "acoustic-zoning",
   "metadata": {
    "pycharm": {
     "name": "#%%\n"
    },
    "scrolled": true
   },
   "outputs": [
    {
     "name": "stdout",
     "output_type": "stream",
     "text": [
      "104399\n",
      "['afpa', 'afpla', 'afps', 'afr', 'afraid', 'afrcia', 'afresh', 'afri', 'afric', 'africa', 'african', 'africans', 'africanus', 'africas', 'africaspotted', 'africulture', 'afrid', 'afridi', 'afrikaners', 'afrin', 'afro', 'aft', 'aftaid', 'afte', 'after15', 'afterabseiling', 'afterbirth', 'aftercompany', 'afterdark', 'afterfavourites', 'afterglow', 'afterlife', 'aftermarket', 'aftermath', 'afternoon', 'afternoons', 'afterparty', 'afterpay', 'afterschool', 'aftershock', 'aftershocks', 'aftertaste', 'afterthought', 'afterwoman', 'afterwork', 'aftr', 'aftrica', 'afw', 'afwl', 'ag', 'aga', 'agai', 'againon', 'agains', 'againsthim', 'againt', 'againts', 'agaisnt', 'agalarov', 'aganst', 'aganstwawrinka', 'agant', 'agapanthus', 'agape', 'agar', 'agarkar', 'agars', 'agarwal', 'agassi', 'agassis', 'agata', 'agatha', 'agave', 'agc', 'agca', 'agchatoz', 'agconnectwa', 'agd', 'agdata', 'age', 'agea', 'agebt', 'aged', 'agein', 'ageing', 'ageings', 'ageism', 'ageist', 'ageless', 'agels', 'agen', 'agencies', 'agency', 'agencys', 'agenda', 'agendas', 'agent', 'agents', 'agers', 'ages']\n"
     ]
    }
   ],
   "source": [
    "word_features = vectorizer.get_feature_names()\n",
    "print(len(word_features))\n",
    "print(word_features[5000:5100])"
   ]
  },
  {
   "cell_type": "markdown",
   "id": "average-desire",
   "metadata": {},
   "source": [
    "## 2.3 Stemming\n",
    "stemming 是将单词还原为词干（即词根形式）的过程。 词根形式不一定是单词本身，而是可以通过连接正确的后缀来生成单词。 例如，“fish”，“fishes”和“fishing”这几个词的词干都是“fish”，这是一个正确的单词。 另一方面，“study”，“studies”和“studying”一词源于“studi”，这不是一个正确的英语单词。\n",
    "\n",
    "## 2.4 Tokenizing\n",
    "Tokenization 将句子分解为单词和标点符号"
   ]
  },
  {
   "cell_type": "code",
   "execution_count": 11,
   "id": "ranking-classics",
   "metadata": {
    "pycharm": {
     "name": "#%%\n"
    }
   },
   "outputs": [],
   "source": [
    "# 列表推导式\n"
   ]
  },
  {
   "cell_type": "code",
   "execution_count": 12,
   "id": "organized-uganda",
   "metadata": {
    "pycharm": {
     "name": "#%%\n"
    }
   },
   "outputs": [],
   "source": [
    "# jieba分词\n"
   ]
  },
  {
   "cell_type": "code",
   "execution_count": 13,
   "id": "secret-litigation",
   "metadata": {
    "pycharm": {
     "name": "#%%\n"
    }
   },
   "outputs": [],
   "source": [
    "# 词干还原\n",
    "stemmer = SnowballStemmer('english')  # SnowballStemmer 使用方法详见： https://www.kite.com/python/docs/nltk.SnowballStemmer\n",
    "# Tokenizer 分词\n",
    "tokenizer = RegexpTokenizer(r'[a-zA-Z\\']+')  #  RegexpTokenizer 使用方法详见： https://www.kite.com/python/docs/nltk.RegexpTokenizer\n",
    "\n",
    "def tokenize(text):\n",
    "    \"\"\"先进行 stemming 然后 tokenize\n",
    "    params:\n",
    "    text: 一个句子\n",
    "    \n",
    "    return:\n",
    "    tokens 列表\n",
    "    \"\"\"\n",
    "    ############ 第三题 ～ 1行 （使用列表推导） ############ \n",
    "    ############ your code start ############\n",
    "    return [stemmer.stem(word) for word in tokenizer.tokenize(text.lower())]\n",
    "    ############ your code end ############"
   ]
  },
  {
   "cell_type": "markdown",
   "id": "arabic-twins",
   "metadata": {},
   "source": [
    "## 2.5  使用停用词、stemming 和自定义的 tokenizing 进行 TFIDF 向量化"
   ]
  },
  {
   "cell_type": "code",
   "execution_count": 14,
   "id": "quiet-opportunity",
   "metadata": {
    "pycharm": {
     "name": "#%%\n"
    }
   },
   "outputs": [
    {
     "name": "stderr",
     "output_type": "stream",
     "text": [
      "/Users/bubble/opt/miniconda3/envs/pt/lib/python3.6/site-packages/sklearn/feature_extraction/text.py:391: UserWarning: Your stop_words may be inconsistent with your preprocessing. Tokenizing the stop words generated tokens ['abov', 'afterward', 'alon', 'alreadi', 'alway', 'ani', 'anoth', 'anyon', 'anyth', 'anywher', 'becam', 'becaus', 'becom', 'befor', 'besid', 'cri', 'describ', 'dure', 'els', 'elsewher', 'empti', 'everi', 'everyon', 'everyth', 'everywher', 'fifti', 'forti', 'henc', 'hereaft', 'herebi', 'howev', 'hundr', 'inde', 'mani', 'meanwhil', 'moreov', 'nobodi', 'noon', 'noth', 'nowher', 'onc', 'onli', 'otherwis', 'ourselv', 'perhap', 'pleas', 'sever', 'sinc', 'sincer', 'sixti', 'someon', 'someth', 'sometim', 'somewher', 'themselv', 'thenc', 'thereaft', 'therebi', 'therefor', 'togeth', 'twelv', 'twenti', 'veri', 'whatev', 'whenc', 'whenev', 'wherea', 'whereaft', 'wherebi', 'wherev', 'whi', 'yourselv'] not in stop_words.\n",
      "  'stop_words.' % sorted(inconsistent))\n"
     ]
    },
    {
     "name": "stdout",
     "output_type": "stream",
     "text": [
      "72395\n",
      "[\"'a\", \"'i\", \"'s\", \"'x\", 'aa', 'aaa', 'aaahhh', 'aac', 'aacc', 'aaco', 'aacta', 'aad', 'aadhaar', 'aadmi', 'aag', 'aagaard', 'aagard', 'aah', 'aalto', 'aam', 'aamer', 'aami', 'aamodt', 'aandahl', 'aant', 'aap', 'aapa', 'aapt', 'aar', 'aaradhna', 'aardman', 'aardvark', 'aargau', 'aaron', 'aaronpaul', 'aarwun', 'aat', 'ab', 'aba', 'abaaoud', 'ababa', 'aback', 'abacus', 'abadi', 'abadon', 'abal', 'abalon', 'abalonv', 'abama', 'abandon']\n"
     ]
    }
   ],
   "source": [
    "vectorizer2 = TfidfVectorizer(stop_words = stop_words, tokenizer = tokenize)\n",
    "X2 = vectorizer2.fit_transform(desc)\n",
    "word_features2 = vectorizer2.get_feature_names()\n",
    "print(len(word_features2))\n",
    "print(word_features2[:50]) "
   ]
  },
  {
   "cell_type": "code",
   "execution_count": 15,
   "id": "joint-settle",
   "metadata": {
    "pycharm": {
     "name": "#%%\n"
    }
   },
   "outputs": [],
   "source": [
    "vectorizer3 = TfidfVectorizer(stop_words = stop_words, tokenizer = tokenize, max_features = 1000)\n",
    "X3 = vectorizer3.fit_transform(desc)\n",
    "words = vectorizer3.get_feature_names()"
   ]
  },
  {
   "cell_type": "markdown",
   "id": "collective-volume",
   "metadata": {},
   "source": [
    "# 3 K-Means 聚类"
   ]
  },
  {
   "cell_type": "markdown",
   "id": "acceptable-pennsylvania",
   "metadata": {},
   "source": [
    "## 3.1 使用手肘法选择聚类簇的数量\n",
    "随着聚类数k的增大,样本划分会更加的精细,每个簇的聚合程度会逐渐提高,那么误差平方和SSE自然会逐渐变小,并且当k小于真实的簇类数时,由于k的增大会大幅增加每个簇的聚合程度,因此SSE的下降幅度会很大,而当k到达真实聚类数时,再增加k所得到的聚合程度回报会迅速变小,所以SSE的下降幅度会骤减,然后随着k值的继续增大而趋于平缓,也就是说SSE和k的关系类似于手肘的形状,而这个肘部对应的k值就是数据的真实聚类数.因此这种方法被称为手肘法."
   ]
  },
  {
   "cell_type": "markdown",
   "id": "combined-construction",
   "metadata": {},
   "source": [
    "![在这里插入图片描述](https://img-blog.csdnimg.cn/20210310152443174.png?x-oss-process=image/watermark,type_ZmFuZ3poZW5naGVpdGk,shadow_10,text_aHR0cHM6Ly9ibG9nLmNzZG4ubmV0L3dlaXhpbl80MTI4NzA2MA==,size_16,color_FFFFFF,t_70)"
   ]
  },
  {
   "cell_type": "markdown",
   "id": "swedish-shore",
   "metadata": {},
   "source": [
    "![在这里插入图片描述](https://img-blog.csdnimg.cn/20210310152524438.png)"
   ]
  },
  {
   "cell_type": "markdown",
   "id": "artistic-frequency",
   "metadata": {},
   "source": [
    "> Ci是第i个簇  \n",
    "> p是Ci中的样本点  \n",
    "> mi是Ci的质心（Ci中所有样本的均值）  "
   ]
  },
  {
   "cell_type": "code",
   "execution_count": 16,
   "id": "first-separation",
   "metadata": {
    "pycharm": {
     "name": "#%%\n"
    }
   },
   "outputs": [
    {
     "data": {
      "image/png": "[encoded data removed]",
      "text/plain": [
       "<Figure size 432x288 with 1 Axes>"
      ]
     },
     "metadata": {
      "needs_background": "light"
     },
     "output_type": "display_data"
    }
   ],
   "source": [
    "from sklearn.cluster import KMeans  # 使用方法详见： http://scikit-learn.org/stable/modules/generated/sklearn.cluster.KMeans.html\n",
    "wcss = []\n",
    "for i in range(1,11):\n",
    "    ############ 第四题 ～ 1行 （初始化 KMeans） ############ \n",
    "    ############ your code start ############     \n",
    "    kmeans = KMeans(n_clusters=i,init='k-means++',max_iter=300,n_init=10,random_state=0)\n",
    "    ############ your code end ############\n",
    "    kmeans.fit(X3)\n",
    "    wcss.append(kmeans.inertia_)\n",
    "plt.plot(range(1,11),wcss)\n",
    "plt.title('The Elbow Method')\n",
    "plt.xlabel('Number of clusters')\n",
    "plt.ylabel('WCSS')\n",
    "plt.savefig('elbow.png')\n",
    "plt.show()"
   ]
  },
  {
   "cell_type": "code",
   "execution_count": 17,
   "id": "included-delay",
   "metadata": {
    "pycharm": {
     "name": "#%%\n"
    }
   },
   "outputs": [
    {
     "name": "stdout",
     "output_type": "stream",
     "text": [
      "['decid', 'decis', 'declar', 'defenc', 'defend', 'delay', 'deliv', 'demand', 'deni', 'despit', 'destroy', 'detent', 'develop', 'die', 'director', 'disabl', 'disast', 'discuss', 'diseas', 'dismiss', 'disput', 'doctor', 'dog', 'dollar', 'domest', 'donald', 'donat', 'doubl', 'doubt', 'draw', 'dri', 'drink', 'drive', 'driver', 'drop', 'drought', 'drown', 'drug', 'drum', 'dump', 'dure', 'eagl', 'earli', 'eas', 'east', 'econom', 'economi', 'edg', 'educ', 'effort']\n"
     ]
    }
   ],
   "source": [
    "print(words[250:300])"
   ]
  },
  {
   "cell_type": "markdown",
   "id": "prerequisite-deficit",
   "metadata": {},
   "source": [
    "## 3.2 Clusters 等于 3"
   ]
  },
  {
   "cell_type": "code",
   "execution_count": 18,
   "id": "cheap-blink",
   "metadata": {
    "pycharm": {
     "name": "#%%\n"
    }
   },
   "outputs": [
    {
     "name": "stderr",
     "output_type": "stream",
     "text": [
      "/Users/bubble/opt/miniconda3/envs/pt/lib/python3.6/site-packages/sklearn/cluster/_kmeans.py:793: FutureWarning: 'n_jobs' was deprecated in version 0.23 and will be removed in 1.0 (renaming of 0.25).\n",
      "  \" removed in 1.0 (renaming of 0.25).\", FutureWarning)\n"
     ]
    },
    {
     "name": "stdout",
     "output_type": "stream",
     "text": [
      "0 : polic, man, say, charg, plan, murder, court, death, assault, face, investig, drug, arrest, attack, jail, car, miss, stab, crash, shoot, woman, offic, kill, probe, search\n",
      "1 : new, zealand, law, year, plan, open, council, polic, case, australia, home, hospit, centr, set, deal, hope, announc, south, look, appoint, record, say, coronavirus, minist, wa\n",
      "2 : win, australia, council, australian, govt, report, kill, court, warn, nsw, fund, urg, water, open, year, death, chang, sydney, crash, interview, day, wa, elect, face, claim\n"
     ]
    }
   ],
   "source": [
    "kmeans = KMeans(n_clusters = 3, n_init = 20, n_jobs = 1) # n_init(number of iterations for clsutering) n_jobs(number of cpu cores to use)\n",
    "kmeans.fit(X3)\n",
    "# We look at 3 the clusters generated by k-means.\n",
    "# argsort 使用方法详见： https://numpy.org/doc/stable/reference/generated/numpy.argsort.html\n",
    "common_words = kmeans.cluster_centers_.argsort()[:,-1:-26:-1]\n",
    "for num, centroid in enumerate(common_words):\n",
    "    print(str(num) + ' : ' + ', '.join(words[word] for word in centroid))"
   ]
  },
  {
   "cell_type": "markdown",
   "id": "labeled-villa",
   "metadata": {},
   "source": [
    "## 3.3 Clusters 等于 5"
   ]
  },
  {
   "cell_type": "code",
   "execution_count": 19,
   "id": "soviet-economics",
   "metadata": {
    "pycharm": {
     "name": "#%%\n"
    }
   },
   "outputs": [
    {
     "name": "stderr",
     "output_type": "stream",
     "text": [
      "/Users/bubble/opt/miniconda3/envs/pt/lib/python3.6/site-packages/sklearn/cluster/_kmeans.py:793: FutureWarning: 'n_jobs' was deprecated in version 0.23 and will be removed in 1.0 (renaming of 0.25).\n",
      "  \" removed in 1.0 (renaming of 0.25).\", FutureWarning)\n"
     ]
    },
    {
     "name": "stdout",
     "output_type": "stream",
     "text": [
      "0 : new, say, plan, council, govt, urg, fund, water, law, consid, zealand, nsw, chang, qld, group, wa, health, minist, report, develop, need, govern, hospit, sa, centr\n",
      "1 : australia, day, south, coronavirus, test, new, world, cup, cricket, india, china, say, live, win, vs, covid, western, england, zealand, ash, post, central, pakistan, lead, africa\n",
      "2 : man, kill, charg, jail, murder, crash, court, attack, car, die, stab, face, accus, guilti, bomb, arrest, assault, death, miss, woman, accid, blast, shoot, child, injur\n",
      "3 : polic, investig, man, probe, offic, search, arrest, hunt, death, miss, car, charg, shoot, drug, attack, assault, murder, say, seek, crash, driver, suspect, fatal, raid, woman\n",
      "4 : win, australian, court, charg, report, warn, nsw, death, face, open, sydney, year, water, interview, fund, chang, wa, elect, crash, hit, urg, world, claim, day, hous\n"
     ]
    }
   ],
   "source": [
    "############ 第五题 ############ \n",
    "# 重复上面的做法，仅改变聚类簇的数量 (尝试将上述过程封装成一个函数，减少代码的重读性，方便传参调用)\n",
    "kmeans = KMeans(n_clusters = 5, n_init = 20, n_jobs = 1)\n",
    "kmeans.fit(X3)\n",
    "# We look at 5 the clusters generated by k-means.\n",
    "common_words = kmeans.cluster_centers_.argsort()[:,-1:-26:-1]\n",
    "for num, centroid in enumerate(common_words):\n",
    "    print(str(num) + ' : ' + ', '.join(words[word] for word in centroid))"
   ]
  },
  {
   "cell_type": "markdown",
   "id": "eight-tanzania",
   "metadata": {},
   "source": [
    "## 3.4 Clusters 等于 6"
   ]
  },
  {
   "cell_type": "code",
   "execution_count": 20,
   "id": "developed-anaheim",
   "metadata": {
    "pycharm": {
     "name": "#%%\n"
    }
   },
   "outputs": [
    {
     "name": "stderr",
     "output_type": "stream",
     "text": [
      "/Users/bubble/opt/miniconda3/envs/pt/lib/python3.6/site-packages/sklearn/cluster/_kmeans.py:793: FutureWarning: 'n_jobs' was deprecated in version 0.23 and will be removed in 1.0 (renaming of 0.25).\n",
      "  \" removed in 1.0 (renaming of 0.25).\", FutureWarning)\n"
     ]
    },
    {
     "name": "stdout",
     "output_type": "stream",
     "text": [
      "0 : new, man, plan, charg, council, court, kill, face, murder, jail, accus, crash, attack, assault, car, woman, death, drug, stab, zealand, child, guilti, sex, case, die\n",
      "1 : say, polic, need, minist, govt, expert, trump, mp, plan, union, australia, council, labor, report, govern, wont, public, group, new, opposit, pm, chang, health, time, wa\n",
      "2 : polic, investig, man, probe, offic, search, hunt, arrest, charg, car, miss, death, shoot, drug, assault, murder, seek, attack, crash, driver, suspect, fatal, raid, station, woman\n",
      "3 : win, australia, australian, report, warn, nsw, open, interview, year, death, water, fund, day, chang, world, elect, wa, hit, claim, crash, set, health, qld, hous, test\n",
      "4 : govt, urg, fund, plan, council, qld, nsw, vic, water, wa, public, consid, local, help, act, sa, chang, boost, accus, reject, nt, support, report, health, farmer\n",
      "5 : sydney, man, hobart, polic, western, charg, shoot, harbour, airport, hous, arrest, stab, west, nsw, south, home, win, woman, leagu, train, new, melbourn, shot, car, murder\n"
     ]
    }
   ],
   "source": [
    "kmeans = KMeans(n_clusters = 6, n_init = 20, n_jobs = 1)\n",
    "kmeans.fit(X3)\n",
    "# We look at 6 the clusters generated by k-means.\n",
    "common_words = kmeans.cluster_centers_.argsort()[:,-1:-26:-1]\n",
    "for num, centroid in enumerate(common_words):\n",
    "    print(str(num) + ' : ' + ', '.join(words[word] for word in centroid))"
   ]
  },
  {
   "cell_type": "markdown",
   "id": "third-drawing",
   "metadata": {},
   "source": [
    "## 3.5 Clusters 等于 8"
   ]
  },
  {
   "cell_type": "code",
   "execution_count": 21,
   "id": "centered-classic",
   "metadata": {
    "pycharm": {
     "name": "#%%\n"
    }
   },
   "outputs": [
    {
     "name": "stderr",
     "output_type": "stream",
     "text": [
      "/Users/bubble/opt/miniconda3/envs/pt/lib/python3.6/site-packages/sklearn/cluster/_kmeans.py:793: FutureWarning: 'n_jobs' was deprecated in version 0.23 and will be removed in 1.0 (renaming of 0.25).\n",
      "  \" removed in 1.0 (renaming of 0.25).\", FutureWarning)\n"
     ]
    },
    {
     "name": "stdout",
     "output_type": "stream",
     "text": [
      "0 : plan, australia, council, govt, report, warn, urg, nsw, fund, water, chang, rural, climat, boost, health, consid, govern, qld, south, cut, farmer, public, group, reject, resid\n",
      "1 : win, australian, kill, court, open, interview, crash, sydney, death, world, elect, hit, claim, attack, wa, day, hous, set, die, home, final, qld, hospit, test, cup\n",
      "2 : face, court, charg, man, accus, trial, murder, drug, ban, alleg, challeng, new, death, child, assault, sex, woman, futur, tough, polic, final, water, teen, test, fine\n",
      "3 : say, polic, need, govt, minist, expert, trump, mp, plan, union, australia, council, report, labor, govern, wont, public, group, opposit, pm, new, chang, health, time, lawyer\n",
      "4 : man, charg, murder, jail, assault, stab, court, die, guilti, death, drug, woman, arrest, attack, child, crash, kill, car, sex, accus, miss, alleg, plead, sydney, teen\n",
      "5 : year, old, jail, new, celebr, sentenc, australian, man, end, mark, murder, high, low, record, sign, polic, profit, hit, woman, farmer, deal, ban, australia, school, seven\n",
      "6 : new, zealand, law, plan, open, council, case, australia, home, centr, hospit, set, hope, deal, announc, polic, appoint, south, look, record, coronavirus, minist, wa, chief, rule\n",
      "7 : polic, investig, probe, man, offic, search, hunt, arrest, miss, car, death, shoot, drug, seek, attack, murder, assault, crash, charg, driver, suspect, fatal, raid, woman, warn\n"
     ]
    }
   ],
   "source": [
    "kmeans = KMeans(n_clusters = 8, n_init = 20, n_jobs = 1)\n",
    "kmeans.fit(X3)\n",
    "# Finally, we look at 8 the clusters generated by k-means.\n",
    "common_words = kmeans.cluster_centers_.argsort()[:,-1:-26:-1]\n",
    "for num, centroid in enumerate(common_words):\n",
    "    print(str(num) + ' : ' + ', '.join(words[word] for word in centroid))"
   ]
  },
  {
   "cell_type": "markdown",
   "id": "anonymous-logistics",
   "metadata": {},
   "source": [
    "# 逻辑回归"
   ]
  },
  {
   "cell_type": "markdown",
   "id": "proved-template",
   "metadata": {},
   "source": [
    "## 导入项目相关库\n",
    "&emsp;&emsp;我们需要使用pandas进行数据处理，使用sklearn进行数据划分、标准化、模型预测等操作，使用matplotlib绘制相关图表。<br>"
   ]
  },
  {
   "cell_type": "code",
   "execution_count": 22,
   "id": "verbal-standing",
   "metadata": {
    "pycharm": {
     "name": "#%%\n"
    }
   },
   "outputs": [],
   "source": [
    "import pandas as pd\n",
    "from sklearn.model_selection import train_test_split\n",
    "from sklearn.preprocessing import StandardScaler\n",
    "from sklearn.linear_model import LogisticRegression \n",
    "from sklearn.metrics import classification_report\n",
    "import matplotlib.pyplot as plt\n",
    "import seaborn as sns"
   ]
  },
  {
   "cell_type": "markdown",
   "id": "surprising-shoot",
   "metadata": {},
   "source": [
    "## 导入数据\n",
    "&emsp;&emsp;数据文件已保存在'./heart.csv'，我们可以使用read_csv函数将数据集读到内存中。<br>"
   ]
  },
  {
   "cell_type": "code",
   "execution_count": 23,
   "id": "drawn-freeware",
   "metadata": {
    "pycharm": {
     "name": "#%%\n"
    }
   },
   "outputs": [],
   "source": [
    "dataPath = './heart.csv'\n",
    "data = pd.read_csv(dataPath)"
   ]
  },
  {
   "cell_type": "markdown",
   "id": "assisted-saying",
   "metadata": {},
   "source": [
    "## 了解数据集\n",
    "&emsp;&emsp;首先让我们来看看数据内容，以便对数据集有个初步了解。"
   ]
  },
  {
   "cell_type": "code",
   "execution_count": 24,
   "id": "direct-trick",
   "metadata": {
    "pycharm": {
     "name": "#%%\n"
    }
   },
   "outputs": [
    {
     "data": {
      "text/html": [
       "<div>\n",
       "<style scoped>\n",
       "    .dataframe tbody tr th:only-of-type {\n",
       "        vertical-align: middle;\n",
       "    }\n",
       "\n",
       "    .dataframe tbody tr th {\n",
       "        vertical-align: top;\n",
       "    }\n",
       "\n",
       "    .dataframe thead th {\n",
       "        text-align: right;\n",
       "    }\n",
       "</style>\n",
       "<table border=\"1\" class=\"dataframe\">\n",
       "  <thead>\n",
       "    <tr style=\"text-align: right;\">\n",
       "      <th></th>\n",
       "      <th>age</th>\n",
       "      <th>sex</th>\n",
       "      <th>cp</th>\n",
       "      <th>trestbps</th>\n",
       "      <th>chol</th>\n",
       "      <th>fbs</th>\n",
       "      <th>restecg</th>\n",
       "      <th>thalach</th>\n",
       "      <th>exang</th>\n",
       "      <th>oldpeak</th>\n",
       "      <th>slope</th>\n",
       "      <th>ca</th>\n",
       "      <th>thal</th>\n",
       "      <th>target</th>\n",
       "    </tr>\n",
       "  </thead>\n",
       "  <tbody>\n",
       "    <tr>\n",
       "      <th>0</th>\n",
       "      <td>63</td>\n",
       "      <td>1</td>\n",
       "      <td>3</td>\n",
       "      <td>145</td>\n",
       "      <td>233</td>\n",
       "      <td>1</td>\n",
       "      <td>0</td>\n",
       "      <td>150</td>\n",
       "      <td>0</td>\n",
       "      <td>2.3</td>\n",
       "      <td>0</td>\n",
       "      <td>0</td>\n",
       "      <td>1</td>\n",
       "      <td>1</td>\n",
       "    </tr>\n",
       "    <tr>\n",
       "      <th>1</th>\n",
       "      <td>37</td>\n",
       "      <td>1</td>\n",
       "      <td>2</td>\n",
       "      <td>130</td>\n",
       "      <td>250</td>\n",
       "      <td>0</td>\n",
       "      <td>1</td>\n",
       "      <td>187</td>\n",
       "      <td>0</td>\n",
       "      <td>3.5</td>\n",
       "      <td>0</td>\n",
       "      <td>0</td>\n",
       "      <td>2</td>\n",
       "      <td>1</td>\n",
       "    </tr>\n",
       "    <tr>\n",
       "      <th>2</th>\n",
       "      <td>41</td>\n",
       "      <td>0</td>\n",
       "      <td>1</td>\n",
       "      <td>130</td>\n",
       "      <td>204</td>\n",
       "      <td>0</td>\n",
       "      <td>0</td>\n",
       "      <td>172</td>\n",
       "      <td>0</td>\n",
       "      <td>1.4</td>\n",
       "      <td>2</td>\n",
       "      <td>0</td>\n",
       "      <td>2</td>\n",
       "      <td>1</td>\n",
       "    </tr>\n",
       "    <tr>\n",
       "      <th>3</th>\n",
       "      <td>56</td>\n",
       "      <td>1</td>\n",
       "      <td>1</td>\n",
       "      <td>120</td>\n",
       "      <td>236</td>\n",
       "      <td>0</td>\n",
       "      <td>1</td>\n",
       "      <td>178</td>\n",
       "      <td>0</td>\n",
       "      <td>0.8</td>\n",
       "      <td>2</td>\n",
       "      <td>0</td>\n",
       "      <td>2</td>\n",
       "      <td>1</td>\n",
       "    </tr>\n",
       "    <tr>\n",
       "      <th>4</th>\n",
       "      <td>57</td>\n",
       "      <td>0</td>\n",
       "      <td>0</td>\n",
       "      <td>120</td>\n",
       "      <td>354</td>\n",
       "      <td>0</td>\n",
       "      <td>1</td>\n",
       "      <td>163</td>\n",
       "      <td>1</td>\n",
       "      <td>0.6</td>\n",
       "      <td>2</td>\n",
       "      <td>0</td>\n",
       "      <td>2</td>\n",
       "      <td>1</td>\n",
       "    </tr>\n",
       "  </tbody>\n",
       "</table>\n",
       "</div>"
      ],
      "text/plain": [
       "   age  sex  cp  trestbps  chol  fbs  restecg  thalach  exang  oldpeak  slope  \\\n",
       "0   63    1   3       145   233    1        0      150      0      2.3      0   \n",
       "1   37    1   2       130   250    0        1      187      0      3.5      0   \n",
       "2   41    0   1       130   204    0        0      172      0      1.4      2   \n",
       "3   56    1   1       120   236    0        1      178      0      0.8      2   \n",
       "4   57    0   0       120   354    0        1      163      1      0.6      2   \n",
       "\n",
       "   ca  thal  target  \n",
       "0   0     1       1  \n",
       "1   0     2       1  \n",
       "2   0     2       1  \n",
       "3   0     2       1  \n",
       "4   0     2       1  "
      ]
     },
     "execution_count": 24,
     "metadata": {},
     "output_type": "execute_result"
    }
   ],
   "source": [
    "# 使用.head()函数可以查看数据集的头部数据\n",
    "data.head()"
   ]
  },
  {
   "cell_type": "code",
   "execution_count": 25,
   "id": "taken-australia",
   "metadata": {
    "pycharm": {
     "name": "#%%\n"
    }
   },
   "outputs": [
    {
     "name": "stdout",
     "output_type": "stream",
     "text": [
      "<class 'pandas.core.frame.DataFrame'>\n",
      "RangeIndex: 303 entries, 0 to 302\n",
      "Data columns (total 14 columns):\n",
      " #   Column    Non-Null Count  Dtype  \n",
      "---  ------    --------------  -----  \n",
      " 0   age       303 non-null    int64  \n",
      " 1   sex       303 non-null    int64  \n",
      " 2   cp        303 non-null    int64  \n",
      " 3   trestbps  303 non-null    int64  \n",
      " 4   chol      303 non-null    int64  \n",
      " 5   fbs       303 non-null    int64  \n",
      " 6   restecg   303 non-null    int64  \n",
      " 7   thalach   303 non-null    int64  \n",
      " 8   exang     303 non-null    int64  \n",
      " 9   oldpeak   303 non-null    float64\n",
      " 10  slope     303 non-null    int64  \n",
      " 11  ca        303 non-null    int64  \n",
      " 12  thal      303 non-null    int64  \n",
      " 13  target    303 non-null    int64  \n",
      "dtypes: float64(1), int64(13)\n",
      "memory usage: 33.3 KB\n"
     ]
    }
   ],
   "source": [
    "# 使用.info()函数可以查看数据集的主要信息\n",
    "data.info()"
   ]
  },
  {
   "cell_type": "code",
   "execution_count": 26,
   "id": "tough-presentation",
   "metadata": {
    "pycharm": {
     "name": "#%%\n"
    }
   },
   "outputs": [
    {
     "data": {
      "text/html": [
       "<div>\n",
       "<style scoped>\n",
       "    .dataframe tbody tr th:only-of-type {\n",
       "        vertical-align: middle;\n",
       "    }\n",
       "\n",
       "    .dataframe tbody tr th {\n",
       "        vertical-align: top;\n",
       "    }\n",
       "\n",
       "    .dataframe thead th {\n",
       "        text-align: right;\n",
       "    }\n",
       "</style>\n",
       "<table border=\"1\" class=\"dataframe\">\n",
       "  <thead>\n",
       "    <tr style=\"text-align: right;\">\n",
       "      <th></th>\n",
       "      <th>age</th>\n",
       "      <th>sex</th>\n",
       "      <th>cp</th>\n",
       "      <th>trestbps</th>\n",
       "      <th>chol</th>\n",
       "      <th>fbs</th>\n",
       "      <th>restecg</th>\n",
       "      <th>thalach</th>\n",
       "      <th>exang</th>\n",
       "      <th>oldpeak</th>\n",
       "      <th>slope</th>\n",
       "      <th>ca</th>\n",
       "      <th>thal</th>\n",
       "      <th>target</th>\n",
       "    </tr>\n",
       "  </thead>\n",
       "  <tbody>\n",
       "    <tr>\n",
       "      <th>count</th>\n",
       "      <td>303.000000</td>\n",
       "      <td>303.000000</td>\n",
       "      <td>303.000000</td>\n",
       "      <td>303.000000</td>\n",
       "      <td>303.000000</td>\n",
       "      <td>303.000000</td>\n",
       "      <td>303.000000</td>\n",
       "      <td>303.000000</td>\n",
       "      <td>303.000000</td>\n",
       "      <td>303.000000</td>\n",
       "      <td>303.000000</td>\n",
       "      <td>303.000000</td>\n",
       "      <td>303.000000</td>\n",
       "      <td>303.000000</td>\n",
       "    </tr>\n",
       "    <tr>\n",
       "      <th>mean</th>\n",
       "      <td>54.366337</td>\n",
       "      <td>0.683168</td>\n",
       "      <td>0.966997</td>\n",
       "      <td>131.623762</td>\n",
       "      <td>246.264026</td>\n",
       "      <td>0.148515</td>\n",
       "      <td>0.528053</td>\n",
       "      <td>149.646865</td>\n",
       "      <td>0.326733</td>\n",
       "      <td>1.039604</td>\n",
       "      <td>1.399340</td>\n",
       "      <td>0.729373</td>\n",
       "      <td>2.313531</td>\n",
       "      <td>0.544554</td>\n",
       "    </tr>\n",
       "    <tr>\n",
       "      <th>std</th>\n",
       "      <td>9.082101</td>\n",
       "      <td>0.466011</td>\n",
       "      <td>1.032052</td>\n",
       "      <td>17.538143</td>\n",
       "      <td>51.830751</td>\n",
       "      <td>0.356198</td>\n",
       "      <td>0.525860</td>\n",
       "      <td>22.905161</td>\n",
       "      <td>0.469794</td>\n",
       "      <td>1.161075</td>\n",
       "      <td>0.616226</td>\n",
       "      <td>1.022606</td>\n",
       "      <td>0.612277</td>\n",
       "      <td>0.498835</td>\n",
       "    </tr>\n",
       "    <tr>\n",
       "      <th>min</th>\n",
       "      <td>29.000000</td>\n",
       "      <td>0.000000</td>\n",
       "      <td>0.000000</td>\n",
       "      <td>94.000000</td>\n",
       "      <td>126.000000</td>\n",
       "      <td>0.000000</td>\n",
       "      <td>0.000000</td>\n",
       "      <td>71.000000</td>\n",
       "      <td>0.000000</td>\n",
       "      <td>0.000000</td>\n",
       "      <td>0.000000</td>\n",
       "      <td>0.000000</td>\n",
       "      <td>0.000000</td>\n",
       "      <td>0.000000</td>\n",
       "    </tr>\n",
       "    <tr>\n",
       "      <th>25%</th>\n",
       "      <td>47.500000</td>\n",
       "      <td>0.000000</td>\n",
       "      <td>0.000000</td>\n",
       "      <td>120.000000</td>\n",
       "      <td>211.000000</td>\n",
       "      <td>0.000000</td>\n",
       "      <td>0.000000</td>\n",
       "      <td>133.500000</td>\n",
       "      <td>0.000000</td>\n",
       "      <td>0.000000</td>\n",
       "      <td>1.000000</td>\n",
       "      <td>0.000000</td>\n",
       "      <td>2.000000</td>\n",
       "      <td>0.000000</td>\n",
       "    </tr>\n",
       "    <tr>\n",
       "      <th>50%</th>\n",
       "      <td>55.000000</td>\n",
       "      <td>1.000000</td>\n",
       "      <td>1.000000</td>\n",
       "      <td>130.000000</td>\n",
       "      <td>240.000000</td>\n",
       "      <td>0.000000</td>\n",
       "      <td>1.000000</td>\n",
       "      <td>153.000000</td>\n",
       "      <td>0.000000</td>\n",
       "      <td>0.800000</td>\n",
       "      <td>1.000000</td>\n",
       "      <td>0.000000</td>\n",
       "      <td>2.000000</td>\n",
       "      <td>1.000000</td>\n",
       "    </tr>\n",
       "    <tr>\n",
       "      <th>75%</th>\n",
       "      <td>61.000000</td>\n",
       "      <td>1.000000</td>\n",
       "      <td>2.000000</td>\n",
       "      <td>140.000000</td>\n",
       "      <td>274.500000</td>\n",
       "      <td>0.000000</td>\n",
       "      <td>1.000000</td>\n",
       "      <td>166.000000</td>\n",
       "      <td>1.000000</td>\n",
       "      <td>1.600000</td>\n",
       "      <td>2.000000</td>\n",
       "      <td>1.000000</td>\n",
       "      <td>3.000000</td>\n",
       "      <td>1.000000</td>\n",
       "    </tr>\n",
       "    <tr>\n",
       "      <th>max</th>\n",
       "      <td>77.000000</td>\n",
       "      <td>1.000000</td>\n",
       "      <td>3.000000</td>\n",
       "      <td>200.000000</td>\n",
       "      <td>564.000000</td>\n",
       "      <td>1.000000</td>\n",
       "      <td>2.000000</td>\n",
       "      <td>202.000000</td>\n",
       "      <td>1.000000</td>\n",
       "      <td>6.200000</td>\n",
       "      <td>2.000000</td>\n",
       "      <td>4.000000</td>\n",
       "      <td>3.000000</td>\n",
       "      <td>1.000000</td>\n",
       "    </tr>\n",
       "  </tbody>\n",
       "</table>\n",
       "</div>"
      ],
      "text/plain": [
       "              age         sex          cp    trestbps        chol         fbs  \\\n",
       "count  303.000000  303.000000  303.000000  303.000000  303.000000  303.000000   \n",
       "mean    54.366337    0.683168    0.966997  131.623762  246.264026    0.148515   \n",
       "std      9.082101    0.466011    1.032052   17.538143   51.830751    0.356198   \n",
       "min     29.000000    0.000000    0.000000   94.000000  126.000000    0.000000   \n",
       "25%     47.500000    0.000000    0.000000  120.000000  211.000000    0.000000   \n",
       "50%     55.000000    1.000000    1.000000  130.000000  240.000000    0.000000   \n",
       "75%     61.000000    1.000000    2.000000  140.000000  274.500000    0.000000   \n",
       "max     77.000000    1.000000    3.000000  200.000000  564.000000    1.000000   \n",
       "\n",
       "          restecg     thalach       exang     oldpeak       slope          ca  \\\n",
       "count  303.000000  303.000000  303.000000  303.000000  303.000000  303.000000   \n",
       "mean     0.528053  149.646865    0.326733    1.039604    1.399340    0.729373   \n",
       "std      0.525860   22.905161    0.469794    1.161075    0.616226    1.022606   \n",
       "min      0.000000   71.000000    0.000000    0.000000    0.000000    0.000000   \n",
       "25%      0.000000  133.500000    0.000000    0.000000    1.000000    0.000000   \n",
       "50%      1.000000  153.000000    0.000000    0.800000    1.000000    0.000000   \n",
       "75%      1.000000  166.000000    1.000000    1.600000    2.000000    1.000000   \n",
       "max      2.000000  202.000000    1.000000    6.200000    2.000000    4.000000   \n",
       "\n",
       "             thal      target  \n",
       "count  303.000000  303.000000  \n",
       "mean     2.313531    0.544554  \n",
       "std      0.612277    0.498835  \n",
       "min      0.000000    0.000000  \n",
       "25%      2.000000    0.000000  \n",
       "50%      2.000000    1.000000  \n",
       "75%      3.000000    1.000000  \n",
       "max      3.000000    1.000000  "
      ]
     },
     "execution_count": 26,
     "metadata": {},
     "output_type": "execute_result"
    }
   ],
   "source": [
    "# 使用.describe()函数可以查看数据的统计信息\n",
    "# 统计信息包括总数、均值、方差、最小值、第一四分位数、第二四分位数、第三四分位数、最大值。\n",
    "data.describe()"
   ]
  },
  {
   "cell_type": "code",
   "execution_count": 27,
   "id": "computational-addition",
   "metadata": {
    "pycharm": {
     "name": "#%%\n"
    }
   },
   "outputs": [
    {
     "data": {
      "text/plain": [
       "([<matplotlib.patches.Wedge at 0x7fe5cdbff550>,\n",
       "  <matplotlib.patches.Wedge at 0x7fe5cdbffc50>],\n",
       " [Text(-0.1604426989002982, 1.1387528881937419, 'Sick'),\n",
       "  Text(0.16044280551803777, -1.1387528731720071, 'Not sick')],\n",
       " [Text(-0.07673346469144694, 0.5446209465274416, '54.5%'),\n",
       "  Text(0.0767335156825398, -0.5446209393431338, '45.5%')])"
      ]
     },
     "execution_count": 27,
     "metadata": {},
     "output_type": "execute_result"
    },
    {
     "data": {
      "image/png": "[encoded data removed]",
      "text/plain": [
       "<Figure size 720x432 with 1 Axes>"
      ]
     },
     "metadata": {},
     "output_type": "display_data"
    }
   ],
   "source": [
    "# 下面我们来看一看303人里有多少人被确诊为病患。\n",
    "pie, ax = plt.subplots(figsize=[10,6])\n",
    "plt.pie(x=data['target'].value_counts(), autopct=\"%.1f%%\", explode=[0.05]*2, labels=['Sick', 'Not sick'], pctdistance=0.5)"
   ]
  },
  {
   "cell_type": "markdown",
   "id": "premier-tanzania",
   "metadata": {},
   "source": [
    "*Tips：一般来说，在数据处理或模型预测之前，我们可以检查一下各项特征的相关系数，如果有两个特征之间的相关系数极高，则代表这两个特征内容高度重复，或许可以在特征筛选的时候删除其一；如果某个特征与被预测项之间的相关系数极高，则代表这个特征很重要，需要保留。*"
   ]
  },
  {
   "cell_type": "code",
   "execution_count": 28,
   "id": "deluxe-collapse",
   "metadata": {
    "pycharm": {
     "name": "#%%\n"
    }
   },
   "outputs": [
    {
     "data": {
      "image/png": "[encoded data removed]",
      "text/plain": [
       "<Figure size 1296x864 with 2 Axes>"
      ]
     },
     "metadata": {
      "needs_background": "light"
     },
     "output_type": "display_data"
    }
   ],
   "source": [
    "# 查看特征相关系数图\n",
    "# 颜色越暖代表相关系数越高；颜色越冷代表相关系数越低。\n",
    "fig = plt.figure(figsize=(18,12))\n",
    "ax = plt.subplot(1,1,1)\n",
    "sns.heatmap(data.corr(),ax= ax, cmap='coolwarm');"
   ]
  },
  {
   "cell_type": "code",
   "execution_count": 29,
   "id": "driving-terror",
   "metadata": {
    "pycharm": {
     "name": "#%%\n"
    }
   },
   "outputs": [
    {
     "data": {
      "text/html": [
       "<style  type=\"text/css\" >\n",
       "#T_595be4b4_8186_11eb_ab82_acde48001122row0_col0,#T_595be4b4_8186_11eb_ab82_acde48001122row1_col1,#T_595be4b4_8186_11eb_ab82_acde48001122row2_col2,#T_595be4b4_8186_11eb_ab82_acde48001122row3_col3,#T_595be4b4_8186_11eb_ab82_acde48001122row4_col4,#T_595be4b4_8186_11eb_ab82_acde48001122row5_col5,#T_595be4b4_8186_11eb_ab82_acde48001122row6_col6,#T_595be4b4_8186_11eb_ab82_acde48001122row7_col7,#T_595be4b4_8186_11eb_ab82_acde48001122row8_col8,#T_595be4b4_8186_11eb_ab82_acde48001122row9_col9,#T_595be4b4_8186_11eb_ab82_acde48001122row10_col10,#T_595be4b4_8186_11eb_ab82_acde48001122row11_col11,#T_595be4b4_8186_11eb_ab82_acde48001122row12_col12,#T_595be4b4_8186_11eb_ab82_acde48001122row13_col13{\n",
       "            background-color:  #b40426;\n",
       "            color:  #f1f1f1;\n",
       "        }#T_595be4b4_8186_11eb_ab82_acde48001122row0_col1{\n",
       "            background-color:  #6788ee;\n",
       "            color:  #000000;\n",
       "        }#T_595be4b4_8186_11eb_ab82_acde48001122row0_col2,#T_595be4b4_8186_11eb_ab82_acde48001122row4_col3,#T_595be4b4_8186_11eb_ab82_acde48001122row5_col12{\n",
       "            background-color:  #86a9fc;\n",
       "            color:  #000000;\n",
       "        }#T_595be4b4_8186_11eb_ab82_acde48001122row0_col3,#T_595be4b4_8186_11eb_ab82_acde48001122row5_col9,#T_595be4b4_8186_11eb_ab82_acde48001122row10_col2,#T_595be4b4_8186_11eb_ab82_acde48001122row11_col12{\n",
       "            background-color:  #b6cefa;\n",
       "            color:  #000000;\n",
       "        }#T_595be4b4_8186_11eb_ab82_acde48001122row0_col4{\n",
       "            background-color:  #adc9fd;\n",
       "            color:  #000000;\n",
       "        }#T_595be4b4_8186_11eb_ab82_acde48001122row0_col5{\n",
       "            background-color:  #779af7;\n",
       "            color:  #000000;\n",
       "        }#T_595be4b4_8186_11eb_ab82_acde48001122row0_col6,#T_595be4b4_8186_11eb_ab82_acde48001122row2_col8{\n",
       "            background-color:  #4358cb;\n",
       "            color:  #f1f1f1;\n",
       "        }#T_595be4b4_8186_11eb_ab82_acde48001122row0_col7,#T_595be4b4_8186_11eb_ab82_acde48001122row1_col4,#T_595be4b4_8186_11eb_ab82_acde48001122row4_col6,#T_595be4b4_8186_11eb_ab82_acde48001122row6_col5,#T_595be4b4_8186_11eb_ab82_acde48001122row7_col0,#T_595be4b4_8186_11eb_ab82_acde48001122row8_col2,#T_595be4b4_8186_11eb_ab82_acde48001122row8_col13,#T_595be4b4_8186_11eb_ab82_acde48001122row9_col10,#T_595be4b4_8186_11eb_ab82_acde48001122row10_col9,#T_595be4b4_8186_11eb_ab82_acde48001122row13_col1,#T_595be4b4_8186_11eb_ab82_acde48001122row13_col3,#T_595be4b4_8186_11eb_ab82_acde48001122row13_col8,#T_595be4b4_8186_11eb_ab82_acde48001122row13_col11,#T_595be4b4_8186_11eb_ab82_acde48001122row13_col12{\n",
       "            background-color:  #3b4cc0;\n",
       "            color:  #f1f1f1;\n",
       "        }#T_595be4b4_8186_11eb_ab82_acde48001122row0_col8,#T_595be4b4_8186_11eb_ab82_acde48001122row5_col0{\n",
       "            background-color:  #b7cff9;\n",
       "            color:  #000000;\n",
       "        }#T_595be4b4_8186_11eb_ab82_acde48001122row0_col9,#T_595be4b4_8186_11eb_ab82_acde48001122row2_col7,#T_595be4b4_8186_11eb_ab82_acde48001122row12_col9{\n",
       "            background-color:  #dcdddd;\n",
       "            color:  #000000;\n",
       "        }#T_595be4b4_8186_11eb_ab82_acde48001122row0_col10{\n",
       "            background-color:  #90b2fe;\n",
       "            color:  #000000;\n",
       "        }#T_595be4b4_8186_11eb_ab82_acde48001122row0_col11{\n",
       "            background-color:  #d7dce3;\n",
       "            color:  #000000;\n",
       "        }#T_595be4b4_8186_11eb_ab82_acde48001122row0_col12{\n",
       "            background-color:  #a1c0ff;\n",
       "            color:  #000000;\n",
       "        }#T_595be4b4_8186_11eb_ab82_acde48001122row0_col13,#T_595be4b4_8186_11eb_ab82_acde48001122row7_col9{\n",
       "            background-color:  #688aef;\n",
       "            color:  #000000;\n",
       "        }#T_595be4b4_8186_11eb_ab82_acde48001122row1_col0,#T_595be4b4_8186_11eb_ab82_acde48001122row10_col6{\n",
       "            background-color:  #80a3fa;\n",
       "            color:  #000000;\n",
       "        }#T_595be4b4_8186_11eb_ab82_acde48001122row1_col2,#T_595be4b4_8186_11eb_ab82_acde48001122row6_col12,#T_595be4b4_8186_11eb_ab82_acde48001122row12_col4{\n",
       "            background-color:  #8caffe;\n",
       "            color:  #000000;\n",
       "        }#T_595be4b4_8186_11eb_ab82_acde48001122row1_col3{\n",
       "            background-color:  #516ddb;\n",
       "            color:  #000000;\n",
       "        }#T_595be4b4_8186_11eb_ab82_acde48001122row1_col5,#T_595be4b4_8186_11eb_ab82_acde48001122row12_col6{\n",
       "            background-color:  #5f7fe8;\n",
       "            color:  #000000;\n",
       "        }#T_595be4b4_8186_11eb_ab82_acde48001122row1_col6,#T_595be4b4_8186_11eb_ab82_acde48001122row9_col6{\n",
       "            background-color:  #536edd;\n",
       "            color:  #000000;\n",
       "        }#T_595be4b4_8186_11eb_ab82_acde48001122row1_col7,#T_595be4b4_8186_11eb_ab82_acde48001122row3_col7,#T_595be4b4_8186_11eb_ab82_acde48001122row13_col6{\n",
       "            background-color:  #8db0fe;\n",
       "            color:  #000000;\n",
       "        }#T_595be4b4_8186_11eb_ab82_acde48001122row1_col8{\n",
       "            background-color:  #c1d4f4;\n",
       "            color:  #000000;\n",
       "        }#T_595be4b4_8186_11eb_ab82_acde48001122row1_col9{\n",
       "            background-color:  #c9d7f0;\n",
       "            color:  #000000;\n",
       "        }#T_595be4b4_8186_11eb_ab82_acde48001122row1_col10{\n",
       "            background-color:  #aec9fc;\n",
       "            color:  #000000;\n",
       "        }#T_595be4b4_8186_11eb_ab82_acde48001122row1_col11,#T_595be4b4_8186_11eb_ab82_acde48001122row4_col10,#T_595be4b4_8186_11eb_ab82_acde48001122row8_col11{\n",
       "            background-color:  #b5cdfa;\n",
       "            color:  #000000;\n",
       "        }#T_595be4b4_8186_11eb_ab82_acde48001122row1_col12,#T_595be4b4_8186_11eb_ab82_acde48001122row9_col12{\n",
       "            background-color:  #c4d5f3;\n",
       "            color:  #000000;\n",
       "        }#T_595be4b4_8186_11eb_ab82_acde48001122row1_col13{\n",
       "            background-color:  #5b7ae5;\n",
       "            color:  #000000;\n",
       "        }#T_595be4b4_8186_11eb_ab82_acde48001122row2_col0{\n",
       "            background-color:  #88abfd;\n",
       "            color:  #000000;\n",
       "        }#T_595be4b4_8186_11eb_ab82_acde48001122row2_col1,#T_595be4b4_8186_11eb_ab82_acde48001122row12_col3{\n",
       "            background-color:  #7597f6;\n",
       "            color:  #000000;\n",
       "        }#T_595be4b4_8186_11eb_ab82_acde48001122row2_col3,#T_595be4b4_8186_11eb_ab82_acde48001122row2_col6,#T_595be4b4_8186_11eb_ab82_acde48001122row7_col6{\n",
       "            background-color:  #7093f3;\n",
       "            color:  #000000;\n",
       "        }#T_595be4b4_8186_11eb_ab82_acde48001122row2_col4,#T_595be4b4_8186_11eb_ab82_acde48001122row8_col5{\n",
       "            background-color:  #5977e3;\n",
       "            color:  #000000;\n",
       "        }#T_595be4b4_8186_11eb_ab82_acde48001122row2_col5,#T_595be4b4_8186_11eb_ab82_acde48001122row10_col0,#T_595be4b4_8186_11eb_ab82_acde48001122row12_col2{\n",
       "            background-color:  #6f92f3;\n",
       "            color:  #000000;\n",
       "        }#T_595be4b4_8186_11eb_ab82_acde48001122row2_col9{\n",
       "            background-color:  #94b6ff;\n",
       "            color:  #000000;\n",
       "        }#T_595be4b4_8186_11eb_ab82_acde48001122row2_col10,#T_595be4b4_8186_11eb_ab82_acde48001122row9_col11{\n",
       "            background-color:  #cdd9ec;\n",
       "            color:  #000000;\n",
       "        }#T_595be4b4_8186_11eb_ab82_acde48001122row2_col11{\n",
       "            background-color:  #6a8bef;\n",
       "            color:  #000000;\n",
       "        }#T_595be4b4_8186_11eb_ab82_acde48001122row2_col12{\n",
       "            background-color:  #6485ec;\n",
       "            color:  #000000;\n",
       "        }#T_595be4b4_8186_11eb_ab82_acde48001122row2_col13{\n",
       "            background-color:  #f2c9b4;\n",
       "            color:  #000000;\n",
       "        }#T_595be4b4_8186_11eb_ab82_acde48001122row3_col0{\n",
       "            background-color:  #d9dce1;\n",
       "            color:  #000000;\n",
       "        }#T_595be4b4_8186_11eb_ab82_acde48001122row3_col1,#T_595be4b4_8186_11eb_ab82_acde48001122row6_col1,#T_595be4b4_8186_11eb_ab82_acde48001122row9_col2{\n",
       "            background-color:  #7295f4;\n",
       "            color:  #000000;\n",
       "        }#T_595be4b4_8186_11eb_ab82_acde48001122row3_col2,#T_595be4b4_8186_11eb_ab82_acde48001122row6_col7{\n",
       "            background-color:  #a5c3fe;\n",
       "            color:  #000000;\n",
       "        }#T_595be4b4_8186_11eb_ab82_acde48001122row3_col4{\n",
       "            background-color:  #93b5fe;\n",
       "            color:  #000000;\n",
       "        }#T_595be4b4_8186_11eb_ab82_acde48001122row3_col5{\n",
       "            background-color:  #89acfd;\n",
       "            color:  #000000;\n",
       "        }#T_595be4b4_8186_11eb_ab82_acde48001122row3_col6,#T_595be4b4_8186_11eb_ab82_acde48001122row11_col13{\n",
       "            background-color:  #445acc;\n",
       "            color:  #f1f1f1;\n",
       "        }#T_595be4b4_8186_11eb_ab82_acde48001122row3_col8,#T_595be4b4_8186_11eb_ab82_acde48001122row4_col8,#T_595be4b4_8186_11eb_ab82_acde48001122row5_col2{\n",
       "            background-color:  #afcafc;\n",
       "            color:  #000000;\n",
       "        }#T_595be4b4_8186_11eb_ab82_acde48001122row3_col9{\n",
       "            background-color:  #dadce0;\n",
       "            color:  #000000;\n",
       "        }#T_595be4b4_8186_11eb_ab82_acde48001122row3_col10{\n",
       "            background-color:  #9bbcff;\n",
       "            color:  #000000;\n",
       "        }#T_595be4b4_8186_11eb_ab82_acde48001122row3_col11,#T_595be4b4_8186_11eb_ab82_acde48001122row8_col0{\n",
       "            background-color:  #b1cbfc;\n",
       "            color:  #000000;\n",
       "        }#T_595be4b4_8186_11eb_ab82_acde48001122row3_col12{\n",
       "            background-color:  #9fbfff;\n",
       "            color:  #000000;\n",
       "        }#T_595be4b4_8186_11eb_ab82_acde48001122row3_col13,#T_595be4b4_8186_11eb_ab82_acde48001122row6_col0,#T_595be4b4_8186_11eb_ab82_acde48001122row8_col10{\n",
       "            background-color:  #7b9ff9;\n",
       "            color:  #000000;\n",
       "        }#T_595be4b4_8186_11eb_ab82_acde48001122row4_col0{\n",
       "            background-color:  #ccd9ed;\n",
       "            color:  #000000;\n",
       "        }#T_595be4b4_8186_11eb_ab82_acde48001122row4_col1,#T_595be4b4_8186_11eb_ab82_acde48001122row12_col13{\n",
       "            background-color:  #4e68d8;\n",
       "            color:  #000000;\n",
       "        }#T_595be4b4_8186_11eb_ab82_acde48001122row4_col2,#T_595be4b4_8186_11eb_ab82_acde48001122row6_col11{\n",
       "            background-color:  #85a8fc;\n",
       "            color:  #000000;\n",
       "        }#T_595be4b4_8186_11eb_ab82_acde48001122row4_col5,#T_595be4b4_8186_11eb_ab82_acde48001122row13_col9{\n",
       "            background-color:  #5673e0;\n",
       "            color:  #000000;\n",
       "        }#T_595be4b4_8186_11eb_ab82_acde48001122row4_col7,#T_595be4b4_8186_11eb_ab82_acde48001122row5_col7{\n",
       "            background-color:  #97b8ff;\n",
       "            color:  #000000;\n",
       "        }#T_595be4b4_8186_11eb_ab82_acde48001122row4_col9,#T_595be4b4_8186_11eb_ab82_acde48001122row6_col13{\n",
       "            background-color:  #c0d4f5;\n",
       "            color:  #000000;\n",
       "        }#T_595be4b4_8186_11eb_ab82_acde48001122row4_col11,#T_595be4b4_8186_11eb_ab82_acde48001122row12_col0{\n",
       "            background-color:  #aac7fd;\n",
       "            color:  #000000;\n",
       "        }#T_595be4b4_8186_11eb_ab82_acde48001122row4_col12,#T_595be4b4_8186_11eb_ab82_acde48001122row5_col10,#T_595be4b4_8186_11eb_ab82_acde48001122row6_col9,#T_595be4b4_8186_11eb_ab82_acde48001122row8_col1{\n",
       "            background-color:  #a9c6fd;\n",
       "            color:  #000000;\n",
       "        }#T_595be4b4_8186_11eb_ab82_acde48001122row4_col13{\n",
       "            background-color:  #8badfd;\n",
       "            color:  #000000;\n",
       "        }#T_595be4b4_8186_11eb_ab82_acde48001122row5_col1,#T_595be4b4_8186_11eb_ab82_acde48001122row6_col8{\n",
       "            background-color:  #8fb1fe;\n",
       "            color:  #000000;\n",
       "        }#T_595be4b4_8186_11eb_ab82_acde48001122row5_col3,#T_595be4b4_8186_11eb_ab82_acde48001122row5_col13{\n",
       "            background-color:  #98b9ff;\n",
       "            color:  #000000;\n",
       "        }#T_595be4b4_8186_11eb_ab82_acde48001122row5_col4,#T_595be4b4_8186_11eb_ab82_acde48001122row10_col12{\n",
       "            background-color:  #7396f5;\n",
       "            color:  #000000;\n",
       "        }#T_595be4b4_8186_11eb_ab82_acde48001122row5_col6{\n",
       "            background-color:  #4b64d5;\n",
       "            color:  #f1f1f1;\n",
       "        }#T_595be4b4_8186_11eb_ab82_acde48001122row5_col8{\n",
       "            background-color:  #a6c4fe;\n",
       "            color:  #000000;\n",
       "        }#T_595be4b4_8186_11eb_ab82_acde48001122row5_col11{\n",
       "            background-color:  #bad0f8;\n",
       "            color:  #000000;\n",
       "        }#T_595be4b4_8186_11eb_ab82_acde48001122row6_col2,#T_595be4b4_8186_11eb_ab82_acde48001122row11_col10{\n",
       "            background-color:  #a3c2fe;\n",
       "            color:  #000000;\n",
       "        }#T_595be4b4_8186_11eb_ab82_acde48001122row6_col3{\n",
       "            background-color:  #4257c9;\n",
       "            color:  #f1f1f1;\n",
       "        }#T_595be4b4_8186_11eb_ab82_acde48001122row6_col4,#T_595be4b4_8186_11eb_ab82_acde48001122row7_col8{\n",
       "            background-color:  #465ecf;\n",
       "            color:  #f1f1f1;\n",
       "        }#T_595be4b4_8186_11eb_ab82_acde48001122row6_col10{\n",
       "            background-color:  #c7d7f0;\n",
       "            color:  #000000;\n",
       "        }#T_595be4b4_8186_11eb_ab82_acde48001122row7_col1,#T_595be4b4_8186_11eb_ab82_acde48001122row7_col12,#T_595be4b4_8186_11eb_ab82_acde48001122row8_col3{\n",
       "            background-color:  #7699f6;\n",
       "            color:  #000000;\n",
       "        }#T_595be4b4_8186_11eb_ab82_acde48001122row7_col2{\n",
       "            background-color:  #dbdcde;\n",
       "            color:  #000000;\n",
       "        }#T_595be4b4_8186_11eb_ab82_acde48001122row7_col3,#T_595be4b4_8186_11eb_ab82_acde48001122row9_col5{\n",
       "            background-color:  #5470de;\n",
       "            color:  #000000;\n",
       "        }#T_595be4b4_8186_11eb_ab82_acde48001122row7_col4{\n",
       "            background-color:  #6c8ff1;\n",
       "            color:  #000000;\n",
       "        }#T_595be4b4_8186_11eb_ab82_acde48001122row7_col5,#T_595be4b4_8186_11eb_ab82_acde48001122row8_col6,#T_595be4b4_8186_11eb_ab82_acde48001122row11_col6{\n",
       "            background-color:  #4f69d9;\n",
       "            color:  #000000;\n",
       "        }#T_595be4b4_8186_11eb_ab82_acde48001122row7_col10{\n",
       "            background-color:  #f3c8b2;\n",
       "            color:  #000000;\n",
       "        }#T_595be4b4_8186_11eb_ab82_acde48001122row7_col11{\n",
       "            background-color:  #6282ea;\n",
       "            color:  #000000;\n",
       "        }#T_595be4b4_8186_11eb_ab82_acde48001122row7_col13,#T_595be4b4_8186_11eb_ab82_acde48001122row13_col2{\n",
       "            background-color:  #f1ccb8;\n",
       "            color:  #000000;\n",
       "        }#T_595be4b4_8186_11eb_ab82_acde48001122row8_col4{\n",
       "            background-color:  #82a6fb;\n",
       "            color:  #000000;\n",
       "        }#T_595be4b4_8186_11eb_ab82_acde48001122row8_col7{\n",
       "            background-color:  #3e51c5;\n",
       "            color:  #f1f1f1;\n",
       "        }#T_595be4b4_8186_11eb_ab82_acde48001122row8_col9{\n",
       "            background-color:  #e9d5cb;\n",
       "            color:  #000000;\n",
       "        }#T_595be4b4_8186_11eb_ab82_acde48001122row8_col12{\n",
       "            background-color:  #c3d5f4;\n",
       "            color:  #000000;\n",
       "        }#T_595be4b4_8186_11eb_ab82_acde48001122row9_col0{\n",
       "            background-color:  #cbd8ee;\n",
       "            color:  #000000;\n",
       "        }#T_595be4b4_8186_11eb_ab82_acde48001122row9_col1,#T_595be4b4_8186_11eb_ab82_acde48001122row9_col3{\n",
       "            background-color:  #9dbdff;\n",
       "            color:  #000000;\n",
       "        }#T_595be4b4_8186_11eb_ab82_acde48001122row9_col4{\n",
       "            background-color:  #7ea1fa;\n",
       "            color:  #000000;\n",
       "        }#T_595be4b4_8186_11eb_ab82_acde48001122row9_col7{\n",
       "            background-color:  #455cce;\n",
       "            color:  #f1f1f1;\n",
       "        }#T_595be4b4_8186_11eb_ab82_acde48001122row9_col8,#T_595be4b4_8186_11eb_ab82_acde48001122row11_col9{\n",
       "            background-color:  #dedcdb;\n",
       "            color:  #000000;\n",
       "        }#T_595be4b4_8186_11eb_ab82_acde48001122row9_col13{\n",
       "            background-color:  #3c4ec2;\n",
       "            color:  #f1f1f1;\n",
       "        }#T_595be4b4_8186_11eb_ab82_acde48001122row10_col1{\n",
       "            background-color:  #7a9df8;\n",
       "            color:  #000000;\n",
       "        }#T_595be4b4_8186_11eb_ab82_acde48001122row10_col3,#T_595be4b4_8186_11eb_ab82_acde48001122row10_col5{\n",
       "            background-color:  #4055c8;\n",
       "            color:  #f1f1f1;\n",
       "        }#T_595be4b4_8186_11eb_ab82_acde48001122row10_col4{\n",
       "            background-color:  #6e90f2;\n",
       "            color:  #000000;\n",
       "        }#T_595be4b4_8186_11eb_ab82_acde48001122row10_col7{\n",
       "            background-color:  #ebd3c6;\n",
       "            color:  #000000;\n",
       "        }#T_595be4b4_8186_11eb_ab82_acde48001122row10_col8,#T_595be4b4_8186_11eb_ab82_acde48001122row13_col0{\n",
       "            background-color:  #6180e9;\n",
       "            color:  #000000;\n",
       "        }#T_595be4b4_8186_11eb_ab82_acde48001122row10_col11,#T_595be4b4_8186_11eb_ab82_acde48001122row11_col4{\n",
       "            background-color:  #84a7fc;\n",
       "            color:  #000000;\n",
       "        }#T_595be4b4_8186_11eb_ab82_acde48001122row10_col13{\n",
       "            background-color:  #e8d6cc;\n",
       "            color:  #000000;\n",
       "        }#T_595be4b4_8186_11eb_ab82_acde48001122row11_col0{\n",
       "            background-color:  #d8dce2;\n",
       "            color:  #000000;\n",
       "        }#T_595be4b4_8186_11eb_ab82_acde48001122row11_col1{\n",
       "            background-color:  #a2c1ff;\n",
       "            color:  #000000;\n",
       "        }#T_595be4b4_8186_11eb_ab82_acde48001122row11_col2{\n",
       "            background-color:  #6b8df0;\n",
       "            color:  #000000;\n",
       "        }#T_595be4b4_8186_11eb_ab82_acde48001122row11_col3,#T_595be4b4_8186_11eb_ab82_acde48001122row12_col7{\n",
       "            background-color:  #81a4fb;\n",
       "            color:  #000000;\n",
       "        }#T_595be4b4_8186_11eb_ab82_acde48001122row11_col5{\n",
       "            background-color:  #7da0f9;\n",
       "            color:  #000000;\n",
       "        }#T_595be4b4_8186_11eb_ab82_acde48001122row11_col7{\n",
       "            background-color:  #6384eb;\n",
       "            color:  #000000;\n",
       "        }#T_595be4b4_8186_11eb_ab82_acde48001122row11_col8,#T_595be4b4_8186_11eb_ab82_acde48001122row12_col1{\n",
       "            background-color:  #bbd1f8;\n",
       "            color:  #000000;\n",
       "        }#T_595be4b4_8186_11eb_ab82_acde48001122row12_col5{\n",
       "            background-color:  #4961d2;\n",
       "            color:  #f1f1f1;\n",
       "        }#T_595be4b4_8186_11eb_ab82_acde48001122row12_col8{\n",
       "            background-color:  #cedaeb;\n",
       "            color:  #000000;\n",
       "        }#T_595be4b4_8186_11eb_ab82_acde48001122row12_col10{\n",
       "            background-color:  #9ebeff;\n",
       "            color:  #000000;\n",
       "        }#T_595be4b4_8186_11eb_ab82_acde48001122row12_col11{\n",
       "            background-color:  #bcd2f7;\n",
       "            color:  #000000;\n",
       "        }#T_595be4b4_8186_11eb_ab82_acde48001122row13_col4{\n",
       "            background-color:  #5875e1;\n",
       "            color:  #000000;\n",
       "        }#T_595be4b4_8186_11eb_ab82_acde48001122row13_col5{\n",
       "            background-color:  #4a63d3;\n",
       "            color:  #f1f1f1;\n",
       "        }#T_595be4b4_8186_11eb_ab82_acde48001122row13_col7{\n",
       "            background-color:  #f0cdbb;\n",
       "            color:  #000000;\n",
       "        }#T_595be4b4_8186_11eb_ab82_acde48001122row13_col10{\n",
       "            background-color:  #efcebd;\n",
       "            color:  #000000;\n",
       "        }</style><table id=\"T_595be4b4_8186_11eb_ab82_acde48001122\" ><thead>    <tr>        <th class=\"blank level0\" ></th>        <th class=\"col_heading level0 col0\" >age</th>        <th class=\"col_heading level0 col1\" >sex</th>        <th class=\"col_heading level0 col2\" >cp</th>        <th class=\"col_heading level0 col3\" >trestbps</th>        <th class=\"col_heading level0 col4\" >chol</th>        <th class=\"col_heading level0 col5\" >fbs</th>        <th class=\"col_heading level0 col6\" >restecg</th>        <th class=\"col_heading level0 col7\" >thalach</th>        <th class=\"col_heading level0 col8\" >exang</th>        <th class=\"col_heading level0 col9\" >oldpeak</th>        <th class=\"col_heading level0 col10\" >slope</th>        <th class=\"col_heading level0 col11\" >ca</th>        <th class=\"col_heading level0 col12\" >thal</th>        <th class=\"col_heading level0 col13\" >target</th>    </tr></thead><tbody>\n",
       "                <tr>\n",
       "                        <th id=\"T_595be4b4_8186_11eb_ab82_acde48001122level0_row0\" class=\"row_heading level0 row0\" >age</th>\n",
       "                        <td id=\"T_595be4b4_8186_11eb_ab82_acde48001122row0_col0\" class=\"data row0 col0\" >1.000000</td>\n",
       "                        <td id=\"T_595be4b4_8186_11eb_ab82_acde48001122row0_col1\" class=\"data row0 col1\" >-0.098447</td>\n",
       "                        <td id=\"T_595be4b4_8186_11eb_ab82_acde48001122row0_col2\" class=\"data row0 col2\" >-0.068653</td>\n",
       "                        <td id=\"T_595be4b4_8186_11eb_ab82_acde48001122row0_col3\" class=\"data row0 col3\" >0.279351</td>\n",
       "                        <td id=\"T_595be4b4_8186_11eb_ab82_acde48001122row0_col4\" class=\"data row0 col4\" >0.213678</td>\n",
       "                        <td id=\"T_595be4b4_8186_11eb_ab82_acde48001122row0_col5\" class=\"data row0 col5\" >0.121308</td>\n",
       "                        <td id=\"T_595be4b4_8186_11eb_ab82_acde48001122row0_col6\" class=\"data row0 col6\" >-0.116211</td>\n",
       "                        <td id=\"T_595be4b4_8186_11eb_ab82_acde48001122row0_col7\" class=\"data row0 col7\" >-0.398522</td>\n",
       "                        <td id=\"T_595be4b4_8186_11eb_ab82_acde48001122row0_col8\" class=\"data row0 col8\" >0.096801</td>\n",
       "                        <td id=\"T_595be4b4_8186_11eb_ab82_acde48001122row0_col9\" class=\"data row0 col9\" >0.210013</td>\n",
       "                        <td id=\"T_595be4b4_8186_11eb_ab82_acde48001122row0_col10\" class=\"data row0 col10\" >-0.168814</td>\n",
       "                        <td id=\"T_595be4b4_8186_11eb_ab82_acde48001122row0_col11\" class=\"data row0 col11\" >0.276326</td>\n",
       "                        <td id=\"T_595be4b4_8186_11eb_ab82_acde48001122row0_col12\" class=\"data row0 col12\" >0.068001</td>\n",
       "                        <td id=\"T_595be4b4_8186_11eb_ab82_acde48001122row0_col13\" class=\"data row0 col13\" >-0.225439</td>\n",
       "            </tr>\n",
       "            <tr>\n",
       "                        <th id=\"T_595be4b4_8186_11eb_ab82_acde48001122level0_row1\" class=\"row_heading level0 row1\" >sex</th>\n",
       "                        <td id=\"T_595be4b4_8186_11eb_ab82_acde48001122row1_col0\" class=\"data row1 col0\" >-0.098447</td>\n",
       "                        <td id=\"T_595be4b4_8186_11eb_ab82_acde48001122row1_col1\" class=\"data row1 col1\" >1.000000</td>\n",
       "                        <td id=\"T_595be4b4_8186_11eb_ab82_acde48001122row1_col2\" class=\"data row1 col2\" >-0.049353</td>\n",
       "                        <td id=\"T_595be4b4_8186_11eb_ab82_acde48001122row1_col3\" class=\"data row1 col3\" >-0.056769</td>\n",
       "                        <td id=\"T_595be4b4_8186_11eb_ab82_acde48001122row1_col4\" class=\"data row1 col4\" >-0.197912</td>\n",
       "                        <td id=\"T_595be4b4_8186_11eb_ab82_acde48001122row1_col5\" class=\"data row1 col5\" >0.045032</td>\n",
       "                        <td id=\"T_595be4b4_8186_11eb_ab82_acde48001122row1_col6\" class=\"data row1 col6\" >-0.058196</td>\n",
       "                        <td id=\"T_595be4b4_8186_11eb_ab82_acde48001122row1_col7\" class=\"data row1 col7\" >-0.044020</td>\n",
       "                        <td id=\"T_595be4b4_8186_11eb_ab82_acde48001122row1_col8\" class=\"data row1 col8\" >0.141664</td>\n",
       "                        <td id=\"T_595be4b4_8186_11eb_ab82_acde48001122row1_col9\" class=\"data row1 col9\" >0.096093</td>\n",
       "                        <td id=\"T_595be4b4_8186_11eb_ab82_acde48001122row1_col10\" class=\"data row1 col10\" >-0.030711</td>\n",
       "                        <td id=\"T_595be4b4_8186_11eb_ab82_acde48001122row1_col11\" class=\"data row1 col11\" >0.118261</td>\n",
       "                        <td id=\"T_595be4b4_8186_11eb_ab82_acde48001122row1_col12\" class=\"data row1 col12\" >0.210041</td>\n",
       "                        <td id=\"T_595be4b4_8186_11eb_ab82_acde48001122row1_col13\" class=\"data row1 col13\" >-0.280937</td>\n",
       "            </tr>\n",
       "            <tr>\n",
       "                        <th id=\"T_595be4b4_8186_11eb_ab82_acde48001122level0_row2\" class=\"row_heading level0 row2\" >cp</th>\n",
       "                        <td id=\"T_595be4b4_8186_11eb_ab82_acde48001122row2_col0\" class=\"data row2 col0\" >-0.068653</td>\n",
       "                        <td id=\"T_595be4b4_8186_11eb_ab82_acde48001122row2_col1\" class=\"data row2 col1\" >-0.049353</td>\n",
       "                        <td id=\"T_595be4b4_8186_11eb_ab82_acde48001122row2_col2\" class=\"data row2 col2\" >1.000000</td>\n",
       "                        <td id=\"T_595be4b4_8186_11eb_ab82_acde48001122row2_col3\" class=\"data row2 col3\" >0.047608</td>\n",
       "                        <td id=\"T_595be4b4_8186_11eb_ab82_acde48001122row2_col4\" class=\"data row2 col4\" >-0.076904</td>\n",
       "                        <td id=\"T_595be4b4_8186_11eb_ab82_acde48001122row2_col5\" class=\"data row2 col5\" >0.094444</td>\n",
       "                        <td id=\"T_595be4b4_8186_11eb_ab82_acde48001122row2_col6\" class=\"data row2 col6\" >0.044421</td>\n",
       "                        <td id=\"T_595be4b4_8186_11eb_ab82_acde48001122row2_col7\" class=\"data row2 col7\" >0.295762</td>\n",
       "                        <td id=\"T_595be4b4_8186_11eb_ab82_acde48001122row2_col8\" class=\"data row2 col8\" >-0.394280</td>\n",
       "                        <td id=\"T_595be4b4_8186_11eb_ab82_acde48001122row2_col9\" class=\"data row2 col9\" >-0.149230</td>\n",
       "                        <td id=\"T_595be4b4_8186_11eb_ab82_acde48001122row2_col10\" class=\"data row2 col10\" >0.119717</td>\n",
       "                        <td id=\"T_595be4b4_8186_11eb_ab82_acde48001122row2_col11\" class=\"data row2 col11\" >-0.181053</td>\n",
       "                        <td id=\"T_595be4b4_8186_11eb_ab82_acde48001122row2_col12\" class=\"data row2 col12\" >-0.161736</td>\n",
       "                        <td id=\"T_595be4b4_8186_11eb_ab82_acde48001122row2_col13\" class=\"data row2 col13\" >0.433798</td>\n",
       "            </tr>\n",
       "            <tr>\n",
       "                        <th id=\"T_595be4b4_8186_11eb_ab82_acde48001122level0_row3\" class=\"row_heading level0 row3\" >trestbps</th>\n",
       "                        <td id=\"T_595be4b4_8186_11eb_ab82_acde48001122row3_col0\" class=\"data row3 col0\" >0.279351</td>\n",
       "                        <td id=\"T_595be4b4_8186_11eb_ab82_acde48001122row3_col1\" class=\"data row3 col1\" >-0.056769</td>\n",
       "                        <td id=\"T_595be4b4_8186_11eb_ab82_acde48001122row3_col2\" class=\"data row3 col2\" >0.047608</td>\n",
       "                        <td id=\"T_595be4b4_8186_11eb_ab82_acde48001122row3_col3\" class=\"data row3 col3\" >1.000000</td>\n",
       "                        <td id=\"T_595be4b4_8186_11eb_ab82_acde48001122row3_col4\" class=\"data row3 col4\" >0.123174</td>\n",
       "                        <td id=\"T_595be4b4_8186_11eb_ab82_acde48001122row3_col5\" class=\"data row3 col5\" >0.177531</td>\n",
       "                        <td id=\"T_595be4b4_8186_11eb_ab82_acde48001122row3_col6\" class=\"data row3 col6\" >-0.114103</td>\n",
       "                        <td id=\"T_595be4b4_8186_11eb_ab82_acde48001122row3_col7\" class=\"data row3 col7\" >-0.046698</td>\n",
       "                        <td id=\"T_595be4b4_8186_11eb_ab82_acde48001122row3_col8\" class=\"data row3 col8\" >0.067616</td>\n",
       "                        <td id=\"T_595be4b4_8186_11eb_ab82_acde48001122row3_col9\" class=\"data row3 col9\" >0.193216</td>\n",
       "                        <td id=\"T_595be4b4_8186_11eb_ab82_acde48001122row3_col10\" class=\"data row3 col10\" >-0.121475</td>\n",
       "                        <td id=\"T_595be4b4_8186_11eb_ab82_acde48001122row3_col11\" class=\"data row3 col11\" >0.101389</td>\n",
       "                        <td id=\"T_595be4b4_8186_11eb_ab82_acde48001122row3_col12\" class=\"data row3 col12\" >0.062210</td>\n",
       "                        <td id=\"T_595be4b4_8186_11eb_ab82_acde48001122row3_col13\" class=\"data row3 col13\" >-0.144931</td>\n",
       "            </tr>\n",
       "            <tr>\n",
       "                        <th id=\"T_595be4b4_8186_11eb_ab82_acde48001122level0_row4\" class=\"row_heading level0 row4\" >chol</th>\n",
       "                        <td id=\"T_595be4b4_8186_11eb_ab82_acde48001122row4_col0\" class=\"data row4 col0\" >0.213678</td>\n",
       "                        <td id=\"T_595be4b4_8186_11eb_ab82_acde48001122row4_col1\" class=\"data row4 col1\" >-0.197912</td>\n",
       "                        <td id=\"T_595be4b4_8186_11eb_ab82_acde48001122row4_col2\" class=\"data row4 col2\" >-0.076904</td>\n",
       "                        <td id=\"T_595be4b4_8186_11eb_ab82_acde48001122row4_col3\" class=\"data row4 col3\" >0.123174</td>\n",
       "                        <td id=\"T_595be4b4_8186_11eb_ab82_acde48001122row4_col4\" class=\"data row4 col4\" >1.000000</td>\n",
       "                        <td id=\"T_595be4b4_8186_11eb_ab82_acde48001122row4_col5\" class=\"data row4 col5\" >0.013294</td>\n",
       "                        <td id=\"T_595be4b4_8186_11eb_ab82_acde48001122row4_col6\" class=\"data row4 col6\" >-0.151040</td>\n",
       "                        <td id=\"T_595be4b4_8186_11eb_ab82_acde48001122row4_col7\" class=\"data row4 col7\" >-0.009940</td>\n",
       "                        <td id=\"T_595be4b4_8186_11eb_ab82_acde48001122row4_col8\" class=\"data row4 col8\" >0.067023</td>\n",
       "                        <td id=\"T_595be4b4_8186_11eb_ab82_acde48001122row4_col9\" class=\"data row4 col9\" >0.053952</td>\n",
       "                        <td id=\"T_595be4b4_8186_11eb_ab82_acde48001122row4_col10\" class=\"data row4 col10\" >-0.004038</td>\n",
       "                        <td id=\"T_595be4b4_8186_11eb_ab82_acde48001122row4_col11\" class=\"data row4 col11\" >0.070511</td>\n",
       "                        <td id=\"T_595be4b4_8186_11eb_ab82_acde48001122row4_col12\" class=\"data row4 col12\" >0.098803</td>\n",
       "                        <td id=\"T_595be4b4_8186_11eb_ab82_acde48001122row4_col13\" class=\"data row4 col13\" >-0.085239</td>\n",
       "            </tr>\n",
       "            <tr>\n",
       "                        <th id=\"T_595be4b4_8186_11eb_ab82_acde48001122level0_row5\" class=\"row_heading level0 row5\" >fbs</th>\n",
       "                        <td id=\"T_595be4b4_8186_11eb_ab82_acde48001122row5_col0\" class=\"data row5 col0\" >0.121308</td>\n",
       "                        <td id=\"T_595be4b4_8186_11eb_ab82_acde48001122row5_col1\" class=\"data row5 col1\" >0.045032</td>\n",
       "                        <td id=\"T_595be4b4_8186_11eb_ab82_acde48001122row5_col2\" class=\"data row5 col2\" >0.094444</td>\n",
       "                        <td id=\"T_595be4b4_8186_11eb_ab82_acde48001122row5_col3\" class=\"data row5 col3\" >0.177531</td>\n",
       "                        <td id=\"T_595be4b4_8186_11eb_ab82_acde48001122row5_col4\" class=\"data row5 col4\" >0.013294</td>\n",
       "                        <td id=\"T_595be4b4_8186_11eb_ab82_acde48001122row5_col5\" class=\"data row5 col5\" >1.000000</td>\n",
       "                        <td id=\"T_595be4b4_8186_11eb_ab82_acde48001122row5_col6\" class=\"data row5 col6\" >-0.084189</td>\n",
       "                        <td id=\"T_595be4b4_8186_11eb_ab82_acde48001122row5_col7\" class=\"data row5 col7\" >-0.008567</td>\n",
       "                        <td id=\"T_595be4b4_8186_11eb_ab82_acde48001122row5_col8\" class=\"data row5 col8\" >0.025665</td>\n",
       "                        <td id=\"T_595be4b4_8186_11eb_ab82_acde48001122row5_col9\" class=\"data row5 col9\" >0.005747</td>\n",
       "                        <td id=\"T_595be4b4_8186_11eb_ab82_acde48001122row5_col10\" class=\"data row5 col10\" >-0.059894</td>\n",
       "                        <td id=\"T_595be4b4_8186_11eb_ab82_acde48001122row5_col11\" class=\"data row5 col11\" >0.137979</td>\n",
       "                        <td id=\"T_595be4b4_8186_11eb_ab82_acde48001122row5_col12\" class=\"data row5 col12\" >-0.032019</td>\n",
       "                        <td id=\"T_595be4b4_8186_11eb_ab82_acde48001122row5_col13\" class=\"data row5 col13\" >-0.028046</td>\n",
       "            </tr>\n",
       "            <tr>\n",
       "                        <th id=\"T_595be4b4_8186_11eb_ab82_acde48001122level0_row6\" class=\"row_heading level0 row6\" >restecg</th>\n",
       "                        <td id=\"T_595be4b4_8186_11eb_ab82_acde48001122row6_col0\" class=\"data row6 col0\" >-0.116211</td>\n",
       "                        <td id=\"T_595be4b4_8186_11eb_ab82_acde48001122row6_col1\" class=\"data row6 col1\" >-0.058196</td>\n",
       "                        <td id=\"T_595be4b4_8186_11eb_ab82_acde48001122row6_col2\" class=\"data row6 col2\" >0.044421</td>\n",
       "                        <td id=\"T_595be4b4_8186_11eb_ab82_acde48001122row6_col3\" class=\"data row6 col3\" >-0.114103</td>\n",
       "                        <td id=\"T_595be4b4_8186_11eb_ab82_acde48001122row6_col4\" class=\"data row6 col4\" >-0.151040</td>\n",
       "                        <td id=\"T_595be4b4_8186_11eb_ab82_acde48001122row6_col5\" class=\"data row6 col5\" >-0.084189</td>\n",
       "                        <td id=\"T_595be4b4_8186_11eb_ab82_acde48001122row6_col6\" class=\"data row6 col6\" >1.000000</td>\n",
       "                        <td id=\"T_595be4b4_8186_11eb_ab82_acde48001122row6_col7\" class=\"data row6 col7\" >0.044123</td>\n",
       "                        <td id=\"T_595be4b4_8186_11eb_ab82_acde48001122row6_col8\" class=\"data row6 col8\" >-0.070733</td>\n",
       "                        <td id=\"T_595be4b4_8186_11eb_ab82_acde48001122row6_col9\" class=\"data row6 col9\" >-0.058770</td>\n",
       "                        <td id=\"T_595be4b4_8186_11eb_ab82_acde48001122row6_col10\" class=\"data row6 col10\" >0.093045</td>\n",
       "                        <td id=\"T_595be4b4_8186_11eb_ab82_acde48001122row6_col11\" class=\"data row6 col11\" >-0.072042</td>\n",
       "                        <td id=\"T_595be4b4_8186_11eb_ab82_acde48001122row6_col12\" class=\"data row6 col12\" >-0.011981</td>\n",
       "                        <td id=\"T_595be4b4_8186_11eb_ab82_acde48001122row6_col13\" class=\"data row6 col13\" >0.137230</td>\n",
       "            </tr>\n",
       "            <tr>\n",
       "                        <th id=\"T_595be4b4_8186_11eb_ab82_acde48001122level0_row7\" class=\"row_heading level0 row7\" >thalach</th>\n",
       "                        <td id=\"T_595be4b4_8186_11eb_ab82_acde48001122row7_col0\" class=\"data row7 col0\" >-0.398522</td>\n",
       "                        <td id=\"T_595be4b4_8186_11eb_ab82_acde48001122row7_col1\" class=\"data row7 col1\" >-0.044020</td>\n",
       "                        <td id=\"T_595be4b4_8186_11eb_ab82_acde48001122row7_col2\" class=\"data row7 col2\" >0.295762</td>\n",
       "                        <td id=\"T_595be4b4_8186_11eb_ab82_acde48001122row7_col3\" class=\"data row7 col3\" >-0.046698</td>\n",
       "                        <td id=\"T_595be4b4_8186_11eb_ab82_acde48001122row7_col4\" class=\"data row7 col4\" >-0.009940</td>\n",
       "                        <td id=\"T_595be4b4_8186_11eb_ab82_acde48001122row7_col5\" class=\"data row7 col5\" >-0.008567</td>\n",
       "                        <td id=\"T_595be4b4_8186_11eb_ab82_acde48001122row7_col6\" class=\"data row7 col6\" >0.044123</td>\n",
       "                        <td id=\"T_595be4b4_8186_11eb_ab82_acde48001122row7_col7\" class=\"data row7 col7\" >1.000000</td>\n",
       "                        <td id=\"T_595be4b4_8186_11eb_ab82_acde48001122row7_col8\" class=\"data row7 col8\" >-0.378812</td>\n",
       "                        <td id=\"T_595be4b4_8186_11eb_ab82_acde48001122row7_col9\" class=\"data row7 col9\" >-0.344187</td>\n",
       "                        <td id=\"T_595be4b4_8186_11eb_ab82_acde48001122row7_col10\" class=\"data row7 col10\" >0.386784</td>\n",
       "                        <td id=\"T_595be4b4_8186_11eb_ab82_acde48001122row7_col11\" class=\"data row7 col11\" >-0.213177</td>\n",
       "                        <td id=\"T_595be4b4_8186_11eb_ab82_acde48001122row7_col12\" class=\"data row7 col12\" >-0.096439</td>\n",
       "                        <td id=\"T_595be4b4_8186_11eb_ab82_acde48001122row7_col13\" class=\"data row7 col13\" >0.421741</td>\n",
       "            </tr>\n",
       "            <tr>\n",
       "                        <th id=\"T_595be4b4_8186_11eb_ab82_acde48001122level0_row8\" class=\"row_heading level0 row8\" >exang</th>\n",
       "                        <td id=\"T_595be4b4_8186_11eb_ab82_acde48001122row8_col0\" class=\"data row8 col0\" >0.096801</td>\n",
       "                        <td id=\"T_595be4b4_8186_11eb_ab82_acde48001122row8_col1\" class=\"data row8 col1\" >0.141664</td>\n",
       "                        <td id=\"T_595be4b4_8186_11eb_ab82_acde48001122row8_col2\" class=\"data row8 col2\" >-0.394280</td>\n",
       "                        <td id=\"T_595be4b4_8186_11eb_ab82_acde48001122row8_col3\" class=\"data row8 col3\" >0.067616</td>\n",
       "                        <td id=\"T_595be4b4_8186_11eb_ab82_acde48001122row8_col4\" class=\"data row8 col4\" >0.067023</td>\n",
       "                        <td id=\"T_595be4b4_8186_11eb_ab82_acde48001122row8_col5\" class=\"data row8 col5\" >0.025665</td>\n",
       "                        <td id=\"T_595be4b4_8186_11eb_ab82_acde48001122row8_col6\" class=\"data row8 col6\" >-0.070733</td>\n",
       "                        <td id=\"T_595be4b4_8186_11eb_ab82_acde48001122row8_col7\" class=\"data row8 col7\" >-0.378812</td>\n",
       "                        <td id=\"T_595be4b4_8186_11eb_ab82_acde48001122row8_col8\" class=\"data row8 col8\" >1.000000</td>\n",
       "                        <td id=\"T_595be4b4_8186_11eb_ab82_acde48001122row8_col9\" class=\"data row8 col9\" >0.288223</td>\n",
       "                        <td id=\"T_595be4b4_8186_11eb_ab82_acde48001122row8_col10\" class=\"data row8 col10\" >-0.257748</td>\n",
       "                        <td id=\"T_595be4b4_8186_11eb_ab82_acde48001122row8_col11\" class=\"data row8 col11\" >0.115739</td>\n",
       "                        <td id=\"T_595be4b4_8186_11eb_ab82_acde48001122row8_col12\" class=\"data row8 col12\" >0.206754</td>\n",
       "                        <td id=\"T_595be4b4_8186_11eb_ab82_acde48001122row8_col13\" class=\"data row8 col13\" >-0.436757</td>\n",
       "            </tr>\n",
       "            <tr>\n",
       "                        <th id=\"T_595be4b4_8186_11eb_ab82_acde48001122level0_row9\" class=\"row_heading level0 row9\" >oldpeak</th>\n",
       "                        <td id=\"T_595be4b4_8186_11eb_ab82_acde48001122row9_col0\" class=\"data row9 col0\" >0.210013</td>\n",
       "                        <td id=\"T_595be4b4_8186_11eb_ab82_acde48001122row9_col1\" class=\"data row9 col1\" >0.096093</td>\n",
       "                        <td id=\"T_595be4b4_8186_11eb_ab82_acde48001122row9_col2\" class=\"data row9 col2\" >-0.149230</td>\n",
       "                        <td id=\"T_595be4b4_8186_11eb_ab82_acde48001122row9_col3\" class=\"data row9 col3\" >0.193216</td>\n",
       "                        <td id=\"T_595be4b4_8186_11eb_ab82_acde48001122row9_col4\" class=\"data row9 col4\" >0.053952</td>\n",
       "                        <td id=\"T_595be4b4_8186_11eb_ab82_acde48001122row9_col5\" class=\"data row9 col5\" >0.005747</td>\n",
       "                        <td id=\"T_595be4b4_8186_11eb_ab82_acde48001122row9_col6\" class=\"data row9 col6\" >-0.058770</td>\n",
       "                        <td id=\"T_595be4b4_8186_11eb_ab82_acde48001122row9_col7\" class=\"data row9 col7\" >-0.344187</td>\n",
       "                        <td id=\"T_595be4b4_8186_11eb_ab82_acde48001122row9_col8\" class=\"data row9 col8\" >0.288223</td>\n",
       "                        <td id=\"T_595be4b4_8186_11eb_ab82_acde48001122row9_col9\" class=\"data row9 col9\" >1.000000</td>\n",
       "                        <td id=\"T_595be4b4_8186_11eb_ab82_acde48001122row9_col10\" class=\"data row9 col10\" >-0.577537</td>\n",
       "                        <td id=\"T_595be4b4_8186_11eb_ab82_acde48001122row9_col11\" class=\"data row9 col11\" >0.222682</td>\n",
       "                        <td id=\"T_595be4b4_8186_11eb_ab82_acde48001122row9_col12\" class=\"data row9 col12\" >0.210244</td>\n",
       "                        <td id=\"T_595be4b4_8186_11eb_ab82_acde48001122row9_col13\" class=\"data row9 col13\" >-0.430696</td>\n",
       "            </tr>\n",
       "            <tr>\n",
       "                        <th id=\"T_595be4b4_8186_11eb_ab82_acde48001122level0_row10\" class=\"row_heading level0 row10\" >slope</th>\n",
       "                        <td id=\"T_595be4b4_8186_11eb_ab82_acde48001122row10_col0\" class=\"data row10 col0\" >-0.168814</td>\n",
       "                        <td id=\"T_595be4b4_8186_11eb_ab82_acde48001122row10_col1\" class=\"data row10 col1\" >-0.030711</td>\n",
       "                        <td id=\"T_595be4b4_8186_11eb_ab82_acde48001122row10_col2\" class=\"data row10 col2\" >0.119717</td>\n",
       "                        <td id=\"T_595be4b4_8186_11eb_ab82_acde48001122row10_col3\" class=\"data row10 col3\" >-0.121475</td>\n",
       "                        <td id=\"T_595be4b4_8186_11eb_ab82_acde48001122row10_col4\" class=\"data row10 col4\" >-0.004038</td>\n",
       "                        <td id=\"T_595be4b4_8186_11eb_ab82_acde48001122row10_col5\" class=\"data row10 col5\" >-0.059894</td>\n",
       "                        <td id=\"T_595be4b4_8186_11eb_ab82_acde48001122row10_col6\" class=\"data row10 col6\" >0.093045</td>\n",
       "                        <td id=\"T_595be4b4_8186_11eb_ab82_acde48001122row10_col7\" class=\"data row10 col7\" >0.386784</td>\n",
       "                        <td id=\"T_595be4b4_8186_11eb_ab82_acde48001122row10_col8\" class=\"data row10 col8\" >-0.257748</td>\n",
       "                        <td id=\"T_595be4b4_8186_11eb_ab82_acde48001122row10_col9\" class=\"data row10 col9\" >-0.577537</td>\n",
       "                        <td id=\"T_595be4b4_8186_11eb_ab82_acde48001122row10_col10\" class=\"data row10 col10\" >1.000000</td>\n",
       "                        <td id=\"T_595be4b4_8186_11eb_ab82_acde48001122row10_col11\" class=\"data row10 col11\" >-0.080155</td>\n",
       "                        <td id=\"T_595be4b4_8186_11eb_ab82_acde48001122row10_col12\" class=\"data row10 col12\" >-0.104764</td>\n",
       "                        <td id=\"T_595be4b4_8186_11eb_ab82_acde48001122row10_col13\" class=\"data row10 col13\" >0.345877</td>\n",
       "            </tr>\n",
       "            <tr>\n",
       "                        <th id=\"T_595be4b4_8186_11eb_ab82_acde48001122level0_row11\" class=\"row_heading level0 row11\" >ca</th>\n",
       "                        <td id=\"T_595be4b4_8186_11eb_ab82_acde48001122row11_col0\" class=\"data row11 col0\" >0.276326</td>\n",
       "                        <td id=\"T_595be4b4_8186_11eb_ab82_acde48001122row11_col1\" class=\"data row11 col1\" >0.118261</td>\n",
       "                        <td id=\"T_595be4b4_8186_11eb_ab82_acde48001122row11_col2\" class=\"data row11 col2\" >-0.181053</td>\n",
       "                        <td id=\"T_595be4b4_8186_11eb_ab82_acde48001122row11_col3\" class=\"data row11 col3\" >0.101389</td>\n",
       "                        <td id=\"T_595be4b4_8186_11eb_ab82_acde48001122row11_col4\" class=\"data row11 col4\" >0.070511</td>\n",
       "                        <td id=\"T_595be4b4_8186_11eb_ab82_acde48001122row11_col5\" class=\"data row11 col5\" >0.137979</td>\n",
       "                        <td id=\"T_595be4b4_8186_11eb_ab82_acde48001122row11_col6\" class=\"data row11 col6\" >-0.072042</td>\n",
       "                        <td id=\"T_595be4b4_8186_11eb_ab82_acde48001122row11_col7\" class=\"data row11 col7\" >-0.213177</td>\n",
       "                        <td id=\"T_595be4b4_8186_11eb_ab82_acde48001122row11_col8\" class=\"data row11 col8\" >0.115739</td>\n",
       "                        <td id=\"T_595be4b4_8186_11eb_ab82_acde48001122row11_col9\" class=\"data row11 col9\" >0.222682</td>\n",
       "                        <td id=\"T_595be4b4_8186_11eb_ab82_acde48001122row11_col10\" class=\"data row11 col10\" >-0.080155</td>\n",
       "                        <td id=\"T_595be4b4_8186_11eb_ab82_acde48001122row11_col11\" class=\"data row11 col11\" >1.000000</td>\n",
       "                        <td id=\"T_595be4b4_8186_11eb_ab82_acde48001122row11_col12\" class=\"data row11 col12\" >0.151832</td>\n",
       "                        <td id=\"T_595be4b4_8186_11eb_ab82_acde48001122row11_col13\" class=\"data row11 col13\" >-0.391724</td>\n",
       "            </tr>\n",
       "            <tr>\n",
       "                        <th id=\"T_595be4b4_8186_11eb_ab82_acde48001122level0_row12\" class=\"row_heading level0 row12\" >thal</th>\n",
       "                        <td id=\"T_595be4b4_8186_11eb_ab82_acde48001122row12_col0\" class=\"data row12 col0\" >0.068001</td>\n",
       "                        <td id=\"T_595be4b4_8186_11eb_ab82_acde48001122row12_col1\" class=\"data row12 col1\" >0.210041</td>\n",
       "                        <td id=\"T_595be4b4_8186_11eb_ab82_acde48001122row12_col2\" class=\"data row12 col2\" >-0.161736</td>\n",
       "                        <td id=\"T_595be4b4_8186_11eb_ab82_acde48001122row12_col3\" class=\"data row12 col3\" >0.062210</td>\n",
       "                        <td id=\"T_595be4b4_8186_11eb_ab82_acde48001122row12_col4\" class=\"data row12 col4\" >0.098803</td>\n",
       "                        <td id=\"T_595be4b4_8186_11eb_ab82_acde48001122row12_col5\" class=\"data row12 col5\" >-0.032019</td>\n",
       "                        <td id=\"T_595be4b4_8186_11eb_ab82_acde48001122row12_col6\" class=\"data row12 col6\" >-0.011981</td>\n",
       "                        <td id=\"T_595be4b4_8186_11eb_ab82_acde48001122row12_col7\" class=\"data row12 col7\" >-0.096439</td>\n",
       "                        <td id=\"T_595be4b4_8186_11eb_ab82_acde48001122row12_col8\" class=\"data row12 col8\" >0.206754</td>\n",
       "                        <td id=\"T_595be4b4_8186_11eb_ab82_acde48001122row12_col9\" class=\"data row12 col9\" >0.210244</td>\n",
       "                        <td id=\"T_595be4b4_8186_11eb_ab82_acde48001122row12_col10\" class=\"data row12 col10\" >-0.104764</td>\n",
       "                        <td id=\"T_595be4b4_8186_11eb_ab82_acde48001122row12_col11\" class=\"data row12 col11\" >0.151832</td>\n",
       "                        <td id=\"T_595be4b4_8186_11eb_ab82_acde48001122row12_col12\" class=\"data row12 col12\" >1.000000</td>\n",
       "                        <td id=\"T_595be4b4_8186_11eb_ab82_acde48001122row12_col13\" class=\"data row12 col13\" >-0.344029</td>\n",
       "            </tr>\n",
       "            <tr>\n",
       "                        <th id=\"T_595be4b4_8186_11eb_ab82_acde48001122level0_row13\" class=\"row_heading level0 row13\" >target</th>\n",
       "                        <td id=\"T_595be4b4_8186_11eb_ab82_acde48001122row13_col0\" class=\"data row13 col0\" >-0.225439</td>\n",
       "                        <td id=\"T_595be4b4_8186_11eb_ab82_acde48001122row13_col1\" class=\"data row13 col1\" >-0.280937</td>\n",
       "                        <td id=\"T_595be4b4_8186_11eb_ab82_acde48001122row13_col2\" class=\"data row13 col2\" >0.433798</td>\n",
       "                        <td id=\"T_595be4b4_8186_11eb_ab82_acde48001122row13_col3\" class=\"data row13 col3\" >-0.144931</td>\n",
       "                        <td id=\"T_595be4b4_8186_11eb_ab82_acde48001122row13_col4\" class=\"data row13 col4\" >-0.085239</td>\n",
       "                        <td id=\"T_595be4b4_8186_11eb_ab82_acde48001122row13_col5\" class=\"data row13 col5\" >-0.028046</td>\n",
       "                        <td id=\"T_595be4b4_8186_11eb_ab82_acde48001122row13_col6\" class=\"data row13 col6\" >0.137230</td>\n",
       "                        <td id=\"T_595be4b4_8186_11eb_ab82_acde48001122row13_col7\" class=\"data row13 col7\" >0.421741</td>\n",
       "                        <td id=\"T_595be4b4_8186_11eb_ab82_acde48001122row13_col8\" class=\"data row13 col8\" >-0.436757</td>\n",
       "                        <td id=\"T_595be4b4_8186_11eb_ab82_acde48001122row13_col9\" class=\"data row13 col9\" >-0.430696</td>\n",
       "                        <td id=\"T_595be4b4_8186_11eb_ab82_acde48001122row13_col10\" class=\"data row13 col10\" >0.345877</td>\n",
       "                        <td id=\"T_595be4b4_8186_11eb_ab82_acde48001122row13_col11\" class=\"data row13 col11\" >-0.391724</td>\n",
       "                        <td id=\"T_595be4b4_8186_11eb_ab82_acde48001122row13_col12\" class=\"data row13 col12\" >-0.344029</td>\n",
       "                        <td id=\"T_595be4b4_8186_11eb_ab82_acde48001122row13_col13\" class=\"data row13 col13\" >1.000000</td>\n",
       "            </tr>\n",
       "    </tbody></table>"
      ],
      "text/plain": [
       "<pandas.io.formats.style.Styler at 0x7fe5cdbf5fd0>"
      ]
     },
     "execution_count": 29,
     "metadata": {},
     "output_type": "execute_result"
    }
   ],
   "source": [
    "# 查看特征之间的相关系数具体数值\n",
    "data.corr().style.background_gradient(cmap='coolwarm')"
   ]
  },
  {
   "cell_type": "markdown",
   "id": "aggressive-soviet",
   "metadata": {},
   "source": [
    "## 数据处理\n",
    "### 问题1：Onehot编码\n",
    "&emsp;&emsp;请对data数据中需要进行Onehot的特征列，进行Onehot编码处理。<br>"
   ]
  },
  {
   "cell_type": "code",
   "execution_count": 30,
   "id": "graphic-westminster",
   "metadata": {
    "pycharm": {
     "name": "#%%\n"
    }
   },
   "outputs": [],
   "source": [
    "# TODO：Onehot编码\n",
    "data = pd.get_dummies(data, columns=['cp','restecg','slope','thal'])"
   ]
  },
  {
   "cell_type": "markdown",
   "id": "noble-turning",
   "metadata": {},
   "source": [
    "### 打印数据info，查看数据列变化。"
   ]
  },
  {
   "cell_type": "code",
   "execution_count": 31,
   "id": "protecting-convert",
   "metadata": {
    "pycharm": {
     "name": "#%%\n"
    }
   },
   "outputs": [
    {
     "name": "stdout",
     "output_type": "stream",
     "text": [
      "<class 'pandas.core.frame.DataFrame'>\n",
      "RangeIndex: 303 entries, 0 to 302\n",
      "Data columns (total 24 columns):\n",
      " #   Column     Non-Null Count  Dtype  \n",
      "---  ------     --------------  -----  \n",
      " 0   age        303 non-null    int64  \n",
      " 1   sex        303 non-null    int64  \n",
      " 2   trestbps   303 non-null    int64  \n",
      " 3   chol       303 non-null    int64  \n",
      " 4   fbs        303 non-null    int64  \n",
      " 5   thalach    303 non-null    int64  \n",
      " 6   exang      303 non-null    int64  \n",
      " 7   oldpeak    303 non-null    float64\n",
      " 8   ca         303 non-null    int64  \n",
      " 9   target     303 non-null    int64  \n",
      " 10  cp_0       303 non-null    uint8  \n",
      " 11  cp_1       303 non-null    uint8  \n",
      " 12  cp_2       303 non-null    uint8  \n",
      " 13  cp_3       303 non-null    uint8  \n",
      " 14  restecg_0  303 non-null    uint8  \n",
      " 15  restecg_1  303 non-null    uint8  \n",
      " 16  restecg_2  303 non-null    uint8  \n",
      " 17  slope_0    303 non-null    uint8  \n",
      " 18  slope_1    303 non-null    uint8  \n",
      " 19  slope_2    303 non-null    uint8  \n",
      " 20  thal_0     303 non-null    uint8  \n",
      " 21  thal_1     303 non-null    uint8  \n",
      " 22  thal_2     303 non-null    uint8  \n",
      " 23  thal_3     303 non-null    uint8  \n",
      "dtypes: float64(1), int64(9), uint8(14)\n",
      "memory usage: 27.9 KB\n"
     ]
    }
   ],
   "source": [
    "# TODO：打印数据info，查看Onehot编码是否成功\n",
    "data.info()"
   ]
  },
  {
   "cell_type": "markdown",
   "id": "focused-first",
   "metadata": {},
   "source": [
    "### 问题2：数据、标签划分\n",
    "&emsp;&emsp;请对data数据进行标签划分，划分出x_data（Data）与y_data(Laber)。<br>"
   ]
  },
  {
   "cell_type": "code",
   "execution_count": 32,
   "id": "loved-sphere",
   "metadata": {
    "pycharm": {
     "name": "#%%\n"
    }
   },
   "outputs": [],
   "source": [
    "# TODO：将data数据划分为x_data（Data）与y_data(Laber)\n",
    "x_data = data.drop(['target'],axis=1)\n",
    "y_data = data.target.values"
   ]
  },
  {
   "cell_type": "markdown",
   "id": "separated-species",
   "metadata": {},
   "source": [
    "### 问题3：归一化处理\n",
    "&emsp;&emsp;请对所有数据列进行归一化处理。<br>"
   ]
  },
  {
   "cell_type": "code",
   "execution_count": 33,
   "id": "unavailable-python",
   "metadata": {
    "pycharm": {
     "name": "#%%\n"
    }
   },
   "outputs": [],
   "source": [
    "# TODO：对x_data进行归一化处理\n",
    "standardScaler = StandardScaler()\n",
    "standardScaler.fit(x_data)\n",
    "X_train = standardScaler.transform(x_data)"
   ]
  },
  {
   "cell_type": "markdown",
   "id": "regular-castle",
   "metadata": {},
   "source": [
    "### 问题4：训练、测试集划分\n",
    "&emsp;&emsp;请对数据与标签进行训练集、测试集划分，划分比例为：测试集占30%。<br>"
   ]
  },
  {
   "cell_type": "code",
   "execution_count": 34,
   "id": "genuine-envelope",
   "metadata": {
    "pycharm": {
     "name": "#%%\n"
    }
   },
   "outputs": [],
   "source": [
    "# TODO：将x_data、y_data划分成X_train,X_test,y_train,y_test，其中test占30%。\n",
    "X_train,X_test,y_train,y_test = train_test_split(x_data,y_data,test_size=0.3, random_state=33)"
   ]
  },
  {
   "cell_type": "markdown",
   "id": "extreme-metabolism",
   "metadata": {},
   "source": [
    "### 问题5：模型定义、训练及评估\n",
    "&emsp;&emsp;请完成LogisticRegression模型的定义、训练及评估。<br>"
   ]
  },
  {
   "cell_type": "code",
   "execution_count": 35,
   "id": "acoustic-finance",
   "metadata": {
    "pycharm": {
     "name": "#%%\n"
    }
   },
   "outputs": [],
   "source": [
    "# TODO：请定义一个LogisticRegression模型\n",
    "model = LogisticRegression(max_iter=1000)"
   ]
  },
  {
   "cell_type": "code",
   "execution_count": 36,
   "id": "narrative-clearing",
   "metadata": {
    "pycharm": {
     "name": "#%%\n"
    },
    "scrolled": true
   },
   "outputs": [
    {
     "name": "stderr",
     "output_type": "stream",
     "text": [
      "/Users/bubble/opt/miniconda3/envs/pt/lib/python3.6/site-packages/sklearn/linear_model/_logistic.py:765: ConvergenceWarning: lbfgs failed to converge (status=1):\n",
      "STOP: TOTAL NO. of ITERATIONS REACHED LIMIT.\n",
      "\n",
      "Increase the number of iterations (max_iter) or scale the data as shown in:\n",
      "    https://scikit-learn.org/stable/modules/preprocessing.html\n",
      "Please also refer to the documentation for alternative solver options:\n",
      "    https://scikit-learn.org/stable/modules/linear_model.html#logistic-regression\n",
      "  extra_warning_msg=_LOGISTIC_SOLVER_CONVERGENCE_MSG)\n"
     ]
    },
    {
     "data": {
      "text/plain": [
       "LogisticRegression(max_iter=1000)"
      ]
     },
     "execution_count": 36,
     "metadata": {},
     "output_type": "execute_result"
    }
   ],
   "source": [
    "# TODO：请使用训练数据对LogisticRegression模型进行训练\n",
    "model.fit(X_train,y_train)"
   ]
  },
  {
   "cell_type": "code",
   "execution_count": 37,
   "id": "surgical-verification",
   "metadata": {
    "pycharm": {
     "name": "#%%\n"
    }
   },
   "outputs": [
    {
     "data": {
      "text/plain": [
       "0.8773584905660378"
      ]
     },
     "execution_count": 37,
     "metadata": {},
     "output_type": "execute_result"
    }
   ],
   "source": [
    "# TODO：请使用训练数据对模型进行评估\n",
    "model.score(X_train,y_train)"
   ]
  },
  {
   "cell_type": "code",
   "execution_count": 38,
   "id": "welcome-mixture",
   "metadata": {
    "pycharm": {
     "name": "#%%\n"
    },
    "scrolled": true
   },
   "outputs": [
    {
     "data": {
      "text/plain": [
       "0.8461538461538461"
      ]
     },
     "execution_count": 38,
     "metadata": {},
     "output_type": "execute_result"
    }
   ],
   "source": [
    "# TODO：请使用测试数据对模型进行评估\n",
    "model.score(X_test,y_test)"
   ]
  },
  {
   "cell_type": "markdown",
   "id": "needed-lyric",
   "metadata": {},
   "source": [
    "### 问题6：检查主要评价指标\n",
    "&emsp;&emsp;请使用主要评价指标对模型进行评价。<br>"
   ]
  },
  {
   "cell_type": "code",
   "execution_count": 39,
   "id": "typical-preparation",
   "metadata": {
    "pycharm": {
     "name": "#%%\n"
    }
   },
   "outputs": [],
   "source": [
    "# TODO：请使用X_test数据进行模型预测\n",
    "y_predict = model.predict(X_test)"
   ]
  },
  {
   "cell_type": "code",
   "execution_count": 40,
   "id": "dominant-hostel",
   "metadata": {
    "pycharm": {
     "name": "#%%\n"
    },
    "scrolled": false
   },
   "outputs": [
    {
     "name": "stdout",
     "output_type": "stream",
     "text": [
      "              precision    recall  f1-score   support\n",
      "\n",
      "           0       0.89      0.82      0.85        50\n",
      "           1       0.80      0.88      0.84        41\n",
      "\n",
      "    accuracy                           0.85        91\n",
      "   macro avg       0.85      0.85      0.85        91\n",
      "weighted avg       0.85      0.85      0.85        91\n",
      "\n"
     ]
    }
   ],
   "source": [
    "# TODO：请使用主要评价指标对模型进行评价\n",
    "print(classification_report(y_test,y_predict))"
   ]
  }
 ],
 "metadata": {
  "kernelspec": {
   "display_name": "Python 3",
   "language": "python",
   "name": "python3"
  },
  "language_info": {
   "codemirror_mode": {
    "name": "ipython",
    "version": 3
   },
   "file_extension": ".py",
   "mimetype": "text/x-python",
   "name": "python",
   "nbconvert_exporter": "python",
   "pygments_lexer": "ipython3",
   "version": "3.8.0"
  }
 },
 "nbformat": 4,
 "nbformat_minor": 5
}
