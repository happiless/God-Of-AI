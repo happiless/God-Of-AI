{
 "cells": [
  {
   "cell_type": "markdown",
   "id": "based-drilling",
   "metadata": {},
   "source": [
    "## 使用 LSTM 拟合正余弦函数"
   ]
  },
  {
   "cell_type": "code",
   "execution_count": 1,
   "id": "spatial-republic",
   "metadata": {},
   "outputs": [],
   "source": [
    "# 导入必要的库\n",
    "import numpy as np  # 构建数据\n",
    "# 搭建模型\n",
    "from tensorflow.keras.models import Sequential\n",
    "from tensorflow.keras.layers import Input\n",
    "from tensorflow.keras.layers import LSTM\n",
    "from tensorflow.keras.layers import Dense\n",
    "\n",
    "from tqdm import tqdm  # 打印进度条\n",
    "\n",
    "import matplotlib.pyplot as plt  # 可视化\n",
    "%matplotlib inline"
   ]
  },
  {
   "cell_type": "markdown",
   "id": "related-workshop",
   "metadata": {},
   "source": [
    "### 1. 构造数据集"
   ]
  },
  {
   "cell_type": "markdown",
   "id": "criminal-literature",
   "metadata": {},
   "source": [
    "这一模块将使用 numpy 构造时间序列数据，主要有两个步骤：\n",
    "\n",
    "1. 定义正弦函数 (余弦函数)\n",
    "2. 选定历史数据窗口大小构造时序数据"
   ]
  },
  {
   "cell_type": "code",
   "execution_count": 2,
   "id": "biblical-validation",
   "metadata": {},
   "outputs": [],
   "source": [
    "def ground_func(x):\n",
    "    \"\"\"sine/cosine function.\n",
    "    \n",
    "    Args:\n",
    "        x: numpy.ndarray\n",
    "    \n",
    "    return:\n",
    "        sin(x) or cos(x)\n",
    "    \"\"\"\n",
    "    ######## your code ~ 1 line ########\n",
    "    y = ...\n",
    "    ######## your code ########\n",
    "    return y"
   ]
  },
  {
   "cell_type": "code",
   "execution_count": 3,
   "id": "aerial-lending",
   "metadata": {},
   "outputs": [],
   "source": [
    "def build_data(sequence_data, n_steps):\n",
    "    \"\"\"Use sine function data to build X, y.\n",
    "    \n",
    "    Args:\n",
    "        sine_data: numpy.ndarray\n",
    "        n_steps: history data window size\n",
    "    \n",
    "    return:\n",
    "        X: numpy.ndaray, y: numpy.ndarray\n",
    "    \"\"\"\n",
    "    # init \n",
    "    X, y = [], []\n",
    "    \n",
    "    seq_len = len(sequence_data)\n",
    "    for start_idx in tqdm(range(seq_len), total=seq_len):\n",
    "        end_idx = start_idx + n_steps\n",
    "        \n",
    "        if end_idx >= seq_len:\n",
    "            break\n",
    "        \n",
    "        ######## your code ~ 2 line ########\n",
    "        # hits:\n",
    "        #     1. sequence data in slice(start_idx, end_idx) as current x\n",
    "        #     2. end index data as current y\n",
    "        cur_x = ...\n",
    "        cur_y = ...\n",
    "        ######## your code ########\n",
    "        \n",
    "        X.append(cur_x)\n",
    "        y.append(cur_y)\n",
    "        \n",
    "    X = np.array(X)\n",
    "    y = np.array(y)\n",
    "    \n",
    "    # *X.shape get number of examples and n_steps, but LSTM need inputs like (batch, n_steps, n_features),\n",
    "    # here we only have 1 feature\n",
    "    X = X.reshape(*X.shape, 1)\n",
    "        \n",
    "    return X, y"
   ]
  },
  {
   "cell_type": "code",
   "execution_count": null,
   "id": "external-courage",
   "metadata": {},
   "outputs": [],
   "source": [
    "# 构造原始正弦/余弦函数序列\n",
    "xaxis = np.arange(-50 * np.pi, 50 * np.pi, 0.1)\n",
    "sequence_data = ground_func(xaxis)\n",
    "len(sequence_data)  # 查看数据量"
   ]
  },
  {
   "cell_type": "code",
   "execution_count": null,
   "id": "superb-funeral",
   "metadata": {},
   "outputs": [],
   "source": [
    "# 取 1000 个数据进行可视化\n",
    "plt.figure(figsize=(20, 8))\n",
    "plt.plot(xaxis[:1000], sequence_data[:1000]);"
   ]
  },
  {
   "cell_type": "code",
   "execution_count": null,
   "id": "ecological-boating",
   "metadata": {},
   "outputs": [],
   "source": [
    "n_steps = 20  # 可以尝试更改\n",
    "X, y = build_data(sequence_data, n_steps)\n",
    "X.shape, y.shape  # 查看 X, y 的维度信息"
   ]
  },
  {
   "cell_type": "markdown",
   "id": "female-black",
   "metadata": {},
   "source": [
    "### 2. 搭建模型"
   ]
  },
  {
   "cell_type": "markdown",
   "id": "manufactured-census",
   "metadata": {},
   "source": [
    "本模块基于 keras 中的 LSTM、Dense 层搭建时序模型，需要注意以下几点：\n",
    "1. 选择合适的 hidden size\n",
    "2. 选择合适的激活函数，比如 relu、tanh\n",
    "3. 优化器选择 sgd、adam 等等\n",
    "3. 损失函数选择交叉熵损失函数(cross_entropy) 还是均方误差(mse) 等等 "
   ]
  },
  {
   "cell_type": "code",
   "execution_count": 5,
   "id": "vertical-monkey",
   "metadata": {},
   "outputs": [],
   "source": [
    "def create_model():\n",
    "    \"\"\"Build a LSTM model fit sine/cosine function.\n",
    "    \n",
    "    hints: \n",
    "        1. a LSTM fit time pattern (ref: https://www.tensorflow.org/api_docs/python/tf/keras/layers/LSTM)\n",
    "        2. a Dense for regression (ref: https://www.tensorflow.org/api_docs/python/tf/keras/layers/Dense)\n",
    "    \"\"\"\n",
    "    ######## your code ~ 5 line ########\n",
    "    model = ...\n",
    "    ...\n",
    "    ######## your code ########\n",
    "    return model"
   ]
  },
  {
   "cell_type": "code",
   "execution_count": null,
   "id": "touched-profit",
   "metadata": {},
   "outputs": [],
   "source": [
    "# 初始化模型并打印相关信息\n",
    "model = create_model()\n",
    "model.summary()"
   ]
  },
  {
   "cell_type": "markdown",
   "id": "atmospheric-bridges",
   "metadata": {},
   "source": [
    "### 3. 模型训练"
   ]
  },
  {
   "cell_type": "code",
   "execution_count": null,
   "id": "russian-astronomy",
   "metadata": {},
   "outputs": [],
   "source": [
    "# 尝试更改 epochs ，加入 callbacks，例如 EarlyStopping (https://www.tensorflow.org/api_docs/python/tf/keras/callbacks/EarlyStopping)\n",
    "history = model.fit(X, y, batch_size=32, epochs=25, verbose=1)\n",
    "plt.plot(history.history['loss'], label=\"loss\")\n",
    "plt.legend(loc=\"upper right\")  # 画出损失图像"
   ]
  },
  {
   "cell_type": "markdown",
   "id": "critical-classroom",
   "metadata": {},
   "source": [
    "### 4. 预测"
   ]
  },
  {
   "cell_type": "markdown",
   "id": "wound-accommodation",
   "metadata": {},
   "source": [
    "本模块使用和训练数据不同的函数构造测试数据来验证模型的泛化性能，主要有以下几个步骤：\n",
    "1. 定义新的函数 (sine/cosine)\n",
    "2. 利用训练好的模型进行预测\n",
    "3. 将模型预测结果和真实值进行可视化对比"
   ]
  },
  {
   "cell_type": "code",
   "execution_count": 6,
   "id": "genuine-certification",
   "metadata": {},
   "outputs": [],
   "source": [
    "def test_func(x):\n",
    "    \"\"\"sine/cosine function, different from ground_func above.\n",
    "    \n",
    "    Args:\n",
    "        x: numpy.ndarray\n",
    "    \n",
    "    return:\n",
    "        sin(x) or cos(x)\n",
    "    \"\"\"\n",
    "    ######## your code ~ 1 line ########\n",
    "    y = ...\n",
    "    ######## your code ########\n",
    "    return y"
   ]
  },
  {
   "cell_type": "code",
   "execution_count": null,
   "id": "coral-peeing",
   "metadata": {},
   "outputs": [],
   "source": [
    "test_xaxis = np.arange(0, 10 * np.pi, 0.1)\n",
    "\n",
    "test_sequence_data = test_function(test_xaxis)\n",
    "\n",
    "# 利用初始的 n_steps 个历史数据开始预测，后面的数据依次利用预测出的数据作为历史数据进行进一步预测\n",
    "y_preds = test_sequence_data[:n_steps]\n",
    "\n",
    "# 逐步预测\n",
    "for i in tqdm(range(len(test_xaxis) - n_steps)):\n",
    "    model_input = y_preds[i: i + n_steps]\n",
    "    model_input = model_input.reshape((1, n_steps, 1))\n",
    "    ######## your code ~ 1 line ########\n",
    "    y_preds = ...\n",
    "    ######## your code ########\n",
    "    y_preds = np.append(y_preds, y_pred)"
   ]
  },
  {
   "cell_type": "code",
   "execution_count": null,
   "id": "pointed-illinois",
   "metadata": {},
   "outputs": [],
   "source": [
    "# 可视化\n",
    "plt.figure(figsize=(10, 8))\n",
    "plt.plot(test_xaxis[n_steps:], y_preds[n_steps:], label=\"predicitons\")\n",
    "plt.plot(test_xaxis, test_sequence_data, label=\"ground truth\")\n",
    "plt.plot(test_xaxis[:n_steps], y_preds[:n_steps], label=\"initial sequence\", color=\"red\")\n",
    "plt.legend(loc='upper left')\n",
    "plt.ylim(-2, 2)\n",
    "plt.show()"
   ]
  }
 ],
 "metadata": {
  "kernelspec": {
   "display_name": "Python 3",
   "language": "python",
   "name": "python3"
  },
  "language_info": {
   "codemirror_mode": {
    "name": "ipython",
    "version": 3
   },
   "file_extension": ".py",
   "mimetype": "text/x-python",
   "name": "python",
   "nbconvert_exporter": "python",
   "pygments_lexer": "ipython3",
   "version": "3.7.9"
  }
 },
 "nbformat": 4,
 "nbformat_minor": 5
}
